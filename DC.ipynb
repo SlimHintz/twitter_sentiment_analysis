{
 "cells": [
  {
   "cell_type": "code",
   "execution_count": 78,
   "metadata": {},
   "outputs": [],
   "source": [
    "import pandas as pd\n",
    "import numpy as np\n",
    "from datetime import date\n",
    "import time\n",
    "import gcld3\n",
    "import warnings \n",
    "import emoji\n",
    "import re\n",
    "import nltk\n",
    "from nltk.corpus import stopwords\n",
    "from scripts.scripts import *\n",
    "warnings.filterwarnings(\"ignore\") \n",
    "\n",
    "pd.set_option('display.max_columns', 300)\n",
    "pd.set_option('display.max_rows', 200)"
   ]
  },
  {
   "cell_type": "code",
   "execution_count": 2,
   "metadata": {},
   "outputs": [
    {
     "name": "stderr",
     "output_type": "stream",
     "text": [
      "Skipping line 129970: ',' expected after '\"'\n",
      "Skipping line 235431: ',' expected after '\"'\n",
      "Skipping line 269778: ',' expected after '\"'\n",
      "Skipping line 276452: ',' expected after '\"'\n",
      "Skipping line 201421: ',' expected after '\"'\n",
      "Skipping line 74247: ',' expected after '\"'\n",
      "Skipping line 197383: ',' expected after '\"'\n",
      "Skipping line 222434: ',' expected after '\"'\n",
      "Skipping line 234201: ',' expected after '\"'\n",
      "Skipping line 256441: ',' expected after '\"'\n",
      "Skipping line 137005: ',' expected after '\"'\n",
      "Skipping line 157999: ',' expected after '\"'\n",
      "Skipping line 158000: ',' expected after '\"'\n",
      "Skipping line 185665: ',' expected after '\"'\n"
     ]
    }
   ],
   "source": [
    "df1 = pd.read_json('/Volumes/ML_projects/Phase4data/Iphone12.json', lines=True)\n",
    "df2 = pd.read_csv('/Volumes/ML_projects/Phase4data/apple_silicon_SEARCH.csv')\n",
    "df3 = pd.read_csv('/Volumes/ML_projects/Phase4data/M1_MacBook_SEARCH.csv')\n",
    "df4 = pd.read_csv('/Volumes/ML_projects/Phase4data/new_macbook_SEARCH.csv')\n",
    "df5 = pd.read_csv('/Volumes/ML_projects/Phase4data/Iphone_12_Pro_SEARCH.csv', error_bad_lines=False, engine=\"python\")\n",
    "df6 = pd.read_csv('/Volumes/ML_projects/Phase4data/new_Apple_SEARCH.csv', error_bad_lines=False, engine=\"python\")\n",
    "df7 = pd.read_csv('/Volumes/ML_projects/Phase4data/new_iphone_SEARCH.csv', error_bad_lines=False, engine=\"python\")\n",
    "df8 = pd.read_csv('/Volumes/ML_projects/Phase4data/Silicon_SEARCH.csv', error_bad_lines=False, engine=\"python\")"
   ]
  },
  {
   "cell_type": "markdown",
   "metadata": {},
   "source": [
    "Add search terms to each dataframe before concatinating. "
   ]
  },
  {
   "cell_type": "code",
   "execution_count": 3,
   "metadata": {},
   "outputs": [],
   "source": [
    "df1['search_term'] = 'iphone 12'\n",
    "df2['search_term'] = 'apple silicon'\n",
    "df3['search_term'] = 'M1 macbook'\n",
    "df4['search_term'] = 'new macbook'\n",
    "df5['search_term'] = 'iphone 12 pro'\n",
    "df6['search_term'] = 'new apple'\n",
    "df7['search_term'] = 'new iphone'\n",
    "df8['search_term'] = 'silicon'"
   ]
  },
  {
   "cell_type": "code",
   "execution_count": 4,
   "metadata": {},
   "outputs": [],
   "source": [
    "frames = [df1, df2, df3, df4, df5, df6, df7, df8]"
   ]
  },
  {
   "cell_type": "code",
   "execution_count": 5,
   "metadata": {},
   "outputs": [],
   "source": [
    "main = pd.concat(frames, ignore_index=True)"
   ]
  },
  {
   "cell_type": "code",
   "execution_count": 6,
   "metadata": {},
   "outputs": [
    {
     "data": {
      "text/plain": [
       "(2425258, 37)"
      ]
     },
     "execution_count": 6,
     "metadata": {},
     "output_type": "execute_result"
    }
   ],
   "source": [
    "main.shape"
   ]
  },
  {
   "cell_type": "markdown",
   "metadata": {},
   "source": [
    "# Remove Foreign Language Tweets"
   ]
  },
  {
   "cell_type": "code",
   "execution_count": 7,
   "metadata": {},
   "outputs": [],
   "source": [
    "main = main.loc[main['language'] == 'en']"
   ]
  },
  {
   "cell_type": "code",
   "execution_count": 8,
   "metadata": {},
   "outputs": [
    {
     "data": {
      "text/plain": [
       "(1582752, 37)"
      ]
     },
     "execution_count": 8,
     "metadata": {},
     "output_type": "execute_result"
    }
   ],
   "source": [
    "main.shape"
   ]
  },
  {
   "cell_type": "markdown",
   "metadata": {},
   "source": [
    "# Convert Emojis to text"
   ]
  },
  {
   "cell_type": "code",
   "execution_count": 9,
   "metadata": {},
   "outputs": [],
   "source": [
    "# new clean_tweet columns\n",
    "main['c_tweet'] = 'cleaned'"
   ]
  },
  {
   "cell_type": "code",
   "execution_count": 11,
   "metadata": {},
   "outputs": [],
   "source": [
    "main['c_tweet'] = main.tweet.apply(emoji.demojize)"
   ]
  },
  {
   "cell_type": "markdown",
   "metadata": {},
   "source": [
    "# Remove numbers"
   ]
  },
  {
   "cell_type": "code",
   "execution_count": 50,
   "metadata": {},
   "outputs": [],
   "source": [
    "main['c_tweet'] = main.c_tweet.apply(cleaner_text)"
   ]
  },
  {
   "cell_type": "markdown",
   "metadata": {},
   "source": [
    "# Remove special Characters"
   ]
  },
  {
   "cell_type": "code",
   "execution_count": 51,
   "metadata": {},
   "outputs": [],
   "source": [
    "main['c_tweet'] = main.c_tweet.apply(clean_hash)"
   ]
  },
  {
   "cell_type": "code",
   "execution_count": 36,
   "metadata": {},
   "outputs": [],
   "source": [
    "main.to_csv('/Volumes/ML_projects/Phase4data/appletweet.csv')"
   ]
  },
  {
   "cell_type": "markdown",
   "metadata": {},
   "source": [
    "##### Drop Duplicate Tweets"
   ]
  },
  {
   "cell_type": "code",
   "execution_count": 52,
   "metadata": {},
   "outputs": [
    {
     "data": {
      "text/plain": [
       "(985657, 38)"
      ]
     },
     "execution_count": 52,
     "metadata": {},
     "output_type": "execute_result"
    }
   ],
   "source": [
    "# If tweet is repeated multiple times only keep last occurance.\n",
    "main = main.drop_duplicates(subset='c_tweet', keep='last')\n",
    "main.shape"
   ]
  },
  {
   "cell_type": "markdown",
   "metadata": {},
   "source": [
    "# Create Stopwords"
   ]
  },
  {
   "cell_type": "code",
   "execution_count": 55,
   "metadata": {},
   "outputs": [],
   "source": [
    "stop_words=list(set(stopwords.words(\"english\")))"
   ]
  },
  {
   "cell_type": "code",
   "execution_count": 56,
   "metadata": {},
   "outputs": [],
   "source": [
    "stop_words.extend([\"ll\", \"please retweet\", \"help rt\", \"visit us\",\n",
    "                   \"please subscribe\", \"for sale\", \"enter here\", \n",
    "                   \"to win\", \"from iphone\", \"huge giveaway\", \"new arrival\", \n",
    "                   \"win an\", \"unlocked now\", \"new available\", \"giveaway\", \n",
    "                   \"subscribe\", \"retweet\", \"easter egg\"])"
   ]
  },
  {
   "cell_type": "code",
   "execution_count": 57,
   "metadata": {},
   "outputs": [],
   "source": [
    "eda_stopwords = [\"iphone\", \"iphone pro\", \"pro max\", \"youtube\", \"youtuber\", \"youtubers\", \n",
    "                 \"also\", \"asap\", \"hmmm\",\"hello\", \"haha\", \"dont\", \"imac\", \"ipad\", \n",
    "                 \"ipadair\", \"ipads\", \"iphonecase\", \"iphonemini\", \"iphonepro\", \"iphonepromax\", \n",
    "                 \"iphones\", \"iphoneth\", \"ipod\",  \"lmao\", \"lmfao\", \"macbook\", \"macbookair\",\n",
    "                 \"macbookpro\", \"macbooks\", \"macosbigsur\", \"macmini\", \"magsafe\", \n",
    "                 \"okay\", \"promax\", \"wahala\", \"wont\", 'yall','yeah', 'apple', 'skin', 'tone', \"man\", \"pro\", \"face\", \"loudly\",]\n",
    "\n",
    "stop_words.extend(eda_stopwords)"
   ]
  },
  {
   "cell_type": "code",
   "execution_count": 58,
   "metadata": {},
   "outputs": [
    {
     "data": {
      "text/plain": [
       "242"
      ]
     },
     "execution_count": 58,
     "metadata": {},
     "output_type": "execute_result"
    }
   ],
   "source": [
    "len(stop_words)"
   ]
  },
  {
   "cell_type": "markdown",
   "metadata": {},
   "source": [
    "# Tokenize/Lemmatize"
   ]
  },
  {
   "cell_type": "code",
   "execution_count": 67,
   "metadata": {},
   "outputs": [],
   "source": [
    "lemmatizer = nltk.stem.WordNetLemmatizer()\n",
    "tokenizer = nltk.tokenize.TweetTokenizer()"
   ]
  },
  {
   "cell_type": "code",
   "execution_count": 68,
   "metadata": {},
   "outputs": [],
   "source": [
    "def lemmatize_text(text):\n",
    "     return [lemmatizer.lemmatize(word.replace(\" \", \"\")) for word in tokenizer.tokenize(text)]"
   ]
  },
  {
   "cell_type": "code",
   "execution_count": 69,
   "metadata": {},
   "outputs": [],
   "source": [
    "main['tokenized'] = main.c_tweet.apply(lemmatize_text)"
   ]
  },
  {
   "cell_type": "code",
   "execution_count": 70,
   "metadata": {},
   "outputs": [],
   "source": [
    "#Remove stop words, and words with only 2 chars. \n",
    "main['filtered'] = main['tokenized'].apply(lambda x: [item for item in x if item not in stop_words and len(item)>2])"
   ]
  },
  {
   "cell_type": "code",
   "execution_count": 71,
   "metadata": {},
   "outputs": [
    {
     "data": {
      "text/html": [
       "<div>\n",
       "<style scoped>\n",
       "    .dataframe tbody tr th:only-of-type {\n",
       "        vertical-align: middle;\n",
       "    }\n",
       "\n",
       "    .dataframe tbody tr th {\n",
       "        vertical-align: top;\n",
       "    }\n",
       "\n",
       "    .dataframe thead th {\n",
       "        text-align: right;\n",
       "    }\n",
       "</style>\n",
       "<table border=\"1\" class=\"dataframe\">\n",
       "  <thead>\n",
       "    <tr style=\"text-align: right;\">\n",
       "      <th></th>\n",
       "      <th>id</th>\n",
       "      <th>conversation_id</th>\n",
       "      <th>created_at</th>\n",
       "      <th>date</th>\n",
       "      <th>time</th>\n",
       "      <th>timezone</th>\n",
       "      <th>user_id</th>\n",
       "      <th>username</th>\n",
       "      <th>name</th>\n",
       "      <th>place</th>\n",
       "      <th>tweet</th>\n",
       "      <th>language</th>\n",
       "      <th>mentions</th>\n",
       "      <th>urls</th>\n",
       "      <th>photos</th>\n",
       "      <th>replies_count</th>\n",
       "      <th>retweets_count</th>\n",
       "      <th>likes_count</th>\n",
       "      <th>hashtags</th>\n",
       "      <th>cashtags</th>\n",
       "      <th>link</th>\n",
       "      <th>retweet</th>\n",
       "      <th>quote_url</th>\n",
       "      <th>video</th>\n",
       "      <th>thumbnail</th>\n",
       "      <th>near</th>\n",
       "      <th>geo</th>\n",
       "      <th>source</th>\n",
       "      <th>user_rt_id</th>\n",
       "      <th>user_rt</th>\n",
       "      <th>retweet_id</th>\n",
       "      <th>reply_to</th>\n",
       "      <th>retweet_date</th>\n",
       "      <th>translate</th>\n",
       "      <th>trans_src</th>\n",
       "      <th>trans_dest</th>\n",
       "      <th>search_term</th>\n",
       "      <th>c_tweet</th>\n",
       "      <th>tokenized</th>\n",
       "      <th>filtered</th>\n",
       "      <th>delisted</th>\n",
       "    </tr>\n",
       "  </thead>\n",
       "  <tbody>\n",
       "    <tr>\n",
       "      <th>5</th>\n",
       "      <td>1333818145094643713</td>\n",
       "      <td>1333818145094643712</td>\n",
       "      <td>2020-12-01 12:00:01 EST</td>\n",
       "      <td>2020-12-01 00:00:00</td>\n",
       "      <td>12:00:01</td>\n",
       "      <td>-500</td>\n",
       "      <td>1600309820</td>\n",
       "      <td>coolmuster</td>\n",
       "      <td>Coolmuster</td>\n",
       "      <td></td>\n",
       "      <td>#iPhone12 #Android iPhone 12 vs Android’s best...</td>\n",
       "      <td>en</td>\n",
       "      <td>[]</td>\n",
       "      <td>[https://bit.ly/37hILmw]</td>\n",
       "      <td>[https://pbs.twimg.com/media/EoKezKZUYAQr6_2.jpg]</td>\n",
       "      <td>0</td>\n",
       "      <td>0</td>\n",
       "      <td>0</td>\n",
       "      <td>[iphone12, android]</td>\n",
       "      <td>[]</td>\n",
       "      <td>https://twitter.com/coolmuster/status/13338181...</td>\n",
       "      <td>False</td>\n",
       "      <td></td>\n",
       "      <td>1</td>\n",
       "      <td>https://pbs.twimg.com/media/EoKezKZUYAQr6_2.jpg</td>\n",
       "      <td></td>\n",
       "      <td></td>\n",
       "      <td></td>\n",
       "      <td></td>\n",
       "      <td></td>\n",
       "      <td></td>\n",
       "      <td>[]</td>\n",
       "      <td></td>\n",
       "      <td></td>\n",
       "      <td></td>\n",
       "      <td></td>\n",
       "      <td>iphone 12</td>\n",
       "      <td>iphone android iphone vs android best it time ...</td>\n",
       "      <td>[iphone, android, iphone, v, android, best, it...</td>\n",
       "      <td>[android, android, best, time, consider, switc...</td>\n",
       "      <td>android, android, best, time, consider, switch...</td>\n",
       "    </tr>\n",
       "    <tr>\n",
       "      <th>6</th>\n",
       "      <td>1333818137251287040</td>\n",
       "      <td>1333813308747620352</td>\n",
       "      <td>2020-12-01 11:59:59 EST</td>\n",
       "      <td>2020-12-01 00:00:00</td>\n",
       "      <td>11:59:59</td>\n",
       "      <td>-500</td>\n",
       "      <td>1257039074696867840</td>\n",
       "      <td>nanaakuamensah4</td>\n",
       "      <td>Nana_Akua🇬🇭❤️🌟🌟🌟🌟🌟</td>\n",
       "      <td></td>\n",
       "      <td>@cuppymusic I'm asking DJ cuppy Please I want ...</td>\n",
       "      <td>en</td>\n",
       "      <td>[]</td>\n",
       "      <td>[]</td>\n",
       "      <td>[]</td>\n",
       "      <td>0</td>\n",
       "      <td>0</td>\n",
       "      <td>0</td>\n",
       "      <td>[]</td>\n",
       "      <td>[]</td>\n",
       "      <td>https://twitter.com/NanaAkuamensah4/status/133...</td>\n",
       "      <td>False</td>\n",
       "      <td></td>\n",
       "      <td>0</td>\n",
       "      <td></td>\n",
       "      <td></td>\n",
       "      <td></td>\n",
       "      <td></td>\n",
       "      <td></td>\n",
       "      <td></td>\n",
       "      <td></td>\n",
       "      <td>[{'screen_name': 'cuppymusic', 'name': 'Cuppy ...</td>\n",
       "      <td></td>\n",
       "      <td></td>\n",
       "      <td></td>\n",
       "      <td></td>\n",
       "      <td>iphone 12</td>\n",
       "      <td>asking dj cuppy please want an iphone</td>\n",
       "      <td>[asking, dj, cuppy, please, want, an, iphone]</td>\n",
       "      <td>[asking, cuppy, please, want]</td>\n",
       "      <td>asking, cuppy, please, want</td>\n",
       "    </tr>\n",
       "    <tr>\n",
       "      <th>15</th>\n",
       "      <td>1333818003423698949</td>\n",
       "      <td>1333818003423698944</td>\n",
       "      <td>2020-12-01 11:59:27 EST</td>\n",
       "      <td>2020-12-01 00:00:00</td>\n",
       "      <td>11:59:27</td>\n",
       "      <td>-500</td>\n",
       "      <td>1901298962</td>\n",
       "      <td>naija_pr</td>\n",
       "      <td>Naija</td>\n",
       "      <td></td>\n",
       "      <td>The moment Mercy Eke sprays her friend $3000 c...</td>\n",
       "      <td>en</td>\n",
       "      <td>[]</td>\n",
       "      <td>[]</td>\n",
       "      <td>[]</td>\n",
       "      <td>0</td>\n",
       "      <td>1</td>\n",
       "      <td>3</td>\n",
       "      <td>[]</td>\n",
       "      <td>[]</td>\n",
       "      <td>https://twitter.com/Naija_PR/status/1333818003...</td>\n",
       "      <td>False</td>\n",
       "      <td></td>\n",
       "      <td>1</td>\n",
       "      <td>https://pbs.twimg.com/ext_tw_video_thumb/13338...</td>\n",
       "      <td></td>\n",
       "      <td></td>\n",
       "      <td></td>\n",
       "      <td></td>\n",
       "      <td></td>\n",
       "      <td></td>\n",
       "      <td>[]</td>\n",
       "      <td></td>\n",
       "      <td></td>\n",
       "      <td></td>\n",
       "      <td></td>\n",
       "      <td>iphone 12</td>\n",
       "      <td>the moment mercy eke sprays her friend cash an...</td>\n",
       "      <td>[the, moment, mercy, eke, spray, her, friend, ...</td>\n",
       "      <td>[moment, mercy, eke, spray, friend, cash, gave...</td>\n",
       "      <td>moment, mercy, eke, spray, friend, cash, gave,...</td>\n",
       "    </tr>\n",
       "    <tr>\n",
       "      <th>22</th>\n",
       "      <td>1333817867377192960</td>\n",
       "      <td>1333353705731743744</td>\n",
       "      <td>2020-12-01 11:58:55 EST</td>\n",
       "      <td>2020-12-01 00:00:00</td>\n",
       "      <td>11:58:55</td>\n",
       "      <td>-500</td>\n",
       "      <td>302785756</td>\n",
       "      <td>holliebear80</td>\n",
       "      <td>Kate</td>\n",
       "      <td></td>\n",
       "      <td>@CraigStrife Aww back at you Mr S 😘 &amp;amp; Appl...</td>\n",
       "      <td>en</td>\n",
       "      <td>[]</td>\n",
       "      <td>[]</td>\n",
       "      <td>[]</td>\n",
       "      <td>0</td>\n",
       "      <td>0</td>\n",
       "      <td>0</td>\n",
       "      <td>[]</td>\n",
       "      <td>[]</td>\n",
       "      <td>https://twitter.com/Holliebear80/status/133381...</td>\n",
       "      <td>False</td>\n",
       "      <td></td>\n",
       "      <td>0</td>\n",
       "      <td></td>\n",
       "      <td></td>\n",
       "      <td></td>\n",
       "      <td></td>\n",
       "      <td></td>\n",
       "      <td></td>\n",
       "      <td></td>\n",
       "      <td>[{'screen_name': 'CraigStrife', 'name': 'Craig...</td>\n",
       "      <td></td>\n",
       "      <td></td>\n",
       "      <td></td>\n",
       "      <td></td>\n",
       "      <td>iphone 12</td>\n",
       "      <td>aww back at you mr amp apple still the iphone ...</td>\n",
       "      <td>[aww, back, at, you, mr, amp, apple, still, th...</td>\n",
       "      <td>[aww, back, amp, still, still, arrived, guessi...</td>\n",
       "      <td>aww, back, amp, still, still, arrived, guessin...</td>\n",
       "    </tr>\n",
       "    <tr>\n",
       "      <th>24</th>\n",
       "      <td>1333817819767721991</td>\n",
       "      <td>1333817819767721984</td>\n",
       "      <td>2020-12-01 11:58:44 EST</td>\n",
       "      <td>2020-12-01 00:00:00</td>\n",
       "      <td>11:58:44</td>\n",
       "      <td>-500</td>\n",
       "      <td>1326625568092278789</td>\n",
       "      <td>justabussy</td>\n",
       "      <td>Dickiana😏(H0rny era)</td>\n",
       "      <td></td>\n",
       "      <td>@PicsArtStudio umm I can’t press on the search...</td>\n",
       "      <td>en</td>\n",
       "      <td>[]</td>\n",
       "      <td>[]</td>\n",
       "      <td>[https://pbs.twimg.com/media/EoKsPOkWEAE7S6m.jpg]</td>\n",
       "      <td>1</td>\n",
       "      <td>0</td>\n",
       "      <td>1</td>\n",
       "      <td>[]</td>\n",
       "      <td>[]</td>\n",
       "      <td>https://twitter.com/JustABussy/status/13338178...</td>\n",
       "      <td>False</td>\n",
       "      <td></td>\n",
       "      <td>1</td>\n",
       "      <td>https://pbs.twimg.com/media/EoKsPOkWEAE7S6m.jpg</td>\n",
       "      <td></td>\n",
       "      <td></td>\n",
       "      <td></td>\n",
       "      <td></td>\n",
       "      <td></td>\n",
       "      <td></td>\n",
       "      <td>[]</td>\n",
       "      <td></td>\n",
       "      <td></td>\n",
       "      <td></td>\n",
       "      <td></td>\n",
       "      <td>iphone 12</td>\n",
       "      <td>umm can press on the search bar on the iphone ...</td>\n",
       "      <td>[umm, can, press, on, the, search, bar, on, th...</td>\n",
       "      <td>[umm, press, search, bar, hurry, fix]</td>\n",
       "      <td>umm, press, search, bar, hurry, fix</td>\n",
       "    </tr>\n",
       "  </tbody>\n",
       "</table>\n",
       "</div>"
      ],
      "text/plain": [
       "                     id      conversation_id               created_at  \\\n",
       "5   1333818145094643713  1333818145094643712  2020-12-01 12:00:01 EST   \n",
       "6   1333818137251287040  1333813308747620352  2020-12-01 11:59:59 EST   \n",
       "15  1333818003423698949  1333818003423698944  2020-12-01 11:59:27 EST   \n",
       "22  1333817867377192960  1333353705731743744  2020-12-01 11:58:55 EST   \n",
       "24  1333817819767721991  1333817819767721984  2020-12-01 11:58:44 EST   \n",
       "\n",
       "                   date      time  timezone              user_id  \\\n",
       "5   2020-12-01 00:00:00  12:00:01      -500           1600309820   \n",
       "6   2020-12-01 00:00:00  11:59:59      -500  1257039074696867840   \n",
       "15  2020-12-01 00:00:00  11:59:27      -500           1901298962   \n",
       "22  2020-12-01 00:00:00  11:58:55      -500            302785756   \n",
       "24  2020-12-01 00:00:00  11:58:44      -500  1326625568092278789   \n",
       "\n",
       "           username                  name place  \\\n",
       "5        coolmuster            Coolmuster         \n",
       "6   nanaakuamensah4    Nana_Akua🇬🇭❤️🌟🌟🌟🌟🌟         \n",
       "15         naija_pr                 Naija         \n",
       "22     holliebear80                  Kate         \n",
       "24       justabussy  Dickiana😏(H0rny era)         \n",
       "\n",
       "                                                tweet language mentions  \\\n",
       "5   #iPhone12 #Android iPhone 12 vs Android’s best...       en       []   \n",
       "6   @cuppymusic I'm asking DJ cuppy Please I want ...       en       []   \n",
       "15  The moment Mercy Eke sprays her friend $3000 c...       en       []   \n",
       "22  @CraigStrife Aww back at you Mr S 😘 &amp; Appl...       en       []   \n",
       "24  @PicsArtStudio umm I can’t press on the search...       en       []   \n",
       "\n",
       "                        urls  \\\n",
       "5   [https://bit.ly/37hILmw]   \n",
       "6                         []   \n",
       "15                        []   \n",
       "22                        []   \n",
       "24                        []   \n",
       "\n",
       "                                               photos  replies_count  \\\n",
       "5   [https://pbs.twimg.com/media/EoKezKZUYAQr6_2.jpg]              0   \n",
       "6                                                  []              0   \n",
       "15                                                 []              0   \n",
       "22                                                 []              0   \n",
       "24  [https://pbs.twimg.com/media/EoKsPOkWEAE7S6m.jpg]              1   \n",
       "\n",
       "    retweets_count  likes_count             hashtags cashtags  \\\n",
       "5                0            0  [iphone12, android]       []   \n",
       "6                0            0                   []       []   \n",
       "15               1            3                   []       []   \n",
       "22               0            0                   []       []   \n",
       "24               0            1                   []       []   \n",
       "\n",
       "                                                 link  retweet quote_url  \\\n",
       "5   https://twitter.com/coolmuster/status/13338181...    False             \n",
       "6   https://twitter.com/NanaAkuamensah4/status/133...    False             \n",
       "15  https://twitter.com/Naija_PR/status/1333818003...    False             \n",
       "22  https://twitter.com/Holliebear80/status/133381...    False             \n",
       "24  https://twitter.com/JustABussy/status/13338178...    False             \n",
       "\n",
       "    video                                          thumbnail near geo source  \\\n",
       "5       1    https://pbs.twimg.com/media/EoKezKZUYAQr6_2.jpg                   \n",
       "6       0                                                                      \n",
       "15      1  https://pbs.twimg.com/ext_tw_video_thumb/13338...                   \n",
       "22      0                                                                      \n",
       "24      1    https://pbs.twimg.com/media/EoKsPOkWEAE7S6m.jpg                   \n",
       "\n",
       "   user_rt_id user_rt retweet_id  \\\n",
       "5                                  \n",
       "6                                  \n",
       "15                                 \n",
       "22                                 \n",
       "24                                 \n",
       "\n",
       "                                             reply_to retweet_date translate  \\\n",
       "5                                                  []                          \n",
       "6   [{'screen_name': 'cuppymusic', 'name': 'Cuppy ...                          \n",
       "15                                                 []                          \n",
       "22  [{'screen_name': 'CraigStrife', 'name': 'Craig...                          \n",
       "24                                                 []                          \n",
       "\n",
       "   trans_src trans_dest search_term  \\\n",
       "5                         iphone 12   \n",
       "6                         iphone 12   \n",
       "15                        iphone 12   \n",
       "22                        iphone 12   \n",
       "24                        iphone 12   \n",
       "\n",
       "                                              c_tweet  \\\n",
       "5   iphone android iphone vs android best it time ...   \n",
       "6               asking dj cuppy please want an iphone   \n",
       "15  the moment mercy eke sprays her friend cash an...   \n",
       "22  aww back at you mr amp apple still the iphone ...   \n",
       "24  umm can press on the search bar on the iphone ...   \n",
       "\n",
       "                                            tokenized  \\\n",
       "5   [iphone, android, iphone, v, android, best, it...   \n",
       "6       [asking, dj, cuppy, please, want, an, iphone]   \n",
       "15  [the, moment, mercy, eke, spray, her, friend, ...   \n",
       "22  [aww, back, at, you, mr, amp, apple, still, th...   \n",
       "24  [umm, can, press, on, the, search, bar, on, th...   \n",
       "\n",
       "                                             filtered  \\\n",
       "5   [android, android, best, time, consider, switc...   \n",
       "6                       [asking, cuppy, please, want]   \n",
       "15  [moment, mercy, eke, spray, friend, cash, gave...   \n",
       "22  [aww, back, amp, still, still, arrived, guessi...   \n",
       "24              [umm, press, search, bar, hurry, fix]   \n",
       "\n",
       "                                             delisted  \n",
       "5   android, android, best, time, consider, switch...  \n",
       "6                         asking, cuppy, please, want  \n",
       "15  moment, mercy, eke, spray, friend, cash, gave,...  \n",
       "22  aww, back, amp, still, still, arrived, guessin...  \n",
       "24                umm, press, search, bar, hurry, fix  "
      ]
     },
     "execution_count": 71,
     "metadata": {},
     "output_type": "execute_result"
    }
   ],
   "source": [
    "main['delisted'] = main.filtered.apply(unlist)\n",
    "main.head(5)"
   ]
  },
  {
   "cell_type": "markdown",
   "metadata": {},
   "source": [
    "# Drop unneccessary columns"
   ]
  },
  {
   "cell_type": "code",
   "execution_count": 72,
   "metadata": {},
   "outputs": [
    {
     "data": {
      "text/plain": [
       "['id',\n",
       " 'conversation_id',\n",
       " 'created_at',\n",
       " 'date',\n",
       " 'time',\n",
       " 'timezone',\n",
       " 'user_id',\n",
       " 'username',\n",
       " 'name',\n",
       " 'place',\n",
       " 'tweet',\n",
       " 'language',\n",
       " 'mentions',\n",
       " 'urls',\n",
       " 'photos',\n",
       " 'replies_count',\n",
       " 'retweets_count',\n",
       " 'likes_count',\n",
       " 'hashtags',\n",
       " 'cashtags',\n",
       " 'link',\n",
       " 'retweet',\n",
       " 'quote_url',\n",
       " 'video',\n",
       " 'thumbnail',\n",
       " 'near',\n",
       " 'geo',\n",
       " 'source',\n",
       " 'user_rt_id',\n",
       " 'user_rt',\n",
       " 'retweet_id',\n",
       " 'reply_to',\n",
       " 'retweet_date',\n",
       " 'translate',\n",
       " 'trans_src',\n",
       " 'trans_dest',\n",
       " 'search_term',\n",
       " 'c_tweet',\n",
       " 'tokenized',\n",
       " 'filtered',\n",
       " 'delisted']"
      ]
     },
     "execution_count": 72,
     "metadata": {},
     "output_type": "execute_result"
    }
   ],
   "source": [
    "main.columns.to_list()"
   ]
  },
  {
   "cell_type": "code",
   "execution_count": 73,
   "metadata": {},
   "outputs": [],
   "source": [
    "main.drop(columns = ['created_at', 'hashtags',\n",
    " 'cashtags',\n",
    " 'link',\n",
    " 'retweet',\n",
    " 'quote_url',\n",
    " 'video',\n",
    " 'thumbnail',\n",
    " 'near',\n",
    " 'geo',\n",
    " 'source',\n",
    " 'user_rt_id',\n",
    " 'user_rt',\n",
    " 'retweet_id',\n",
    " 'reply_to',\n",
    " 'retweet_date',\n",
    " 'translate',\n",
    " 'trans_src',\n",
    " 'trans_dest', \n",
    " 'language',\n",
    " 'mentions',\n",
    " 'urls',\n",
    " 'photos',\n",
    " 'id',\n",
    " 'timezone',\n",
    " 'user_id',\n",
    " 'place',\n",
    " 'conversation_id',\n",
    " 'created_at'], inplace=True)"
   ]
  },
  {
   "cell_type": "code",
   "execution_count": 74,
   "metadata": {},
   "outputs": [
    {
     "data": {
      "text/html": [
       "<div>\n",
       "<style scoped>\n",
       "    .dataframe tbody tr th:only-of-type {\n",
       "        vertical-align: middle;\n",
       "    }\n",
       "\n",
       "    .dataframe tbody tr th {\n",
       "        vertical-align: top;\n",
       "    }\n",
       "\n",
       "    .dataframe thead th {\n",
       "        text-align: right;\n",
       "    }\n",
       "</style>\n",
       "<table border=\"1\" class=\"dataframe\">\n",
       "  <thead>\n",
       "    <tr style=\"text-align: right;\">\n",
       "      <th></th>\n",
       "      <th>date</th>\n",
       "      <th>time</th>\n",
       "      <th>timezone</th>\n",
       "      <th>user_id</th>\n",
       "      <th>username</th>\n",
       "      <th>name</th>\n",
       "      <th>place</th>\n",
       "      <th>tweet</th>\n",
       "      <th>replies_count</th>\n",
       "      <th>retweets_count</th>\n",
       "      <th>likes_count</th>\n",
       "      <th>search_term</th>\n",
       "      <th>c_tweet</th>\n",
       "      <th>tokenized</th>\n",
       "      <th>filtered</th>\n",
       "      <th>delisted</th>\n",
       "    </tr>\n",
       "  </thead>\n",
       "  <tbody>\n",
       "    <tr>\n",
       "      <th>5</th>\n",
       "      <td>2020-12-01 00:00:00</td>\n",
       "      <td>12:00:01</td>\n",
       "      <td>-500</td>\n",
       "      <td>1600309820</td>\n",
       "      <td>coolmuster</td>\n",
       "      <td>Coolmuster</td>\n",
       "      <td></td>\n",
       "      <td>#iPhone12 #Android iPhone 12 vs Android’s best...</td>\n",
       "      <td>0</td>\n",
       "      <td>0</td>\n",
       "      <td>0</td>\n",
       "      <td>iphone 12</td>\n",
       "      <td>iphone android iphone vs android best it time ...</td>\n",
       "      <td>[iphone, android, iphone, v, android, best, it...</td>\n",
       "      <td>[android, android, best, time, consider, switc...</td>\n",
       "      <td>android, android, best, time, consider, switch...</td>\n",
       "    </tr>\n",
       "    <tr>\n",
       "      <th>6</th>\n",
       "      <td>2020-12-01 00:00:00</td>\n",
       "      <td>11:59:59</td>\n",
       "      <td>-500</td>\n",
       "      <td>1257039074696867840</td>\n",
       "      <td>nanaakuamensah4</td>\n",
       "      <td>Nana_Akua🇬🇭❤️🌟🌟🌟🌟🌟</td>\n",
       "      <td></td>\n",
       "      <td>@cuppymusic I'm asking DJ cuppy Please I want ...</td>\n",
       "      <td>0</td>\n",
       "      <td>0</td>\n",
       "      <td>0</td>\n",
       "      <td>iphone 12</td>\n",
       "      <td>asking dj cuppy please want an iphone</td>\n",
       "      <td>[asking, dj, cuppy, please, want, an, iphone]</td>\n",
       "      <td>[asking, cuppy, please, want]</td>\n",
       "      <td>asking, cuppy, please, want</td>\n",
       "    </tr>\n",
       "    <tr>\n",
       "      <th>15</th>\n",
       "      <td>2020-12-01 00:00:00</td>\n",
       "      <td>11:59:27</td>\n",
       "      <td>-500</td>\n",
       "      <td>1901298962</td>\n",
       "      <td>naija_pr</td>\n",
       "      <td>Naija</td>\n",
       "      <td></td>\n",
       "      <td>The moment Mercy Eke sprays her friend $3000 c...</td>\n",
       "      <td>0</td>\n",
       "      <td>1</td>\n",
       "      <td>3</td>\n",
       "      <td>iphone 12</td>\n",
       "      <td>the moment mercy eke sprays her friend cash an...</td>\n",
       "      <td>[the, moment, mercy, eke, spray, her, friend, ...</td>\n",
       "      <td>[moment, mercy, eke, spray, friend, cash, gave...</td>\n",
       "      <td>moment, mercy, eke, spray, friend, cash, gave,...</td>\n",
       "    </tr>\n",
       "    <tr>\n",
       "      <th>22</th>\n",
       "      <td>2020-12-01 00:00:00</td>\n",
       "      <td>11:58:55</td>\n",
       "      <td>-500</td>\n",
       "      <td>302785756</td>\n",
       "      <td>holliebear80</td>\n",
       "      <td>Kate</td>\n",
       "      <td></td>\n",
       "      <td>@CraigStrife Aww back at you Mr S 😘 &amp;amp; Appl...</td>\n",
       "      <td>0</td>\n",
       "      <td>0</td>\n",
       "      <td>0</td>\n",
       "      <td>iphone 12</td>\n",
       "      <td>aww back at you mr amp apple still the iphone ...</td>\n",
       "      <td>[aww, back, at, you, mr, amp, apple, still, th...</td>\n",
       "      <td>[aww, back, amp, still, still, arrived, guessi...</td>\n",
       "      <td>aww, back, amp, still, still, arrived, guessin...</td>\n",
       "    </tr>\n",
       "    <tr>\n",
       "      <th>24</th>\n",
       "      <td>2020-12-01 00:00:00</td>\n",
       "      <td>11:58:44</td>\n",
       "      <td>-500</td>\n",
       "      <td>1326625568092278789</td>\n",
       "      <td>justabussy</td>\n",
       "      <td>Dickiana😏(H0rny era)</td>\n",
       "      <td></td>\n",
       "      <td>@PicsArtStudio umm I can’t press on the search...</td>\n",
       "      <td>1</td>\n",
       "      <td>0</td>\n",
       "      <td>1</td>\n",
       "      <td>iphone 12</td>\n",
       "      <td>umm can press on the search bar on the iphone ...</td>\n",
       "      <td>[umm, can, press, on, the, search, bar, on, th...</td>\n",
       "      <td>[umm, press, search, bar, hurry, fix]</td>\n",
       "      <td>umm, press, search, bar, hurry, fix</td>\n",
       "    </tr>\n",
       "  </tbody>\n",
       "</table>\n",
       "</div>"
      ],
      "text/plain": [
       "                   date      time  timezone              user_id  \\\n",
       "5   2020-12-01 00:00:00  12:00:01      -500           1600309820   \n",
       "6   2020-12-01 00:00:00  11:59:59      -500  1257039074696867840   \n",
       "15  2020-12-01 00:00:00  11:59:27      -500           1901298962   \n",
       "22  2020-12-01 00:00:00  11:58:55      -500            302785756   \n",
       "24  2020-12-01 00:00:00  11:58:44      -500  1326625568092278789   \n",
       "\n",
       "           username                  name place  \\\n",
       "5        coolmuster            Coolmuster         \n",
       "6   nanaakuamensah4    Nana_Akua🇬🇭❤️🌟🌟🌟🌟🌟         \n",
       "15         naija_pr                 Naija         \n",
       "22     holliebear80                  Kate         \n",
       "24       justabussy  Dickiana😏(H0rny era)         \n",
       "\n",
       "                                                tweet  replies_count  \\\n",
       "5   #iPhone12 #Android iPhone 12 vs Android’s best...              0   \n",
       "6   @cuppymusic I'm asking DJ cuppy Please I want ...              0   \n",
       "15  The moment Mercy Eke sprays her friend $3000 c...              0   \n",
       "22  @CraigStrife Aww back at you Mr S 😘 &amp; Appl...              0   \n",
       "24  @PicsArtStudio umm I can’t press on the search...              1   \n",
       "\n",
       "    retweets_count  likes_count search_term  \\\n",
       "5                0            0   iphone 12   \n",
       "6                0            0   iphone 12   \n",
       "15               1            3   iphone 12   \n",
       "22               0            0   iphone 12   \n",
       "24               0            1   iphone 12   \n",
       "\n",
       "                                              c_tweet  \\\n",
       "5   iphone android iphone vs android best it time ...   \n",
       "6               asking dj cuppy please want an iphone   \n",
       "15  the moment mercy eke sprays her friend cash an...   \n",
       "22  aww back at you mr amp apple still the iphone ...   \n",
       "24  umm can press on the search bar on the iphone ...   \n",
       "\n",
       "                                            tokenized  \\\n",
       "5   [iphone, android, iphone, v, android, best, it...   \n",
       "6       [asking, dj, cuppy, please, want, an, iphone]   \n",
       "15  [the, moment, mercy, eke, spray, her, friend, ...   \n",
       "22  [aww, back, at, you, mr, amp, apple, still, th...   \n",
       "24  [umm, can, press, on, the, search, bar, on, th...   \n",
       "\n",
       "                                             filtered  \\\n",
       "5   [android, android, best, time, consider, switc...   \n",
       "6                       [asking, cuppy, please, want]   \n",
       "15  [moment, mercy, eke, spray, friend, cash, gave...   \n",
       "22  [aww, back, amp, still, still, arrived, guessi...   \n",
       "24              [umm, press, search, bar, hurry, fix]   \n",
       "\n",
       "                                             delisted  \n",
       "5   android, android, best, time, consider, switch...  \n",
       "6                         asking, cuppy, please, want  \n",
       "15  moment, mercy, eke, spray, friend, cash, gave,...  \n",
       "22  aww, back, amp, still, still, arrived, guessin...  \n",
       "24                umm, press, search, bar, hurry, fix  "
      ]
     },
     "execution_count": 74,
     "metadata": {},
     "output_type": "execute_result"
    }
   ],
   "source": [
    "main.head(5)"
   ]
  },
  {
   "cell_type": "code",
   "execution_count": 76,
   "metadata": {},
   "outputs": [
    {
     "data": {
      "text/plain": [
       "new apple        247659\n",
       "new iphone       220474\n",
       "iphone 12        218921\n",
       "silicon          167289\n",
       "iphone 12 pro     93934\n",
       "new macbook       25673\n",
       "M1 macbook         9290\n",
       "apple silicon      2417\n",
       "Name: search_term, dtype: int64"
      ]
     },
     "execution_count": 76,
     "metadata": {},
     "output_type": "execute_result"
    }
   ],
   "source": [
    "main.search_term.value_counts()"
   ]
  },
  {
   "cell_type": "markdown",
   "metadata": {},
   "source": [
    "# Use VADER sentiment framework to add tags"
   ]
  },
  {
   "cell_type": "code",
   "execution_count": null,
   "metadata": {},
   "outputs": [],
   "source": [
    "main['sentiment'] = main.c_tweet.apply(sentiment_analyzer_scores)"
   ]
  },
  {
   "cell_type": "code",
   "execution_count": null,
   "metadata": {},
   "outputs": [],
   "source": [
    "main.sentiment"
   ]
  },
  {
   "cell_type": "code",
   "execution_count": null,
   "metadata": {},
   "outputs": [],
   "source": []
  },
  {
   "cell_type": "code",
   "execution_count": null,
   "metadata": {},
   "outputs": [],
   "source": [
    "main.to_csv('/Volumes/ML_projects/Phase4data/appletweet.csv')"
   ]
  },
  {
   "cell_type": "code",
   "execution_count": null,
   "metadata": {},
   "outputs": [],
   "source": []
  }
 ],
 "metadata": {
  "kernelspec": {
   "display_name": "learn-env",
   "language": "python",
   "name": "learn-env"
  },
  "language_info": {
   "codemirror_mode": {
    "name": "ipython",
    "version": 3
   },
   "file_extension": ".py",
   "mimetype": "text/x-python",
   "name": "python",
   "nbconvert_exporter": "python",
   "pygments_lexer": "ipython3",
   "version": "3.6.10"
  }
 },
 "nbformat": 4,
 "nbformat_minor": 4
}
