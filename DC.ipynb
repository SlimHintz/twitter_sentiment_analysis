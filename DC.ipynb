{
 "cells": [
  {
   "cell_type": "code",
   "execution_count": 65,
   "metadata": {},
   "outputs": [],
   "source": [
    "import pandas as pd\n",
    "import numpy as np\n",
    "from datetime import date\n",
    "import time\n",
    "import gcld3\n",
    "import warnings \n",
    "import emoji\n",
    "import re\n",
    "import nltk\n",
    "from nltk.corpus import stopwords\n",
    "from scripts.scripts import *\n",
    "warnings.filterwarnings(\"ignore\") \n",
    "\n",
    "pd.set_option('display.max_columns', 300)\n",
    "pd.set_option('display.max_rows', 200)"
   ]
  },
  {
   "cell_type": "code",
   "execution_count": 2,
   "metadata": {},
   "outputs": [
    {
     "name": "stderr",
     "output_type": "stream",
     "text": [
      "Skipping line 129970: ',' expected after '\"'\n",
      "Skipping line 235431: ',' expected after '\"'\n",
      "Skipping line 269778: ',' expected after '\"'\n",
      "Skipping line 276452: ',' expected after '\"'\n",
      "Skipping line 201421: ',' expected after '\"'\n",
      "Skipping line 74247: ',' expected after '\"'\n",
      "Skipping line 197383: ',' expected after '\"'\n",
      "Skipping line 222434: ',' expected after '\"'\n",
      "Skipping line 234201: ',' expected after '\"'\n",
      "Skipping line 256441: ',' expected after '\"'\n",
      "Skipping line 137005: ',' expected after '\"'\n",
      "Skipping line 157999: ',' expected after '\"'\n",
      "Skipping line 158000: ',' expected after '\"'\n",
      "Skipping line 185665: ',' expected after '\"'\n"
     ]
    }
   ],
   "source": [
    "df1 = pd.read_json('/Volumes/ML_projects/Phase4data/Iphone12.json', lines=True)\n",
    "df2 = pd.read_csv('/Volumes/ML_projects/Phase4data/apple_silicon_SEARCH.csv')\n",
    "df3 = pd.read_csv('/Volumes/ML_projects/Phase4data/M1_MacBook_SEARCH.csv')\n",
    "df4 = pd.read_csv('/Volumes/ML_projects/Phase4data/new_macbook_SEARCH.csv')\n",
    "df5 = pd.read_csv('/Volumes/ML_projects/Phase4data/Iphone_12_Pro_SEARCH.csv', error_bad_lines=False, engine=\"python\")\n",
    "df6 = pd.read_csv('/Volumes/ML_projects/Phase4data/new_Apple_SEARCH.csv', error_bad_lines=False, engine=\"python\")\n",
    "df7 = pd.read_csv('/Volumes/ML_projects/Phase4data/new_iphone_SEARCH.csv', error_bad_lines=False, engine=\"python\")\n",
    "df8 = pd.read_csv('/Volumes/ML_projects/Phase4data/Silicon_SEARCH.csv', error_bad_lines=False, engine=\"python\")"
   ]
  },
  {
   "cell_type": "markdown",
   "metadata": {},
   "source": [
    "Add search terms to each dataframe before concatinating. "
   ]
  },
  {
   "cell_type": "code",
   "execution_count": 3,
   "metadata": {},
   "outputs": [],
   "source": [
    "df1['search_term'] = 'iphone 12'\n",
    "df2['search_term'] = 'apple silicon'\n",
    "df3['search_term'] = 'M1 macbook'\n",
    "df4['search_term'] = 'new macbook'\n",
    "df5['search_term'] = 'iphone 12 pro'\n",
    "df6['search_term'] = 'new apple'\n",
    "df7['search_term'] = 'new iphone'\n",
    "df8['search_term'] = 'silicon'"
   ]
  },
  {
   "cell_type": "code",
   "execution_count": 4,
   "metadata": {},
   "outputs": [],
   "source": [
    "frames = [df1, df2, df3, df4, df5, df6, df7, df8]"
   ]
  },
  {
   "cell_type": "code",
   "execution_count": 5,
   "metadata": {},
   "outputs": [],
   "source": [
    "main = pd.concat(frames, ignore_index=True)"
   ]
  },
  {
   "cell_type": "code",
   "execution_count": 6,
   "metadata": {},
   "outputs": [
    {
     "data": {
      "text/plain": [
       "(2425258, 37)"
      ]
     },
     "execution_count": 6,
     "metadata": {},
     "output_type": "execute_result"
    }
   ],
   "source": [
    "main.shape"
   ]
  },
  {
   "cell_type": "markdown",
   "metadata": {},
   "source": [
    "# Remove Foreign Language Tweets"
   ]
  },
  {
   "cell_type": "code",
   "execution_count": 7,
   "metadata": {},
   "outputs": [],
   "source": [
    "main = main.loc[main['language'] == 'en']"
   ]
  },
  {
   "cell_type": "code",
   "execution_count": 8,
   "metadata": {},
   "outputs": [
    {
     "data": {
      "text/plain": [
       "(1582752, 37)"
      ]
     },
     "execution_count": 8,
     "metadata": {},
     "output_type": "execute_result"
    }
   ],
   "source": [
    "main.shape"
   ]
  },
  {
   "cell_type": "markdown",
   "metadata": {},
   "source": [
    "# Convert Emojis to text"
   ]
  },
  {
   "cell_type": "code",
   "execution_count": 9,
   "metadata": {},
   "outputs": [],
   "source": [
    "# new clean_tweet columns\n",
    "main['c_tweet'] = 'cleaned'"
   ]
  },
  {
   "cell_type": "code",
   "execution_count": 11,
   "metadata": {},
   "outputs": [],
   "source": [
    "main['c_tweet'] = main.tweet.apply(emoji.demojize)"
   ]
  },
  {
   "cell_type": "markdown",
   "metadata": {},
   "source": [
    "# Remove numbers"
   ]
  },
  {
   "cell_type": "code",
   "execution_count": 50,
   "metadata": {},
   "outputs": [],
   "source": [
    "main['c_tweet'] = main.c_tweet.apply(cleaner_text)"
   ]
  },
  {
   "cell_type": "markdown",
   "metadata": {},
   "source": [
    "# Remove special Characters"
   ]
  },
  {
   "cell_type": "code",
   "execution_count": 51,
   "metadata": {},
   "outputs": [],
   "source": [
    "main['c_tweet'] = main.c_tweet.apply(clean_hash)"
   ]
  },
  {
   "cell_type": "code",
   "execution_count": 36,
   "metadata": {},
   "outputs": [],
   "source": [
    "main.to_csv('/Volumes/ML_projects/Phase4data/appletweet.csv')"
   ]
  },
  {
   "cell_type": "markdown",
   "metadata": {},
   "source": [
    "##### Drop Duplicate Tweets"
   ]
  },
  {
   "cell_type": "code",
   "execution_count": 52,
   "metadata": {},
   "outputs": [
    {
     "data": {
      "text/plain": [
       "(985657, 38)"
      ]
     },
     "execution_count": 52,
     "metadata": {},
     "output_type": "execute_result"
    }
   ],
   "source": [
    "# If tweet is repeated multiple times only keep last occurance.\n",
    "main = main.drop_duplicates(subset='c_tweet', keep='last')\n",
    "main.shape"
   ]
  },
  {
   "cell_type": "markdown",
   "metadata": {},
   "source": [
    "# Create Stopwords"
   ]
  },
  {
   "cell_type": "code",
   "execution_count": 55,
   "metadata": {},
   "outputs": [],
   "source": [
    "stop_words=list(set(stopwords.words(\"english\")))"
   ]
  },
  {
   "cell_type": "code",
   "execution_count": 56,
   "metadata": {},
   "outputs": [],
   "source": [
    "stop_words.extend([\"ll\", \"please retweet\", \"help rt\", \"visit us\",\n",
    "                   \"please subscribe\", \"for sale\", \"enter here\", \n",
    "                   \"to win\", \"from iphone\", \"huge giveaway\", \"new arrival\", \n",
    "                   \"win an\", \"unlocked now\", \"new available\", \"giveaway\", \n",
    "                   \"subscribe\", \"retweet\", \"easter egg\"])"
   ]
  },
  {
   "cell_type": "code",
   "execution_count": 57,
   "metadata": {},
   "outputs": [],
   "source": [
    "eda_stopwords = [\"iphone\", \"iphone pro\", \"pro max\", \"youtube\", \"youtuber\", \"youtubers\", \n",
    "                 \"also\", \"asap\", \"hmmm\",\"hello\", \"haha\", \"dont\", \"imac\", \"ipad\", \n",
    "                 \"ipadair\", \"ipads\", \"iphonecase\", \"iphonemini\", \"iphonepro\", \"iphonepromax\", \n",
    "                 \"iphones\", \"iphoneth\", \"ipod\",  \"lmao\", \"lmfao\", \"macbook\", \"macbookair\",\n",
    "                 \"macbookpro\", \"macbooks\", \"macosbigsur\", \"macmini\", \"magsafe\", \n",
    "                 \"okay\", \"promax\", \"wahala\", \"wont\", 'yall','yeah', 'apple', 'skin', 'tone', \"man\", \"pro\", \"face\", \"loudly\",]\n",
    "\n",
    "stop_words.extend(eda_stopwords)"
   ]
  },
  {
   "cell_type": "code",
   "execution_count": 58,
   "metadata": {},
   "outputs": [
    {
     "data": {
      "text/plain": [
       "242"
      ]
     },
     "execution_count": 58,
     "metadata": {},
     "output_type": "execute_result"
    }
   ],
   "source": [
    "len(stop_words)"
   ]
  },
  {
   "cell_type": "markdown",
   "metadata": {},
   "source": [
    "# Tokenize/Lemmatize"
   ]
  },
  {
   "cell_type": "code",
   "execution_count": 67,
   "metadata": {},
   "outputs": [],
   "source": [
    "lemmatizer = nltk.stem.WordNetLemmatizer()\n",
    "tokenizer = nltk.tokenize.TweetTokenizer()"
   ]
  },
  {
   "cell_type": "code",
   "execution_count": 68,
   "metadata": {},
   "outputs": [],
   "source": [
    "def lemmatize_text(text):\n",
    "     return [lemmatizer.lemmatize(word.replace(\" \", \"\")) for word in tokenizer.tokenize(text)]"
   ]
  },
  {
   "cell_type": "code",
   "execution_count": 69,
   "metadata": {},
   "outputs": [],
   "source": [
    "main['tokenized'] = main.c_tweet.apply(lemmatize_text)"
   ]
  },
  {
   "cell_type": "code",
   "execution_count": null,
   "metadata": {},
   "outputs": [],
   "source": [
    "#Remove stop words, and words with only 2 chars. \n",
    "main['filtered'] = main['tokenized'].apply(lambda x: [item for item in x if item not in stop_words and len(item)>2])"
   ]
  },
  {
   "cell_type": "code",
   "execution_count": null,
   "metadata": {},
   "outputs": [],
   "source": []
  },
  {
   "cell_type": "code",
   "execution_count": null,
   "metadata": {},
   "outputs": [],
   "source": []
  },
  {
   "cell_type": "code",
   "execution_count": null,
   "metadata": {},
   "outputs": [],
   "source": []
  },
  {
   "cell_type": "code",
   "execution_count": null,
   "metadata": {},
   "outputs": [],
   "source": []
  },
  {
   "cell_type": "markdown",
   "metadata": {},
   "source": [
    "# Use VADER sentiment framework to add tags"
   ]
  },
  {
   "cell_type": "code",
   "execution_count": null,
   "metadata": {},
   "outputs": [],
   "source": [
    "main['sentiment'] = influence.c_tweet.apply(sentiment_analyzer_scores)"
   ]
  },
  {
   "cell_type": "code",
   "execution_count": null,
   "metadata": {},
   "outputs": [],
   "source": []
  },
  {
   "cell_type": "code",
   "execution_count": null,
   "metadata": {},
   "outputs": [],
   "source": []
  },
  {
   "cell_type": "code",
   "execution_count": null,
   "metadata": {},
   "outputs": [],
   "source": []
  }
 ],
 "metadata": {
  "kernelspec": {
   "display_name": "learn-env",
   "language": "python",
   "name": "learn-env"
  },
  "language_info": {
   "codemirror_mode": {
    "name": "ipython",
    "version": 3
   },
   "file_extension": ".py",
   "mimetype": "text/x-python",
   "name": "python",
   "nbconvert_exporter": "python",
   "pygments_lexer": "ipython3",
   "version": "3.6.10"
  }
 },
 "nbformat": 4,
 "nbformat_minor": 4
}
