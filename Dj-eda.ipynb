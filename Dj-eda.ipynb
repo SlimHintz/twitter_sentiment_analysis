{
 "cells": [
  {
   "cell_type": "markdown",
   "metadata": {},
   "source": [
    "# Import packages "
   ]
  },
  {
   "cell_type": "code",
   "execution_count": 111,
   "metadata": {},
   "outputs": [],
   "source": [
    "import pandas as pd\n",
    "import numpy as np\n",
    "import seaborn as sns\n",
    "import matplotlib.pyplot as plt\n",
    "%matplotlib inline\n",
    "\n"
   ]
  },
  {
   "cell_type": "code",
   "execution_count": 112,
   "metadata": {},
   "outputs": [],
   "source": [
    "df1 = pd.read_csv(\"/Users/DataSci/Desktop/Flatiron/Assignments/Phase_4_Proj/apple_goog.csv\", index_col = 0)"
   ]
  },
  {
   "cell_type": "code",
   "execution_count": 113,
   "metadata": {},
   "outputs": [
    {
     "data": {
      "text/html": [
       "<div>\n",
       "<style scoped>\n",
       "    .dataframe tbody tr th:only-of-type {\n",
       "        vertical-align: middle;\n",
       "    }\n",
       "\n",
       "    .dataframe tbody tr th {\n",
       "        vertical-align: top;\n",
       "    }\n",
       "\n",
       "    .dataframe thead th {\n",
       "        text-align: right;\n",
       "    }\n",
       "</style>\n",
       "<table border=\"1\" class=\"dataframe\">\n",
       "  <thead>\n",
       "    <tr style=\"text-align: right;\">\n",
       "      <th></th>\n",
       "      <th>date</th>\n",
       "      <th>name</th>\n",
       "      <th>username</th>\n",
       "      <th>retweets_count</th>\n",
       "      <th>search_term</th>\n",
       "      <th>likes_count</th>\n",
       "      <th>language</th>\n",
       "      <th>c_tweet</th>\n",
       "    </tr>\n",
       "  </thead>\n",
       "  <tbody>\n",
       "    <tr>\n",
       "      <th>1</th>\n",
       "      <td>2020-11-28</td>\n",
       "      <td>HyperNavJack27</td>\n",
       "      <td>jack_mangano</td>\n",
       "      <td>0</td>\n",
       "      <td>apple silicon</td>\n",
       "      <td>10</td>\n",
       "      <td>en</td>\n",
       "      <td>borderlands in on apple silicon yes yes it pla...</td>\n",
       "    </tr>\n",
       "    <tr>\n",
       "      <th>4</th>\n",
       "      <td>2020-11-28</td>\n",
       "      <td>Erik Engheim</td>\n",
       "      <td>erikengheim</td>\n",
       "      <td>0</td>\n",
       "      <td>apple silicon</td>\n",
       "      <td>1</td>\n",
       "      <td>en</td>\n",
       "      <td>mac mini vs mac pro interesting review of pros...</td>\n",
       "    </tr>\n",
       "    <tr>\n",
       "      <th>5</th>\n",
       "      <td>2020-11-28</td>\n",
       "      <td>Armando Monroy</td>\n",
       "      <td>ratzo</td>\n",
       "      <td>0</td>\n",
       "      <td>apple silicon</td>\n",
       "      <td>2</td>\n",
       "      <td>en</td>\n",
       "      <td>and can only imagine what the apple silicon fo...</td>\n",
       "    </tr>\n",
       "    <tr>\n",
       "      <th>7</th>\n",
       "      <td>2020-11-28</td>\n",
       "      <td>Matthew S. Smith</td>\n",
       "      <td>matt_on_tech</td>\n",
       "      <td>1</td>\n",
       "      <td>apple silicon</td>\n",
       "      <td>4</td>\n",
       "      <td>en</td>\n",
       "      <td>to repeat something said at the debut if apple...</td>\n",
       "    </tr>\n",
       "    <tr>\n",
       "      <th>10</th>\n",
       "      <td>2020-11-28</td>\n",
       "      <td>Danel Omen ➐ he/him.®️</td>\n",
       "      <td>heck_wtf</td>\n",
       "      <td>0</td>\n",
       "      <td>apple silicon</td>\n",
       "      <td>0</td>\n",
       "      <td>en</td>\n",
       "      <td>is not the problem pixel size is the problem a...</td>\n",
       "    </tr>\n",
       "    <tr>\n",
       "      <th>13</th>\n",
       "      <td>2020-11-28</td>\n",
       "      <td>Chris Short</td>\n",
       "      <td>chrisshort</td>\n",
       "      <td>0</td>\n",
       "      <td>apple silicon</td>\n",
       "      <td>2</td>\n",
       "      <td>en</td>\n",
       "      <td>recommended read apple silicon developer persp...</td>\n",
       "    </tr>\n",
       "    <tr>\n",
       "      <th>14</th>\n",
       "      <td>2020-11-28</td>\n",
       "      <td>Ian W. Yeo</td>\n",
       "      <td>ianyeo</td>\n",
       "      <td>0</td>\n",
       "      <td>apple silicon</td>\n",
       "      <td>1</td>\n",
       "      <td>en</td>\n",
       "      <td>imagining the possibilities with apple silicon...</td>\n",
       "    </tr>\n",
       "    <tr>\n",
       "      <th>17</th>\n",
       "      <td>2020-11-28</td>\n",
       "      <td>fabdub</td>\n",
       "      <td>fabdub</td>\n",
       "      <td>0</td>\n",
       "      <td>apple silicon</td>\n",
       "      <td>0</td>\n",
       "      <td>en</td>\n",
       "      <td>cardhop with apple silicon native coming</td>\n",
       "    </tr>\n",
       "    <tr>\n",
       "      <th>18</th>\n",
       "      <td>2020-11-28</td>\n",
       "      <td>Markus Rudel</td>\n",
       "      <td>rudelm</td>\n",
       "      <td>0</td>\n",
       "      <td>apple silicon</td>\n",
       "      <td>1</td>\n",
       "      <td>en</td>\n",
       "      <td>interesting blog post on the new apple silicon...</td>\n",
       "    </tr>\n",
       "    <tr>\n",
       "      <th>19</th>\n",
       "      <td>2020-11-28</td>\n",
       "      <td>Ahmed Ouardani</td>\n",
       "      <td>ahmedouardani1</td>\n",
       "      <td>0</td>\n",
       "      <td>apple silicon</td>\n",
       "      <td>1</td>\n",
       "      <td>en</td>\n",
       "      <td>before you jump like crazy on new mac chip goo...</td>\n",
       "    </tr>\n",
       "  </tbody>\n",
       "</table>\n",
       "</div>"
      ],
      "text/plain": [
       "          date                    name        username  retweets_count  \\\n",
       "1   2020-11-28          HyperNavJack27    jack_mangano               0   \n",
       "4   2020-11-28            Erik Engheim     erikengheim               0   \n",
       "5   2020-11-28          Armando Monroy           ratzo               0   \n",
       "7   2020-11-28        Matthew S. Smith    matt_on_tech               1   \n",
       "10  2020-11-28  Danel Omen ➐ he/him.®️        heck_wtf               0   \n",
       "13  2020-11-28             Chris Short      chrisshort               0   \n",
       "14  2020-11-28              Ian W. Yeo          ianyeo               0   \n",
       "17  2020-11-28                  fabdub          fabdub               0   \n",
       "18  2020-11-28            Markus Rudel          rudelm               0   \n",
       "19  2020-11-28          Ahmed Ouardani  ahmedouardani1               0   \n",
       "\n",
       "      search_term  likes_count language  \\\n",
       "1   apple silicon           10       en   \n",
       "4   apple silicon            1       en   \n",
       "5   apple silicon            2       en   \n",
       "7   apple silicon            4       en   \n",
       "10  apple silicon            0       en   \n",
       "13  apple silicon            2       en   \n",
       "14  apple silicon            1       en   \n",
       "17  apple silicon            0       en   \n",
       "18  apple silicon            1       en   \n",
       "19  apple silicon            1       en   \n",
       "\n",
       "                                              c_tweet  \n",
       "1   borderlands in on apple silicon yes yes it pla...  \n",
       "4   mac mini vs mac pro interesting review of pros...  \n",
       "5   and can only imagine what the apple silicon fo...  \n",
       "7   to repeat something said at the debut if apple...  \n",
       "10  is not the problem pixel size is the problem a...  \n",
       "13  recommended read apple silicon developer persp...  \n",
       "14  imagining the possibilities with apple silicon...  \n",
       "17           cardhop with apple silicon native coming  \n",
       "18  interesting blog post on the new apple silicon...  \n",
       "19  before you jump like crazy on new mac chip goo...  "
      ]
     },
     "execution_count": 113,
     "metadata": {},
     "output_type": "execute_result"
    }
   ],
   "source": [
    "df1.head(10)"
   ]
  },
  {
   "cell_type": "code",
   "execution_count": 114,
   "metadata": {},
   "outputs": [],
   "source": [
    "df1.reset_index(drop=True, inplace=True)"
   ]
  },
  {
   "cell_type": "code",
   "execution_count": 115,
   "metadata": {},
   "outputs": [
    {
     "data": {
      "text/plain": [
       "(678730, 8)"
      ]
     },
     "execution_count": 115,
     "metadata": {},
     "output_type": "execute_result"
    }
   ],
   "source": [
    "df1.shape\n"
   ]
  },
  {
   "cell_type": "code",
   "execution_count": 116,
   "metadata": {},
   "outputs": [
    {
     "data": {
      "text/plain": [
       "date               0\n",
       "name              38\n",
       "username           0\n",
       "retweets_count     0\n",
       "search_term        0\n",
       "likes_count        0\n",
       "language           0\n",
       "c_tweet            6\n",
       "dtype: int64"
      ]
     },
     "execution_count": 116,
     "metadata": {},
     "output_type": "execute_result"
    }
   ],
   "source": [
    "df1.isnull().sum()"
   ]
  },
  {
   "cell_type": "code",
   "execution_count": 117,
   "metadata": {},
   "outputs": [],
   "source": [
    "df1.dropna(inplace = True)"
   ]
  },
  {
   "cell_type": "code",
   "execution_count": 118,
   "metadata": {},
   "outputs": [
    {
     "data": {
      "text/html": [
       "<div>\n",
       "<style scoped>\n",
       "    .dataframe tbody tr th:only-of-type {\n",
       "        vertical-align: middle;\n",
       "    }\n",
       "\n",
       "    .dataframe tbody tr th {\n",
       "        vertical-align: top;\n",
       "    }\n",
       "\n",
       "    .dataframe thead th {\n",
       "        text-align: right;\n",
       "    }\n",
       "</style>\n",
       "<table border=\"1\" class=\"dataframe\">\n",
       "  <thead>\n",
       "    <tr style=\"text-align: right;\">\n",
       "      <th></th>\n",
       "      <th>retweets_count</th>\n",
       "      <th>likes_count</th>\n",
       "    </tr>\n",
       "  </thead>\n",
       "  <tbody>\n",
       "    <tr>\n",
       "      <th>count</th>\n",
       "      <td>678686.000000</td>\n",
       "      <td>678686.000000</td>\n",
       "    </tr>\n",
       "    <tr>\n",
       "      <th>mean</th>\n",
       "      <td>1.585172</td>\n",
       "      <td>11.665686</td>\n",
       "    </tr>\n",
       "    <tr>\n",
       "      <th>std</th>\n",
       "      <td>56.823221</td>\n",
       "      <td>351.834219</td>\n",
       "    </tr>\n",
       "    <tr>\n",
       "      <th>min</th>\n",
       "      <td>0.000000</td>\n",
       "      <td>0.000000</td>\n",
       "    </tr>\n",
       "    <tr>\n",
       "      <th>25%</th>\n",
       "      <td>0.000000</td>\n",
       "      <td>0.000000</td>\n",
       "    </tr>\n",
       "    <tr>\n",
       "      <th>50%</th>\n",
       "      <td>0.000000</td>\n",
       "      <td>0.000000</td>\n",
       "    </tr>\n",
       "    <tr>\n",
       "      <th>75%</th>\n",
       "      <td>0.000000</td>\n",
       "      <td>1.000000</td>\n",
       "    </tr>\n",
       "    <tr>\n",
       "      <th>max</th>\n",
       "      <td>17446.000000</td>\n",
       "      <td>91917.000000</td>\n",
       "    </tr>\n",
       "  </tbody>\n",
       "</table>\n",
       "</div>"
      ],
      "text/plain": [
       "       retweets_count    likes_count\n",
       "count   678686.000000  678686.000000\n",
       "mean         1.585172      11.665686\n",
       "std         56.823221     351.834219\n",
       "min          0.000000       0.000000\n",
       "25%          0.000000       0.000000\n",
       "50%          0.000000       0.000000\n",
       "75%          0.000000       1.000000\n",
       "max      17446.000000   91917.000000"
      ]
     },
     "execution_count": 118,
     "metadata": {},
     "output_type": "execute_result"
    }
   ],
   "source": [
    "df1.describe()"
   ]
  },
  {
   "cell_type": "code",
   "execution_count": 119,
   "metadata": {},
   "outputs": [
    {
     "data": {
      "image/png": "[encoded data removed]",
      "text/plain": [
       "<Figure size 432x288 with 1 Axes>"
      ]
     },
     "metadata": {
      "needs_background": "light"
     },
     "output_type": "display_data"
    }
   ],
   "source": [
    "sns.scatterplot(x=df1[\"retweets_count\"], y=df1[\"likes_count\"]);"
   ]
  },
  {
   "cell_type": "code",
   "execution_count": 120,
   "metadata": {},
   "outputs": [
    {
     "data": {
      "image/png": "[encoded data removed]",
      "text/plain": [
       "<Figure size 360x360 with 6 Axes>"
      ]
     },
     "metadata": {
      "needs_background": "light"
     },
     "output_type": "display_data"
    }
   ],
   "source": [
    "sns.pairplot(df1);"
   ]
  },
  {
   "cell_type": "code",
   "execution_count": 121,
   "metadata": {},
   "outputs": [
    {
     "data": {
      "image/png": "[encoded data removed]",
      "text/plain": [
       "<Figure size 720x432 with 1 Axes>"
      ]
     },
     "metadata": {
      "needs_background": "light"
     },
     "output_type": "display_data"
    }
   ],
   "source": [
    "x=df1[\"search_term\"].value_counts().index.to_list()\n",
    "\n",
    "y = df1[\"search_term\"].value_counts().to_list()\n",
    "\n",
    "fig, ax = plt.subplots(figsize=(10,6))\n",
    "sns.barplot(x=x, y=y)\n",
    "plt.title(\"Number of Tweets per term\")\n",
    "plt.xlabel(\"Search Terms\")\n",
    "plt.ylabel(\"Number of Tweets\");"
   ]
  },
  {
   "cell_type": "code",
   "execution_count": 122,
   "metadata": {},
   "outputs": [],
   "source": [
    "df = df1.copy()"
   ]
  },
  {
   "cell_type": "markdown",
   "metadata": {},
   "source": [
    "# Import packages for NLP"
   ]
  },
  {
   "cell_type": "code",
   "execution_count": 123,
   "metadata": {},
   "outputs": [
    {
     "name": "stderr",
     "output_type": "stream",
     "text": [
      "[nltk_data] Downloading package stopwords to\n",
      "[nltk_data]     /Users/DataSci/nltk_data...\n",
      "[nltk_data]   Package stopwords is already up-to-date!\n",
      "[nltk_data] Downloading package punkt to /Users/DataSci/nltk_data...\n",
      "[nltk_data]   Package punkt is already up-to-date!\n",
      "[nltk_data] Downloading package wordnet to /Users/DataSci/nltk_data...\n",
      "[nltk_data]   Package wordnet is already up-to-date!\n",
      "[nltk_data] Downloading package wordnet to /Users/DataSci/nltk_data...\n",
      "[nltk_data]   Package wordnet is already up-to-date!\n",
      "[nltk_data] Downloading package averaged_perceptron_tagger to\n",
      "[nltk_data]     /Users/DataSci/nltk_data...\n",
      "[nltk_data]   Package averaged_perceptron_tagger is already up-to-\n",
      "[nltk_data]       date!\n"
     ]
    },
    {
     "data": {
      "text/plain": [
       "True"
      ]
     },
     "execution_count": 123,
     "metadata": {},
     "output_type": "execute_result"
    }
   ],
   "source": [
    "import nltk\n",
    "from sklearn.feature_extraction.text import CountVectorizer\n",
    "from sklearn.feature_extraction.text import TfidfVectorizer \n",
    "from sklearn.feature_extraction.text import TfidfTransformer\n",
    "from nltk.probability import FreqDist\n",
    "from nltk.corpus import stopwords\n",
    "from sklearn.metrics import confusion_matrix\n",
    "from sklearn.naive_bayes import MultinomialNB\n",
    "from sklearn import metrics\n",
    "from sklearn.model_selection import train_test_split\n",
    "from matplotlib import cm\n",
    "from sklearn.ensemble import RandomForestClassifier\n",
    "from sklearn.metrics import accuracy_score\n",
    "from sklearn.metrics import f1_score\n",
    "from sklearn.naive_bayes import MultinomialNB\n",
    "\n",
    "\n",
    "nltk.download('stopwords')\n",
    "nltk.download('punkt')\n",
    "nltk.download('wordnet')\n",
    "nltk.download('wordnet')\n",
    "nltk.download('averaged_perceptron_tagger')"
   ]
  },
  {
   "cell_type": "code",
   "execution_count": 124,
   "metadata": {},
   "outputs": [
    {
     "data": {
      "text/plain": [
       "['i',\n",
       " 'me',\n",
       " 'my',\n",
       " 'myself',\n",
       " 'we',\n",
       " 'our',\n",
       " 'ours',\n",
       " 'ourselves',\n",
       " 'you',\n",
       " \"you're\",\n",
       " \"you've\",\n",
       " \"you'll\",\n",
       " \"you'd\",\n",
       " 'your',\n",
       " 'yours',\n",
       " 'yourself',\n",
       " 'yourselves',\n",
       " 'he',\n",
       " 'him',\n",
       " 'his',\n",
       " 'himself',\n",
       " 'she',\n",
       " \"she's\",\n",
       " 'her',\n",
       " 'hers',\n",
       " 'herself',\n",
       " 'it',\n",
       " \"it's\",\n",
       " 'its',\n",
       " 'itself',\n",
       " 'they',\n",
       " 'them',\n",
       " 'their',\n",
       " 'theirs',\n",
       " 'themselves',\n",
       " 'what',\n",
       " 'which',\n",
       " 'who',\n",
       " 'whom',\n",
       " 'this',\n",
       " 'that',\n",
       " \"that'll\",\n",
       " 'these',\n",
       " 'those',\n",
       " 'am',\n",
       " 'is',\n",
       " 'are',\n",
       " 'was',\n",
       " 'were',\n",
       " 'be',\n",
       " 'been',\n",
       " 'being',\n",
       " 'have',\n",
       " 'has',\n",
       " 'had',\n",
       " 'having',\n",
       " 'do',\n",
       " 'does',\n",
       " 'did',\n",
       " 'doing',\n",
       " 'a',\n",
       " 'an',\n",
       " 'the',\n",
       " 'and',\n",
       " 'but',\n",
       " 'if',\n",
       " 'or',\n",
       " 'because',\n",
       " 'as',\n",
       " 'until',\n",
       " 'while',\n",
       " 'of',\n",
       " 'at',\n",
       " 'by',\n",
       " 'for',\n",
       " 'with',\n",
       " 'about',\n",
       " 'against',\n",
       " 'between',\n",
       " 'into',\n",
       " 'through',\n",
       " 'during',\n",
       " 'before',\n",
       " 'after',\n",
       " 'above',\n",
       " 'below',\n",
       " 'to',\n",
       " 'from',\n",
       " 'up',\n",
       " 'down',\n",
       " 'in',\n",
       " 'out',\n",
       " 'on',\n",
       " 'off',\n",
       " 'over',\n",
       " 'under',\n",
       " 'again',\n",
       " 'further',\n",
       " 'then',\n",
       " 'once',\n",
       " 'here',\n",
       " 'there',\n",
       " 'when',\n",
       " 'where',\n",
       " 'why',\n",
       " 'how',\n",
       " 'all',\n",
       " 'any',\n",
       " 'both',\n",
       " 'each',\n",
       " 'few',\n",
       " 'more',\n",
       " 'most',\n",
       " 'other',\n",
       " 'some',\n",
       " 'such',\n",
       " 'no',\n",
       " 'nor',\n",
       " 'not',\n",
       " 'only',\n",
       " 'own',\n",
       " 'same',\n",
       " 'so',\n",
       " 'than',\n",
       " 'too',\n",
       " 'very',\n",
       " 's',\n",
       " 't',\n",
       " 'can',\n",
       " 'will',\n",
       " 'just',\n",
       " 'don',\n",
       " \"don't\",\n",
       " 'should',\n",
       " \"should've\",\n",
       " 'now',\n",
       " 'd',\n",
       " 'll',\n",
       " 'm',\n",
       " 'o',\n",
       " 're',\n",
       " 've',\n",
       " 'y',\n",
       " 'ain',\n",
       " 'aren',\n",
       " \"aren't\",\n",
       " 'couldn',\n",
       " \"couldn't\",\n",
       " 'didn',\n",
       " \"didn't\",\n",
       " 'doesn',\n",
       " \"doesn't\",\n",
       " 'hadn',\n",
       " \"hadn't\",\n",
       " 'hasn',\n",
       " \"hasn't\",\n",
       " 'haven',\n",
       " \"haven't\",\n",
       " 'isn',\n",
       " \"isn't\",\n",
       " 'ma',\n",
       " 'mightn',\n",
       " \"mightn't\",\n",
       " 'mustn',\n",
       " \"mustn't\",\n",
       " 'needn',\n",
       " \"needn't\",\n",
       " 'shan',\n",
       " \"shan't\",\n",
       " 'shouldn',\n",
       " \"shouldn't\",\n",
       " 'wasn',\n",
       " \"wasn't\",\n",
       " 'weren',\n",
       " \"weren't\",\n",
       " 'won',\n",
       " \"won't\",\n",
       " 'wouldn',\n",
       " \"wouldn't\"]"
      ]
     },
     "execution_count": 124,
     "metadata": {},
     "output_type": "execute_result"
    }
   ],
   "source": [
    "stopwords.words('english')"
   ]
  },
  {
   "cell_type": "code",
   "execution_count": 125,
   "metadata": {},
   "outputs": [
    {
     "data": {
      "text/html": [
       "<div>\n",
       "<style scoped>\n",
       "    .dataframe tbody tr th:only-of-type {\n",
       "        vertical-align: middle;\n",
       "    }\n",
       "\n",
       "    .dataframe tbody tr th {\n",
       "        vertical-align: top;\n",
       "    }\n",
       "\n",
       "    .dataframe thead th {\n",
       "        text-align: right;\n",
       "    }\n",
       "</style>\n",
       "<table border=\"1\" class=\"dataframe\">\n",
       "  <thead>\n",
       "    <tr style=\"text-align: right;\">\n",
       "      <th></th>\n",
       "      <th>date</th>\n",
       "      <th>name</th>\n",
       "      <th>username</th>\n",
       "      <th>retweets_count</th>\n",
       "      <th>search_term</th>\n",
       "      <th>likes_count</th>\n",
       "      <th>language</th>\n",
       "      <th>c_tweet</th>\n",
       "    </tr>\n",
       "  </thead>\n",
       "  <tbody>\n",
       "    <tr>\n",
       "      <th>0</th>\n",
       "      <td>2020-11-28</td>\n",
       "      <td>HyperNavJack27</td>\n",
       "      <td>jack_mangano</td>\n",
       "      <td>0</td>\n",
       "      <td>apple silicon</td>\n",
       "      <td>10</td>\n",
       "      <td>en</td>\n",
       "      <td>borderlands in on apple silicon yes yes it pla...</td>\n",
       "    </tr>\n",
       "    <tr>\n",
       "      <th>1</th>\n",
       "      <td>2020-11-28</td>\n",
       "      <td>Erik Engheim</td>\n",
       "      <td>erikengheim</td>\n",
       "      <td>0</td>\n",
       "      <td>apple silicon</td>\n",
       "      <td>1</td>\n",
       "      <td>en</td>\n",
       "      <td>mac mini vs mac pro interesting review of pros...</td>\n",
       "    </tr>\n",
       "    <tr>\n",
       "      <th>2</th>\n",
       "      <td>2020-11-28</td>\n",
       "      <td>Armando Monroy</td>\n",
       "      <td>ratzo</td>\n",
       "      <td>0</td>\n",
       "      <td>apple silicon</td>\n",
       "      <td>2</td>\n",
       "      <td>en</td>\n",
       "      <td>and can only imagine what the apple silicon fo...</td>\n",
       "    </tr>\n",
       "    <tr>\n",
       "      <th>3</th>\n",
       "      <td>2020-11-28</td>\n",
       "      <td>Matthew S. Smith</td>\n",
       "      <td>matt_on_tech</td>\n",
       "      <td>1</td>\n",
       "      <td>apple silicon</td>\n",
       "      <td>4</td>\n",
       "      <td>en</td>\n",
       "      <td>to repeat something said at the debut if apple...</td>\n",
       "    </tr>\n",
       "    <tr>\n",
       "      <th>4</th>\n",
       "      <td>2020-11-28</td>\n",
       "      <td>Danel Omen ➐ he/him.®️</td>\n",
       "      <td>heck_wtf</td>\n",
       "      <td>0</td>\n",
       "      <td>apple silicon</td>\n",
       "      <td>0</td>\n",
       "      <td>en</td>\n",
       "      <td>is not the problem pixel size is the problem a...</td>\n",
       "    </tr>\n",
       "  </tbody>\n",
       "</table>\n",
       "</div>"
      ],
      "text/plain": [
       "         date                    name      username  retweets_count  \\\n",
       "0  2020-11-28          HyperNavJack27  jack_mangano               0   \n",
       "1  2020-11-28            Erik Engheim   erikengheim               0   \n",
       "2  2020-11-28          Armando Monroy         ratzo               0   \n",
       "3  2020-11-28        Matthew S. Smith  matt_on_tech               1   \n",
       "4  2020-11-28  Danel Omen ➐ he/him.®️      heck_wtf               0   \n",
       "\n",
       "     search_term  likes_count language  \\\n",
       "0  apple silicon           10       en   \n",
       "1  apple silicon            1       en   \n",
       "2  apple silicon            2       en   \n",
       "3  apple silicon            4       en   \n",
       "4  apple silicon            0       en   \n",
       "\n",
       "                                             c_tweet  \n",
       "0  borderlands in on apple silicon yes yes it pla...  \n",
       "1  mac mini vs mac pro interesting review of pros...  \n",
       "2  and can only imagine what the apple silicon fo...  \n",
       "3  to repeat something said at the debut if apple...  \n",
       "4  is not the problem pixel size is the problem a...  "
      ]
     },
     "execution_count": 125,
     "metadata": {},
     "output_type": "execute_result"
    }
   ],
   "source": [
    "df.head()"
   ]
  },
  {
   "cell_type": "markdown",
   "metadata": {},
   "source": [
    "# Tag Sentiment"
   ]
  },
  {
   "cell_type": "code",
   "execution_count": 126,
   "metadata": {},
   "outputs": [],
   "source": [
    "from vaderSentiment.vaderSentiment import SentimentIntensityAnalyzer\n",
    "analyzer = SentimentIntensityAnalyzer()\n",
    "\n",
    "def sentiment_analyzer_scores(sentence):\n",
    "\n",
    "    score = analyzer.polarity_scores(sentence)\n",
    "    \n",
    "\n",
    "    if score['compound'] >= .05:\n",
    "        sent = 'positive'\n",
    "\n",
    "    \n",
    "    elif score['compound'] <= -.05:\n",
    "        sent = 'negative'\n",
    "       \n",
    "    else:\n",
    "        sent = 'neutral'\n",
    "        \n",
    "\n",
    "    return sent"
   ]
  },
  {
   "cell_type": "code",
   "execution_count": 127,
   "metadata": {},
   "outputs": [],
   "source": [
    "df['sentiment'] = df.c_tweet.apply(sentiment_analyzer_scores)"
   ]
  },
  {
   "cell_type": "code",
   "execution_count": 128,
   "metadata": {},
   "outputs": [
    {
     "data": {
      "text/plain": [
       "positive    0.461090\n",
       "neutral     0.385234\n",
       "negative    0.153676\n",
       "Name: sentiment, dtype: float64"
      ]
     },
     "execution_count": 128,
     "metadata": {},
     "output_type": "execute_result"
    }
   ],
   "source": [
    "df.sentiment.value_counts(normalize=True)"
   ]
  },
  {
   "cell_type": "code",
   "execution_count": 129,
   "metadata": {},
   "outputs": [],
   "source": [
    "df.drop_duplicates(subset='c_tweet', inplace = True)"
   ]
  },
  {
   "cell_type": "code",
   "execution_count": 130,
   "metadata": {},
   "outputs": [
    {
     "data": {
      "text/plain": [
       "459839"
      ]
     },
     "execution_count": 130,
     "metadata": {},
     "output_type": "execute_result"
    }
   ],
   "source": [
    "len(df[\"c_tweet\"])"
   ]
  },
  {
   "cell_type": "markdown",
   "metadata": {},
   "source": [
    "# Stopwords created"
   ]
  },
  {
   "cell_type": "code",
   "execution_count": 131,
   "metadata": {},
   "outputs": [],
   "source": [
    "stop_words=list(set(stopwords.words(\"english\")))"
   ]
  },
  {
   "cell_type": "code",
   "execution_count": 132,
   "metadata": {},
   "outputs": [
    {
     "data": {
      "text/plain": [
       "179"
      ]
     },
     "execution_count": 132,
     "metadata": {},
     "output_type": "execute_result"
    }
   ],
   "source": [
    "len(stop_words)"
   ]
  },
  {
   "cell_type": "code",
   "execution_count": 133,
   "metadata": {},
   "outputs": [],
   "source": [
    "stop_words.extend([\"ll\", \"please retweet\", \"help rt\", \"visit us\", \"please subscribe\", \"for sale\", \"enter here\", \"to win\", \"from iphone\", \"huge giveaway\", \"new arrival\", \"win an\", \"unlocked now\", \"new available\", \"giveaway\", \"subscribe\", \"retweet\", \"easter egg\"])"
   ]
  },
  {
   "cell_type": "code",
   "execution_count": 134,
   "metadata": {},
   "outputs": [],
   "source": [
    "\n",
    "eda_stopwords = [\"iphone\", \"iphone pro\", \"pro max\", \"youtube\", \"youtuber\", \"youtubers\", \n",
    "                 \"also\", \"asap\", \"hmmm\",\"hello\", \"haha\", \"dont\", \"imac\", \"ipad\", \n",
    "                 \"ipadair\", \"ipads\", \"iphonecase\", \"iphonemini\", \"iphonepro\", \"iphonepromax\", \n",
    "                 \"iphones\", \"iphoneth\", \"ipod\",  \"lmao\", \"lmfao\", \"macbook\", \"macbookair\",\n",
    "                 \"macbookpro\", \"macbooks\", \"macosbigsur\", \"macmini\", \"magsafe\", \n",
    "                 \"okay\", \"promax\", \"wahala\", \"wont\", 'yall','yeah', 'apple', 'skin', 'tone', \"man\", \"pro\", \"face\", \"loudly\",]\n",
    "\n",
    "stop_words.extend(eda_stopwords)"
   ]
  },
  {
   "cell_type": "code",
   "execution_count": 135,
   "metadata": {},
   "outputs": [
    {
     "data": {
      "text/plain": [
       "['yours',\n",
       " 'out',\n",
       " 'shouldn',\n",
       " 'then',\n",
       " 'been',\n",
       " 'we',\n",
       " 'hers',\n",
       " 'will',\n",
       " 'your',\n",
       " 's',\n",
       " 're',\n",
       " 'having',\n",
       " \"couldn't\",\n",
       " \"isn't\",\n",
       " \"didn't\",\n",
       " 'mustn',\n",
       " 'you',\n",
       " 'herself',\n",
       " \"shan't\",\n",
       " 'won',\n",
       " 'o',\n",
       " 'they',\n",
       " 'should',\n",
       " 'which',\n",
       " 'being',\n",
       " 'through',\n",
       " 'ourselves',\n",
       " 'haven',\n",
       " 'weren',\n",
       " 'about',\n",
       " 'each',\n",
       " 'myself',\n",
       " 'under',\n",
       " 'a',\n",
       " 'themselves',\n",
       " 'other',\n",
       " 'ain',\n",
       " 'has',\n",
       " \"don't\",\n",
       " 'its',\n",
       " 'above',\n",
       " 'those',\n",
       " \"doesn't\",\n",
       " 'couldn',\n",
       " 'shan',\n",
       " \"weren't\",\n",
       " \"you'll\",\n",
       " 'from',\n",
       " 'while',\n",
       " 'how',\n",
       " \"you've\",\n",
       " 'himself',\n",
       " 'theirs',\n",
       " 'll',\n",
       " 'doesn',\n",
       " 'of',\n",
       " 'who',\n",
       " 'before',\n",
       " 'yourself',\n",
       " 'if',\n",
       " \"won't\",\n",
       " 'do',\n",
       " 'an',\n",
       " 'both',\n",
       " 'there',\n",
       " 'against',\n",
       " 'hasn',\n",
       " 'hadn',\n",
       " 'didn',\n",
       " 'them',\n",
       " 'the',\n",
       " 'are',\n",
       " 'than',\n",
       " \"aren't\",\n",
       " 'does',\n",
       " 'few',\n",
       " 'with',\n",
       " 'to',\n",
       " 'where',\n",
       " 'for',\n",
       " 'or',\n",
       " 'same',\n",
       " 'off',\n",
       " \"mightn't\",\n",
       " \"hasn't\",\n",
       " 'mightn',\n",
       " \"it's\",\n",
       " 'our',\n",
       " 'and',\n",
       " 'be',\n",
       " 'not',\n",
       " 'very',\n",
       " 'any',\n",
       " 'ours',\n",
       " 'but',\n",
       " 'too',\n",
       " 'she',\n",
       " \"wasn't\",\n",
       " 'on',\n",
       " 'between',\n",
       " 'was',\n",
       " 'some',\n",
       " \"mustn't\",\n",
       " \"shouldn't\",\n",
       " 'me',\n",
       " 'am',\n",
       " 'as',\n",
       " 'wouldn',\n",
       " 'that',\n",
       " \"should've\",\n",
       " 'it',\n",
       " 'below',\n",
       " 'why',\n",
       " 'wasn',\n",
       " 'here',\n",
       " 'i',\n",
       " 'no',\n",
       " 'their',\n",
       " 'm',\n",
       " 'have',\n",
       " 'by',\n",
       " 'into',\n",
       " 'further',\n",
       " 'aren',\n",
       " 'up',\n",
       " 'he',\n",
       " 'did',\n",
       " 'all',\n",
       " \"wouldn't\",\n",
       " 'had',\n",
       " \"you're\",\n",
       " 'after',\n",
       " 've',\n",
       " 'y',\n",
       " 'so',\n",
       " 'because',\n",
       " 'yourselves',\n",
       " 'again',\n",
       " \"hadn't\",\n",
       " 'until',\n",
       " 'his',\n",
       " 'ma',\n",
       " 'once',\n",
       " 'most',\n",
       " 'such',\n",
       " 'nor',\n",
       " 'needn',\n",
       " 'more',\n",
       " 'during',\n",
       " \"that'll\",\n",
       " 'itself',\n",
       " 'don',\n",
       " \"haven't\",\n",
       " \"she's\",\n",
       " \"you'd\",\n",
       " 'down',\n",
       " 'now',\n",
       " 't',\n",
       " 'were',\n",
       " 'her',\n",
       " 'over',\n",
       " 'in',\n",
       " 'when',\n",
       " 'is',\n",
       " 'at',\n",
       " 'this',\n",
       " 'just',\n",
       " 'can',\n",
       " 'd',\n",
       " 'isn',\n",
       " 'doing',\n",
       " 'own',\n",
       " 'him',\n",
       " 'whom',\n",
       " 'only',\n",
       " \"needn't\",\n",
       " 'what',\n",
       " 'my',\n",
       " 'these',\n",
       " 'll',\n",
       " 'please retweet',\n",
       " 'help rt',\n",
       " 'visit us',\n",
       " 'please subscribe',\n",
       " 'for sale',\n",
       " 'enter here',\n",
       " 'to win',\n",
       " 'from iphone',\n",
       " 'huge giveaway',\n",
       " 'new arrival',\n",
       " 'win an',\n",
       " 'unlocked now',\n",
       " 'new available',\n",
       " 'giveaway',\n",
       " 'subscribe',\n",
       " 'retweet',\n",
       " 'easter egg',\n",
       " 'iphone',\n",
       " 'iphone pro',\n",
       " 'pro max',\n",
       " 'youtube',\n",
       " 'youtuber',\n",
       " 'youtubers',\n",
       " 'also',\n",
       " 'asap',\n",
       " 'hmmm',\n",
       " 'hello',\n",
       " 'haha',\n",
       " 'dont',\n",
       " 'imac',\n",
       " 'ipad',\n",
       " 'ipadair',\n",
       " 'ipads',\n",
       " 'iphonecase',\n",
       " 'iphonemini',\n",
       " 'iphonepro',\n",
       " 'iphonepromax',\n",
       " 'iphones',\n",
       " 'iphoneth',\n",
       " 'ipod',\n",
       " 'lmao',\n",
       " 'lmfao',\n",
       " 'macbook',\n",
       " 'macbookair',\n",
       " 'macbookpro',\n",
       " 'macbooks',\n",
       " 'macosbigsur',\n",
       " 'macmini',\n",
       " 'magsafe',\n",
       " 'okay',\n",
       " 'promax',\n",
       " 'wahala',\n",
       " 'wont',\n",
       " 'yall',\n",
       " 'yeah',\n",
       " 'apple',\n",
       " 'skin',\n",
       " 'tone',\n",
       " 'man',\n",
       " 'pro',\n",
       " 'face',\n",
       " 'loudly']"
      ]
     },
     "execution_count": 135,
     "metadata": {},
     "output_type": "execute_result"
    }
   ],
   "source": [
    "stop_words"
   ]
  },
  {
   "cell_type": "code",
   "execution_count": 136,
   "metadata": {},
   "outputs": [
    {
     "data": {
      "text/plain": [
       "242"
      ]
     },
     "execution_count": 136,
     "metadata": {},
     "output_type": "execute_result"
    }
   ],
   "source": [
    "len(stop_words)"
   ]
  },
  {
   "cell_type": "code",
   "execution_count": 137,
   "metadata": {},
   "outputs": [
    {
     "data": {
      "text/plain": [
       "459839"
      ]
     },
     "execution_count": 137,
     "metadata": {},
     "output_type": "execute_result"
    }
   ],
   "source": [
    "len(df[\"c_tweet\"])"
   ]
  },
  {
   "cell_type": "markdown",
   "metadata": {},
   "source": [
    "# Tokenize, Lemmatize and remove stopwords"
   ]
  },
  {
   "cell_type": "code",
   "execution_count": 138,
   "metadata": {},
   "outputs": [],
   "source": [
    "import nltk\n",
    "#tokenizer = nltk.tokenize.WhitespaceTokenizer()\n",
    "lemmatizer = nltk.stem.WordNetLemmatizer()\n",
    "tokenizer = nltk.tokenize.TweetTokenizer()\n",
    "#stemming = nltk.stem.PorterStemmer()"
   ]
  },
  {
   "cell_type": "code",
   "execution_count": 139,
   "metadata": {},
   "outputs": [],
   "source": [
    "def lemmatize_text(text):\n",
    "     return [lemmatizer.lemmatize(word.replace(\" \", \"\")) for word in tokenizer.tokenize(text)]\n",
    "#    return [stemming.stem(word) for word in tokenizer.tokenize(text)]"
   ]
  },
  {
   "cell_type": "code",
   "execution_count": null,
   "metadata": {},
   "outputs": [],
   "source": [
    "#tokenize and lemmatize words\n",
    "df[\"tokenized\"] = df.c_tweet.apply(lemmatize_text)"
   ]
  },
  {
   "cell_type": "code",
   "execution_count": null,
   "metadata": {},
   "outputs": [],
   "source": [
    "# removes stopwords from the cleaned texts\n",
    "df[\"not_filtered\"] = df['tokenized'].apply(lambda x: [item for item in x if item not in stop_words and len(item)>2])"
   ]
  },
  {
   "cell_type": "code",
   "execution_count": null,
   "metadata": {},
   "outputs": [],
   "source": [
    "def unlist(x):\n",
    "    return \", \".join(x)"
   ]
  },
  {
   "cell_type": "code",
   "execution_count": null,
   "metadata": {},
   "outputs": [],
   "source": [
    "df[\"filtered\"] = df.not_filtered.apply(unlist)\n",
    "#df.drop(columns = [\"filtered\", \"cleaned\"], inplace = True)"
   ]
  },
  {
   "cell_type": "code",
   "execution_count": null,
   "metadata": {},
   "outputs": [],
   "source": [
    "df.head()"
   ]
  },
  {
   "cell_type": "markdown",
   "metadata": {},
   "source": [
    "# Seperate DataFrames based on search term"
   ]
  },
  {
   "cell_type": "code",
   "execution_count": null,
   "metadata": {},
   "outputs": [],
   "source": [
    "app_sil_df = df[df.search_term==\"apple silicon\"]\n",
    "google_pixel_5_df = df[df.search_term==\"google pixel 5\"]\n",
    "m1_macbook_df = df[df.search_term==\"M1 macbook\"]\n",
    "new_macbook_df = df[df.search_term==\"new macbook\"]\n",
    "new_pixel_df = df[df.search_term==\"new pixel\"]\n",
    "pixel_5_df = df[df.search_term==\"pixel 5\"]\n",
    "iphone_12_df = df[df.search_term==\"iphone 12\"]\n"
   ]
  },
  {
   "cell_type": "code",
   "execution_count": null,
   "metadata": {},
   "outputs": [],
   "source": [
    "app_frames = [app_sil_df,\n",
    "m1_macbook_df,\n",
    "new_macbook_df,\n",
    "iphone_12_df]\n",
    "\n",
    "goo_frames = [google_pixel_5_df,\n",
    "new_pixel_df,\n",
    "pixel_5_df]\n",
    "\n",
    "apple_df = pd.concat(app_frames, ignore_index = True)\n",
    "google_df = pd.concat(goo_frames, ignore_index = True)"
   ]
  },
  {
   "cell_type": "code",
   "execution_count": null,
   "metadata": {},
   "outputs": [],
   "source": [
    "apple_df.dtypes"
   ]
  },
  {
   "cell_type": "code",
   "execution_count": null,
   "metadata": {},
   "outputs": [],
   "source": [
    "#FreqDist() goes here but idk how to go about it... \n",
    "#do we make FreqDist for each row? \n",
    "#or can we do it for each sentiment? \n",
    "#or for each search term? "
   ]
  },
  {
   "cell_type": "code",
   "execution_count": null,
   "metadata": {},
   "outputs": [],
   "source": [
    "testing = apple_df.filtered"
   ]
  },
  {
   "cell_type": "code",
   "execution_count": null,
   "metadata": {
    "scrolled": true
   },
   "outputs": [],
   "source": [
    "fdist=FreqDist(testing)\n",
    "fdist.plot(10)"
   ]
  },
  {
   "cell_type": "code",
   "execution_count": null,
   "metadata": {},
   "outputs": [],
   "source": [
    "fdist.elements"
   ]
  },
  {
   "cell_type": "code",
   "execution_count": null,
   "metadata": {
    "scrolled": true
   },
   "outputs": [],
   "source": [
    "apple_df"
   ]
  },
  {
   "cell_type": "code",
   "execution_count": null,
   "metadata": {},
   "outputs": [],
   "source": [
    "apple_tweets = apple_df[\"not_filtered\"]"
   ]
  },
  {
   "cell_type": "code",
   "execution_count": null,
   "metadata": {},
   "outputs": [],
   "source": [
    "apple_tweets[:5]"
   ]
  },
  {
   "cell_type": "markdown",
   "metadata": {},
   "source": [
    "# Bag of Words on the filtered column"
   ]
  },
  {
   "cell_type": "code",
   "execution_count": null,
   "metadata": {},
   "outputs": [],
   "source": [
    "import gensim"
   ]
  },
  {
   "cell_type": "code",
   "execution_count": null,
   "metadata": {},
   "outputs": [],
   "source": [
    "# this will tag every word in the variable apple_tweets and give it a numer. \n",
    "\n",
    "dictionary = gensim.corpora.Dictionary(apple_tweets)\n",
    "\n",
    "\n",
    "\n",
    "count = 0\n",
    "for k, v in dictionary.iteritems():\n",
    "    print(k, v)\n",
    "    count += 1\n",
    "    if count > 50:\n",
    "        break"
   ]
  },
  {
   "cell_type": "code",
   "execution_count": null,
   "metadata": {},
   "outputs": [],
   "source": [
    "len(dictionary)"
   ]
  },
  {
   "cell_type": "code",
   "execution_count": null,
   "metadata": {},
   "outputs": [],
   "source": [
    "# dictionary is then filtered to remove that appear in more than 50% and only keep the first 10,000\n",
    "dictionary.filter_extremes(no_above=0.5)"
   ]
  },
  {
   "cell_type": "code",
   "execution_count": null,
   "metadata": {},
   "outputs": [],
   "source": [
    "# applying the dictionary to the apple tweets to create a sparce matrix/vector\n",
    "\n",
    "sparce_matrix = [dictionary.doc2bow(doc) for doc in apple_tweets]"
   ]
  },
  {
   "cell_type": "code",
   "execution_count": null,
   "metadata": {},
   "outputs": [],
   "source": [
    "sparce_matrix.shape"
   ]
  },
  {
   "cell_type": "code",
   "execution_count": null,
   "metadata": {},
   "outputs": [],
   "source": []
  },
  {
   "cell_type": "code",
   "execution_count": null,
   "metadata": {},
   "outputs": [],
   "source": []
  },
  {
   "cell_type": "code",
   "execution_count": null,
   "metadata": {},
   "outputs": [],
   "source": []
  },
  {
   "cell_type": "code",
   "execution_count": 103,
   "metadata": {},
   "outputs": [
    {
     "data": {
      "text/plain": [
       "['imagining',\n",
       " 'possibility',\n",
       " 'silicon',\n",
       " 'feature',\n",
       " 'could',\n",
       " 'silicon',\n",
       " 'enable',\n",
       " 'computer',\n",
       " 'share']"
      ]
     },
     "execution_count": 103,
     "metadata": {},
     "output_type": "execute_result"
    }
   ],
   "source": [
    "apple_tweets[6]"
   ]
  },
  {
   "cell_type": "code",
   "execution_count": 104,
   "metadata": {},
   "outputs": [
    {
     "data": {
      "text/plain": [
       "[(2, 2), (49, 1), (50, 1), (51, 1), (52, 1), (53, 1), (54, 1), (55, 1)]"
      ]
     },
     "execution_count": 104,
     "metadata": {},
     "output_type": "execute_result"
    }
   ],
   "source": [
    "sparce_matrix[6]"
   ]
  },
  {
   "cell_type": "code",
   "execution_count": 105,
   "metadata": {
    "scrolled": true
   },
   "outputs": [],
   "source": [
    "bow=pd.DataFrame(bow_corpus)\n"
   ]
  },
  {
   "cell_type": "code",
   "execution_count": 107,
   "metadata": {},
   "outputs": [
    {
     "name": "stdout",
     "output_type": "stream",
     "text": [
      "Word 2 (\"silicon\") appears 2 time.\n",
      "Word 49 (\"computer\") appears 1 time.\n",
      "Word 50 (\"could\") appears 1 time.\n",
      "Word 51 (\"enable\") appears 1 time.\n",
      "Word 52 (\"feature\") appears 1 time.\n",
      "Word 53 (\"imagining\") appears 1 time.\n",
      "Word 54 (\"possibility\") appears 1 time.\n",
      "Word 55 (\"share\") appears 1 time.\n"
     ]
    }
   ],
   "source": [
    "bow_doc = sparce_matrix[6]\n",
    "for i in range(len(bow_doc)):\n",
    "    print(\"Word {} (\\\"{}\\\") appears {} time.\".format(bow_doc[i][0], \n",
    "                                               dictionary[bow_doc[i][0]], \n",
    "                                                bow_doc[i][1]))\n"
   ]
  },
  {
   "cell_type": "markdown",
   "metadata": {},
   "source": [
    "# TFIDF corpus"
   ]
  },
  {
   "cell_type": "code",
   "execution_count": 108,
   "metadata": {},
   "outputs": [
    {
     "name": "stdout",
     "output_type": "stream",
     "text": [
      "[(1, 0.7025773184107719), (2, 0.194999085356746), (3, 0.68436866407278)]\n"
     ]
    }
   ],
   "source": [
    "from gensim import corpora, models\n",
    "tfidf = models.TfidfModel(sparce_matrix)\n",
    "corpus_tfidf = tfidf[sparce_matrix]\n",
    "\n",
    "from pprint import pprint\n",
    "\n",
    "for doc in corpus_tfidf:\n",
    "    pprint(doc)\n",
    "    break\n",
    "        "
   ]
  },
  {
   "cell_type": "code",
   "execution_count": 109,
   "metadata": {},
   "outputs": [
    {
     "data": {
      "text/plain": [
       "['borderland', 'silicon', 'yes', 'yes', 'playable']"
      ]
     },
     "execution_count": 109,
     "metadata": {},
     "output_type": "execute_result"
    }
   ],
   "source": [
    "apple_tweets[0]"
   ]
  },
  {
   "cell_type": "code",
   "execution_count": 110,
   "metadata": {},
   "outputs": [
    {
     "data": {
      "text/plain": [
       "[(1, 0.7025773184107719), (2, 0.194999085356746), (3, 0.68436866407278)]"
      ]
     },
     "execution_count": 110,
     "metadata": {},
     "output_type": "execute_result"
    }
   ],
   "source": [
    "corpus_tfidf[0]"
   ]
  },
  {
   "cell_type": "markdown",
   "metadata": {},
   "source": [
    "# LDA Model"
   ]
  },
  {
   "cell_type": "code",
   "execution_count": 111,
   "metadata": {},
   "outputs": [
    {
     "name": "stdout",
     "output_type": "stream",
     "text": [
      "CPU times: user 2min 13s, sys: 27.5 s, total: 2min 41s\n",
      "Wall time: 7min 23s\n"
     ]
    }
   ],
   "source": [
    "%%time\n",
    "lda_model = gensim.models.LdaMulticore(sparce_matrix, num_topics=10, id2word=dictionary, passes=10, workers=8, random_state=1)"
   ]
  },
  {
   "cell_type": "code",
   "execution_count": 112,
   "metadata": {
    "scrolled": false
   },
   "outputs": [
    {
     "name": "stdout",
     "output_type": "stream",
     "text": [
      "Topic: 0 \n",
      "Words: 0.049*\"charger\" + 0.024*\"new\" + 0.021*\"come\" + 0.020*\"please\" + 0.018*\"box\" + 0.018*\"charging\" + 0.017*\"usb\" + 0.015*\"update\" + 0.013*\"power\" + 0.012*\"headphone\"\n",
      "\n",
      "Topic: 1 \n",
      "Words: 0.083*\"max\" + 0.045*\"case\" + 0.044*\"mini\" + 0.042*\"blue\" + 0.021*\"camera\" + 0.021*\"phone\" + 0.020*\"color\" + 0.018*\"screen\" + 0.017*\"review\" + 0.014*\"size\"\n",
      "\n",
      "Topic: 2 \n",
      "Words: 0.070*\"mini\" + 0.040*\"max\" + 0.035*\"order\" + 0.033*\"price\" + 0.030*\"pre\" + 0.026*\"new\" + 0.019*\"available\" + 0.018*\"get\" + 0.017*\"win\" + 0.016*\"free\"\n",
      "\n",
      "Topic: 3 \n",
      "Words: 0.160*\"face\" + 0.063*\"tear\" + 0.038*\"heart\" + 0.036*\"smiling\" + 0.035*\"eye\" + 0.033*\"joy\" + 0.025*\"hand\" + 0.024*\"joyface\" + 0.022*\"medium\" + 0.019*\"floor\"\n",
      "\n",
      "Topic: 4 \n",
      "Words: 0.022*\"camera\" + 0.021*\"video\" + 0.021*\"news\" + 0.019*\"lidar\" + 0.018*\"tech\" + 0.014*\"india\" + 0.012*\"pointing\" + 0.012*\"feature\" + 0.012*\"index\" + 0.011*\"max\"\n",
      "\n",
      "Topic: 5 \n",
      "Words: 0.032*\"new\" + 0.027*\"battery\" + 0.027*\"air\" + 0.025*\"next\" + 0.019*\"chip\" + 0.017*\"life\" + 0.014*\"mark\" + 0.012*\"model\" + 0.012*\"year\" + 0.012*\"inch\"\n",
      "\n",
      "Topic: 6 \n",
      "Words: 0.043*\"buy\" + 0.042*\"get\" + 0.036*\"want\" + 0.034*\"face\" + 0.029*\"new\" + 0.026*\"need\" + 0.025*\"cry\" + 0.022*\"max\" + 0.022*\"phone\" + 0.018*\"wait\"\n",
      "\n",
      "Topic: 7 \n",
      "Words: 0.085*\"appleevent\" + 0.045*\"event\" + 0.037*\"new\" + 0.030*\"launch\" + 0.028*\"watch\" + 0.022*\"series\" + 0.018*\"october\" + 0.016*\"release\" + 0.014*\"announced\" + 0.011*\"date\"\n",
      "\n",
      "Topic: 8 \n",
      "Words: 0.026*\"silicon\" + 0.023*\"new\" + 0.020*\"mac\" + 0.010*\"use\" + 0.010*\"make\" + 0.009*\"work\" + 0.007*\"one\" + 0.006*\"dey\" + 0.006*\"run\" + 0.006*\"app\"\n",
      "\n",
      "Topic: 9 \n",
      "Words: 0.039*\"like\" + 0.023*\"look\" + 0.021*\"phone\" + 0.020*\"new\" + 0.016*\"year\" + 0.014*\"would\" + 0.012*\"good\" + 0.012*\"got\" + 0.012*\"one\" + 0.010*\"really\"\n",
      "\n"
     ]
    }
   ],
   "source": [
    "for idx, topic in lda_model.print_topics(-1):\n",
    "    print('Topic: {} \\nWords: {}\\n'.format(idx, topic))"
   ]
  },
  {
   "cell_type": "markdown",
   "metadata": {},
   "source": [
    "## Running LDA model on the TFIDF generated corpus "
   ]
  },
  {
   "cell_type": "code",
   "execution_count": 136,
   "metadata": {},
   "outputs": [
    {
     "name": "stdout",
     "output_type": "stream",
     "text": [
      "CPU times: user 7min 6s, sys: 21.5 s, total: 7min 27s\n",
      "Wall time: 7min 37s\n"
     ]
    }
   ],
   "source": [
    "%%time\n",
    "lda_model_tfidf = gensim.models.LdaMulticore(corpus_tfidf, num_topics=10, id2word=dictionary, passes=10, workers=8, random_state=1)"
   ]
  },
  {
   "cell_type": "code",
   "execution_count": 137,
   "metadata": {
    "scrolled": false
   },
   "outputs": [
    {
     "name": "stdout",
     "output_type": "stream",
     "text": [
      "Topic: 0 \n",
      "\\Word: 0.018*\"floor\" + 0.011*\"laughing\" + 0.010*\"mmwave\" + 0.009*\"wallpaper\" + 0.009*\"rolling\" + 0.006*\"fire\" + 0.006*\"update\" + 0.006*\"support\" + 0.006*\"new\" + 0.005*\"unamused\"\n",
      "\n",
      "Topic: 1 \n",
      "\\Word: 0.027*\"max\" + 0.025*\"blue\" + 0.021*\"case\" + 0.017*\"mini\" + 0.015*\"color\" + 0.012*\"unboxing\" + 0.012*\"pacific\" + 0.011*\"via\" + 0.010*\"ultra\" + 0.010*\"camera\"\n",
      "\n",
      "Topic: 2 \n",
      "\\Word: 0.023*\"pre\" + 0.023*\"order\" + 0.015*\"max\" + 0.014*\"win\" + 0.013*\"free\" + 0.012*\"available\" + 0.011*\"price\" + 0.011*\"mini\" + 0.010*\"india\" + 0.009*\"appleevent\"\n",
      "\n",
      "Topic: 3 \n",
      "\\Word: 0.048*\"face\" + 0.037*\"tear\" + 0.028*\"smiling\" + 0.026*\"heart\" + 0.025*\"eye\" + 0.024*\"joy\" + 0.015*\"joyface\" + 0.015*\"medium\" + 0.013*\"hand\" + 0.011*\"light\"\n",
      "\n",
      "Topic: 4 \n",
      "\\Word: 0.028*\"appleevent\" + 0.028*\"event\" + 0.020*\"launch\" + 0.017*\"october\" + 0.014*\"watch\" + 0.014*\"series\" + 0.012*\"release\" + 0.011*\"date\" + 0.010*\"mini\" + 0.010*\"news\"\n",
      "\n",
      "Topic: 5 \n",
      "\\Word: 0.013*\"battery\" + 0.008*\"life\" + 0.007*\"mini\" + 0.007*\"mark\" + 0.006*\"max\" + 0.006*\"new\" + 0.006*\"smaller\" + 0.006*\"phone\" + 0.006*\"better\" + 0.006*\"sexy\"\n",
      "\n",
      "Topic: 6 \n",
      "\\Word: 0.018*\"face\" + 0.018*\"get\" + 0.016*\"cry\" + 0.015*\"want\" + 0.015*\"like\" + 0.014*\"buy\" + 0.013*\"getting\" + 0.013*\"max\" + 0.013*\"look\" + 0.013*\"wait\"\n",
      "\n",
      "Topic: 7 \n",
      "\\Word: 0.017*\"new\" + 0.015*\"chip\" + 0.013*\"inch\" + 0.013*\"appleevent\" + 0.012*\"air\" + 0.012*\"mac\" + 0.010*\"silicon\" + 0.009*\"bionic\" + 0.009*\"first\" + 0.009*\"star\"\n",
      "\n",
      "Topic: 8 \n",
      "\\Word: 0.008*\"camera\" + 0.006*\"new\" + 0.005*\"shot\" + 0.005*\"video\" + 0.005*\"silicon\" + 0.005*\"photo\" + 0.004*\"night\" + 0.004*\"mode\" + 0.004*\"picture\" + 0.004*\"like\"\n",
      "\n",
      "Topic: 9 \n",
      "\\Word: 0.010*\"charger\" + 0.009*\"phone\" + 0.008*\"like\" + 0.008*\"new\" + 0.007*\"box\" + 0.006*\"usb\" + 0.006*\"come\" + 0.006*\"appleevent\" + 0.006*\"back\" + 0.006*\"headphone\"\n",
      "\n"
     ]
    }
   ],
   "source": [
    "for idx, topic in lda_model_tfidf.print_topics(-1):\n",
    "    print('Topic: {} \\n\\Word: {}\\n'.format(idx, topic))"
   ]
  },
  {
   "cell_type": "code",
   "execution_count": 138,
   "metadata": {},
   "outputs": [],
   "source": [
    "corpus_transformed = lda_model_tfidf[bow_corpus]"
   ]
  },
  {
   "cell_type": "code",
   "execution_count": 139,
   "metadata": {},
   "outputs": [
    {
     "data": {
      "text/plain": [
       "407115"
      ]
     },
     "execution_count": 139,
     "metadata": {},
     "output_type": "execute_result"
    }
   ],
   "source": [
    "len(corpus_transformed)"
   ]
  },
  {
   "cell_type": "code",
   "execution_count": 140,
   "metadata": {},
   "outputs": [
    {
     "data": {
      "text/plain": [
       "[(0, 0.020017225),\n",
       " (1, 0.61736643),\n",
       " (2, 0.020016778),\n",
       " (3, 0.020017099),\n",
       " (4, 0.020016557),\n",
       " (5, 0.020016894),\n",
       " (6, 0.020018097),\n",
       " (7, 0.22249363),\n",
       " (8, 0.020020448),\n",
       " (9, 0.020016896)]"
      ]
     },
     "execution_count": 140,
     "metadata": {},
     "output_type": "execute_result"
    }
   ],
   "source": [
    "corpus_transformed[0]"
   ]
  },
  {
   "cell_type": "code",
   "execution_count": 141,
   "metadata": {},
   "outputs": [
    {
     "name": "stdout",
     "output_type": "stream",
     "text": [
      "CPU times: user 1min 48s, sys: 1.77 s, total: 1min 50s\n",
      "Wall time: 1min 50s\n"
     ]
    }
   ],
   "source": [
    "%%time\n",
    "\n",
    "# convert to dataframe\n",
    "topics = [dict(x) for x in corpus_transformed]\n"
   ]
  },
  {
   "cell_type": "code",
   "execution_count": 142,
   "metadata": {},
   "outputs": [
    {
     "data": {
      "text/plain": [
       "{5: 0.17855817, 7: 0.7547515}"
      ]
     },
     "execution_count": 142,
     "metadata": {},
     "output_type": "execute_result"
    }
   ],
   "source": [
    "# ran earlier with 5 passes \n",
    "topics[1]"
   ]
  },
  {
   "cell_type": "code",
   "execution_count": 143,
   "metadata": {},
   "outputs": [],
   "source": [
    "# ran earlier with 10 passes topics[1]"
   ]
  },
  {
   "cell_type": "code",
   "execution_count": 144,
   "metadata": {},
   "outputs": [],
   "source": [
    "# convert list of lda topic weights to dataframe\n",
    "lda_tfidf_df = pd.DataFrame(topics)\n",
    "\n",
    "# rename columns\n",
    "lda_tfidf_df.rename(columns={i: f'topic{i}' for i in range(10)}, inplace=True)"
   ]
  },
  {
   "cell_type": "code",
   "execution_count": 145,
   "metadata": {},
   "outputs": [
    {
     "data": {
      "text/html": [
       "<div>\n",
       "<style scoped>\n",
       "    .dataframe tbody tr th:only-of-type {\n",
       "        vertical-align: middle;\n",
       "    }\n",
       "\n",
       "    .dataframe tbody tr th {\n",
       "        vertical-align: top;\n",
       "    }\n",
       "\n",
       "    .dataframe thead th {\n",
       "        text-align: right;\n",
       "    }\n",
       "</style>\n",
       "<table border=\"1\" class=\"dataframe\">\n",
       "  <thead>\n",
       "    <tr style=\"text-align: right;\">\n",
       "      <th></th>\n",
       "      <th>topic0</th>\n",
       "      <th>topic1</th>\n",
       "      <th>topic2</th>\n",
       "      <th>topic3</th>\n",
       "      <th>topic4</th>\n",
       "      <th>topic5</th>\n",
       "      <th>topic6</th>\n",
       "      <th>topic7</th>\n",
       "      <th>topic8</th>\n",
       "      <th>topic9</th>\n",
       "    </tr>\n",
       "  </thead>\n",
       "  <tbody>\n",
       "    <tr>\n",
       "      <th>0</th>\n",
       "      <td>0.020017</td>\n",
       "      <td>0.617387</td>\n",
       "      <td>0.020017</td>\n",
       "      <td>0.020017</td>\n",
       "      <td>0.020017</td>\n",
       "      <td>0.020017</td>\n",
       "      <td>0.020018</td>\n",
       "      <td>0.222473</td>\n",
       "      <td>0.020020</td>\n",
       "      <td>0.020017</td>\n",
       "    </tr>\n",
       "    <tr>\n",
       "      <th>1</th>\n",
       "      <td>NaN</td>\n",
       "      <td>NaN</td>\n",
       "      <td>NaN</td>\n",
       "      <td>NaN</td>\n",
       "      <td>NaN</td>\n",
       "      <td>0.178558</td>\n",
       "      <td>NaN</td>\n",
       "      <td>0.754752</td>\n",
       "      <td>NaN</td>\n",
       "      <td>NaN</td>\n",
       "    </tr>\n",
       "    <tr>\n",
       "      <th>2</th>\n",
       "      <td>0.025008</td>\n",
       "      <td>0.025006</td>\n",
       "      <td>0.025007</td>\n",
       "      <td>0.025010</td>\n",
       "      <td>0.025008</td>\n",
       "      <td>0.025010</td>\n",
       "      <td>0.025008</td>\n",
       "      <td>0.774911</td>\n",
       "      <td>0.025017</td>\n",
       "      <td>0.025015</td>\n",
       "    </tr>\n",
       "    <tr>\n",
       "      <th>3</th>\n",
       "      <td>NaN</td>\n",
       "      <td>NaN</td>\n",
       "      <td>NaN</td>\n",
       "      <td>NaN</td>\n",
       "      <td>NaN</td>\n",
       "      <td>NaN</td>\n",
       "      <td>NaN</td>\n",
       "      <td>0.332666</td>\n",
       "      <td>0.622850</td>\n",
       "      <td>NaN</td>\n",
       "    </tr>\n",
       "    <tr>\n",
       "      <th>4</th>\n",
       "      <td>0.203644</td>\n",
       "      <td>NaN</td>\n",
       "      <td>NaN</td>\n",
       "      <td>NaN</td>\n",
       "      <td>NaN</td>\n",
       "      <td>0.298133</td>\n",
       "      <td>NaN</td>\n",
       "      <td>0.208055</td>\n",
       "      <td>0.256809</td>\n",
       "      <td>NaN</td>\n",
       "    </tr>\n",
       "    <tr>\n",
       "      <th>...</th>\n",
       "      <td>...</td>\n",
       "      <td>...</td>\n",
       "      <td>...</td>\n",
       "      <td>...</td>\n",
       "      <td>...</td>\n",
       "      <td>...</td>\n",
       "      <td>...</td>\n",
       "      <td>...</td>\n",
       "      <td>...</td>\n",
       "      <td>...</td>\n",
       "    </tr>\n",
       "    <tr>\n",
       "      <th>407110</th>\n",
       "      <td>NaN</td>\n",
       "      <td>NaN</td>\n",
       "      <td>NaN</td>\n",
       "      <td>0.759034</td>\n",
       "      <td>0.183778</td>\n",
       "      <td>NaN</td>\n",
       "      <td>NaN</td>\n",
       "      <td>NaN</td>\n",
       "      <td>NaN</td>\n",
       "      <td>NaN</td>\n",
       "    </tr>\n",
       "    <tr>\n",
       "      <th>407111</th>\n",
       "      <td>0.012502</td>\n",
       "      <td>0.012502</td>\n",
       "      <td>0.012502</td>\n",
       "      <td>0.012504</td>\n",
       "      <td>0.012502</td>\n",
       "      <td>0.365303</td>\n",
       "      <td>0.534678</td>\n",
       "      <td>0.012503</td>\n",
       "      <td>0.012502</td>\n",
       "      <td>0.012503</td>\n",
       "    </tr>\n",
       "    <tr>\n",
       "      <th>407112</th>\n",
       "      <td>0.012505</td>\n",
       "      <td>0.012505</td>\n",
       "      <td>0.012504</td>\n",
       "      <td>0.012503</td>\n",
       "      <td>0.012503</td>\n",
       "      <td>0.012505</td>\n",
       "      <td>0.652506</td>\n",
       "      <td>0.012503</td>\n",
       "      <td>0.012504</td>\n",
       "      <td>0.247463</td>\n",
       "    </tr>\n",
       "    <tr>\n",
       "      <th>407113</th>\n",
       "      <td>0.010001</td>\n",
       "      <td>0.010001</td>\n",
       "      <td>0.010001</td>\n",
       "      <td>0.010001</td>\n",
       "      <td>0.909992</td>\n",
       "      <td>0.010001</td>\n",
       "      <td>0.010001</td>\n",
       "      <td>0.010001</td>\n",
       "      <td>0.010001</td>\n",
       "      <td>0.010001</td>\n",
       "    </tr>\n",
       "    <tr>\n",
       "      <th>407114</th>\n",
       "      <td>0.020003</td>\n",
       "      <td>0.020003</td>\n",
       "      <td>0.020004</td>\n",
       "      <td>0.314235</td>\n",
       "      <td>0.020002</td>\n",
       "      <td>0.020004</td>\n",
       "      <td>0.525735</td>\n",
       "      <td>0.020002</td>\n",
       "      <td>0.020004</td>\n",
       "      <td>0.020006</td>\n",
       "    </tr>\n",
       "  </tbody>\n",
       "</table>\n",
       "<p>407115 rows × 10 columns</p>\n",
       "</div>"
      ],
      "text/plain": [
       "          topic0    topic1    topic2    topic3    topic4    topic5    topic6  \\\n",
       "0       0.020017  0.617387  0.020017  0.020017  0.020017  0.020017  0.020018   \n",
       "1            NaN       NaN       NaN       NaN       NaN  0.178558       NaN   \n",
       "2       0.025008  0.025006  0.025007  0.025010  0.025008  0.025010  0.025008   \n",
       "3            NaN       NaN       NaN       NaN       NaN       NaN       NaN   \n",
       "4       0.203644       NaN       NaN       NaN       NaN  0.298133       NaN   \n",
       "...          ...       ...       ...       ...       ...       ...       ...   \n",
       "407110       NaN       NaN       NaN  0.759034  0.183778       NaN       NaN   \n",
       "407111  0.012502  0.012502  0.012502  0.012504  0.012502  0.365303  0.534678   \n",
       "407112  0.012505  0.012505  0.012504  0.012503  0.012503  0.012505  0.652506   \n",
       "407113  0.010001  0.010001  0.010001  0.010001  0.909992  0.010001  0.010001   \n",
       "407114  0.020003  0.020003  0.020004  0.314235  0.020002  0.020004  0.525735   \n",
       "\n",
       "          topic7    topic8    topic9  \n",
       "0       0.222473  0.020020  0.020017  \n",
       "1       0.754752       NaN       NaN  \n",
       "2       0.774911  0.025017  0.025015  \n",
       "3       0.332666  0.622850       NaN  \n",
       "4       0.208055  0.256809       NaN  \n",
       "...          ...       ...       ...  \n",
       "407110       NaN       NaN       NaN  \n",
       "407111  0.012503  0.012502  0.012503  \n",
       "407112  0.012503  0.012504  0.247463  \n",
       "407113  0.010001  0.010001  0.010001  \n",
       "407114  0.020002  0.020004  0.020006  \n",
       "\n",
       "[407115 rows x 10 columns]"
      ]
     },
     "execution_count": 145,
     "metadata": {},
     "output_type": "execute_result"
    }
   ],
   "source": [
    "lda_tfidf_df"
   ]
  },
  {
   "cell_type": "code",
   "execution_count": 146,
   "metadata": {},
   "outputs": [
    {
     "name": "stdout",
     "output_type": "stream",
     "text": [
      "407115\n",
      "407115\n"
     ]
    }
   ],
   "source": [
    "print(len(apple_df))\n",
    "print(len(lda_tfidf_df))"
   ]
  },
  {
   "cell_type": "code",
   "execution_count": 147,
   "metadata": {},
   "outputs": [
    {
     "data": {
      "text/html": [
       "<div>\n",
       "<style scoped>\n",
       "    .dataframe tbody tr th:only-of-type {\n",
       "        vertical-align: middle;\n",
       "    }\n",
       "\n",
       "    .dataframe tbody tr th {\n",
       "        vertical-align: top;\n",
       "    }\n",
       "\n",
       "    .dataframe thead th {\n",
       "        text-align: right;\n",
       "    }\n",
       "</style>\n",
       "<table border=\"1\" class=\"dataframe\">\n",
       "  <thead>\n",
       "    <tr style=\"text-align: right;\">\n",
       "      <th></th>\n",
       "      <th>topic0</th>\n",
       "      <th>topic1</th>\n",
       "      <th>topic2</th>\n",
       "      <th>topic3</th>\n",
       "      <th>topic4</th>\n",
       "      <th>topic5</th>\n",
       "      <th>topic6</th>\n",
       "      <th>topic7</th>\n",
       "      <th>topic8</th>\n",
       "      <th>topic9</th>\n",
       "    </tr>\n",
       "  </thead>\n",
       "  <tbody>\n",
       "    <tr>\n",
       "      <th>0</th>\n",
       "      <td>0.020017</td>\n",
       "      <td>0.617387</td>\n",
       "      <td>0.020017</td>\n",
       "      <td>0.020017</td>\n",
       "      <td>0.020017</td>\n",
       "      <td>0.020017</td>\n",
       "      <td>0.020018</td>\n",
       "      <td>0.222473</td>\n",
       "      <td>0.020020</td>\n",
       "      <td>0.020017</td>\n",
       "    </tr>\n",
       "    <tr>\n",
       "      <th>1</th>\n",
       "      <td>0.000000</td>\n",
       "      <td>0.000000</td>\n",
       "      <td>0.000000</td>\n",
       "      <td>0.000000</td>\n",
       "      <td>0.000000</td>\n",
       "      <td>0.178558</td>\n",
       "      <td>0.000000</td>\n",
       "      <td>0.754752</td>\n",
       "      <td>0.000000</td>\n",
       "      <td>0.000000</td>\n",
       "    </tr>\n",
       "    <tr>\n",
       "      <th>2</th>\n",
       "      <td>0.025008</td>\n",
       "      <td>0.025006</td>\n",
       "      <td>0.025007</td>\n",
       "      <td>0.025010</td>\n",
       "      <td>0.025008</td>\n",
       "      <td>0.025010</td>\n",
       "      <td>0.025008</td>\n",
       "      <td>0.774911</td>\n",
       "      <td>0.025017</td>\n",
       "      <td>0.025015</td>\n",
       "    </tr>\n",
       "    <tr>\n",
       "      <th>3</th>\n",
       "      <td>0.000000</td>\n",
       "      <td>0.000000</td>\n",
       "      <td>0.000000</td>\n",
       "      <td>0.000000</td>\n",
       "      <td>0.000000</td>\n",
       "      <td>0.000000</td>\n",
       "      <td>0.000000</td>\n",
       "      <td>0.332666</td>\n",
       "      <td>0.622850</td>\n",
       "      <td>0.000000</td>\n",
       "    </tr>\n",
       "    <tr>\n",
       "      <th>4</th>\n",
       "      <td>0.203644</td>\n",
       "      <td>0.000000</td>\n",
       "      <td>0.000000</td>\n",
       "      <td>0.000000</td>\n",
       "      <td>0.000000</td>\n",
       "      <td>0.298133</td>\n",
       "      <td>0.000000</td>\n",
       "      <td>0.208055</td>\n",
       "      <td>0.256809</td>\n",
       "      <td>0.000000</td>\n",
       "    </tr>\n",
       "  </tbody>\n",
       "</table>\n",
       "</div>"
      ],
      "text/plain": [
       "     topic0    topic1    topic2    topic3    topic4    topic5    topic6  \\\n",
       "0  0.020017  0.617387  0.020017  0.020017  0.020017  0.020017  0.020018   \n",
       "1  0.000000  0.000000  0.000000  0.000000  0.000000  0.178558  0.000000   \n",
       "2  0.025008  0.025006  0.025007  0.025010  0.025008  0.025010  0.025008   \n",
       "3  0.000000  0.000000  0.000000  0.000000  0.000000  0.000000  0.000000   \n",
       "4  0.203644  0.000000  0.000000  0.000000  0.000000  0.298133  0.000000   \n",
       "\n",
       "     topic7    topic8    topic9  \n",
       "0  0.222473  0.020020  0.020017  \n",
       "1  0.754752  0.000000  0.000000  \n",
       "2  0.774911  0.025017  0.025015  \n",
       "3  0.332666  0.622850  0.000000  \n",
       "4  0.208055  0.256809  0.000000  "
      ]
     },
     "execution_count": 147,
     "metadata": {},
     "output_type": "execute_result"
    }
   ],
   "source": [
    "lda_tfidf_df.fillna(0, inplace=True)\n",
    "\n",
    "lda_tfidf_df.head()"
   ]
  },
  {
   "cell_type": "code",
   "execution_count": 148,
   "metadata": {},
   "outputs": [],
   "source": [
    "main_df = pd.concat([apple_df, lda_tfidf_df], axis = 1)"
   ]
  },
  {
   "cell_type": "code",
   "execution_count": 149,
   "metadata": {},
   "outputs": [],
   "source": [
    "# for index, score in sorted(lda_model_tfidf[bow_corpus[0]], key=lambda tup: -1*tup[1]):\n",
    "#     print(\"\\nScore: {}\\t \\nTopic: {}\".format(score, lda_model_tfidf.print_topic(index, 10)))"
   ]
  },
  {
   "cell_type": "code",
   "execution_count": 150,
   "metadata": {},
   "outputs": [
    {
     "data": {
      "text/html": [
       "<div>\n",
       "<style scoped>\n",
       "    .dataframe tbody tr th:only-of-type {\n",
       "        vertical-align: middle;\n",
       "    }\n",
       "\n",
       "    .dataframe tbody tr th {\n",
       "        vertical-align: top;\n",
       "    }\n",
       "\n",
       "    .dataframe thead th {\n",
       "        text-align: right;\n",
       "    }\n",
       "</style>\n",
       "<table border=\"1\" class=\"dataframe\">\n",
       "  <thead>\n",
       "    <tr style=\"text-align: right;\">\n",
       "      <th></th>\n",
       "      <th>date</th>\n",
       "      <th>name</th>\n",
       "      <th>username</th>\n",
       "      <th>retweets_count</th>\n",
       "      <th>search_term</th>\n",
       "      <th>likes_count</th>\n",
       "      <th>language</th>\n",
       "      <th>c_tweet</th>\n",
       "      <th>sentiment</th>\n",
       "      <th>tokenized</th>\n",
       "      <th>...</th>\n",
       "      <th>topic0</th>\n",
       "      <th>topic1</th>\n",
       "      <th>topic2</th>\n",
       "      <th>topic3</th>\n",
       "      <th>topic4</th>\n",
       "      <th>topic5</th>\n",
       "      <th>topic6</th>\n",
       "      <th>topic7</th>\n",
       "      <th>topic8</th>\n",
       "      <th>topic9</th>\n",
       "    </tr>\n",
       "  </thead>\n",
       "  <tbody>\n",
       "    <tr>\n",
       "      <th>0</th>\n",
       "      <td>2020-11-28</td>\n",
       "      <td>HyperNavJack27</td>\n",
       "      <td>jack_mangano</td>\n",
       "      <td>0</td>\n",
       "      <td>apple silicon</td>\n",
       "      <td>10</td>\n",
       "      <td>en</td>\n",
       "      <td>borderlands in on apple silicon yes yes it pla...</td>\n",
       "      <td>positive</td>\n",
       "      <td>[borderland, in, on, apple, silicon, yes, yes,...</td>\n",
       "      <td>...</td>\n",
       "      <td>0.020017</td>\n",
       "      <td>0.617387</td>\n",
       "      <td>0.020017</td>\n",
       "      <td>0.020017</td>\n",
       "      <td>0.020017</td>\n",
       "      <td>0.020017</td>\n",
       "      <td>0.020018</td>\n",
       "      <td>0.222473</td>\n",
       "      <td>0.020020</td>\n",
       "      <td>0.020017</td>\n",
       "    </tr>\n",
       "    <tr>\n",
       "      <th>1</th>\n",
       "      <td>2020-11-28</td>\n",
       "      <td>Erik Engheim</td>\n",
       "      <td>erikengheim</td>\n",
       "      <td>0</td>\n",
       "      <td>apple silicon</td>\n",
       "      <td>1</td>\n",
       "      <td>en</td>\n",
       "      <td>mac mini vs mac pro interesting review of pros...</td>\n",
       "      <td>positive</td>\n",
       "      <td>[mac, mini, v, mac, pro, interesting, review, ...</td>\n",
       "      <td>...</td>\n",
       "      <td>0.000000</td>\n",
       "      <td>0.000000</td>\n",
       "      <td>0.000000</td>\n",
       "      <td>0.000000</td>\n",
       "      <td>0.000000</td>\n",
       "      <td>0.178558</td>\n",
       "      <td>0.000000</td>\n",
       "      <td>0.754752</td>\n",
       "      <td>0.000000</td>\n",
       "      <td>0.000000</td>\n",
       "    </tr>\n",
       "    <tr>\n",
       "      <th>2</th>\n",
       "      <td>2020-11-28</td>\n",
       "      <td>Armando Monroy</td>\n",
       "      <td>ratzo</td>\n",
       "      <td>0</td>\n",
       "      <td>apple silicon</td>\n",
       "      <td>2</td>\n",
       "      <td>en</td>\n",
       "      <td>and can only imagine what the apple silicon fo...</td>\n",
       "      <td>positive</td>\n",
       "      <td>[and, can, only, imagine, what, the, apple, si...</td>\n",
       "      <td>...</td>\n",
       "      <td>0.025008</td>\n",
       "      <td>0.025006</td>\n",
       "      <td>0.025007</td>\n",
       "      <td>0.025010</td>\n",
       "      <td>0.025008</td>\n",
       "      <td>0.025010</td>\n",
       "      <td>0.025008</td>\n",
       "      <td>0.774911</td>\n",
       "      <td>0.025017</td>\n",
       "      <td>0.025015</td>\n",
       "    </tr>\n",
       "    <tr>\n",
       "      <th>3</th>\n",
       "      <td>2020-11-28</td>\n",
       "      <td>Matthew S. Smith</td>\n",
       "      <td>matt_on_tech</td>\n",
       "      <td>1</td>\n",
       "      <td>apple silicon</td>\n",
       "      <td>4</td>\n",
       "      <td>en</td>\n",
       "      <td>to repeat something said at the debut if apple...</td>\n",
       "      <td>neutral</td>\n",
       "      <td>[to, repeat, something, said, at, the, debut, ...</td>\n",
       "      <td>...</td>\n",
       "      <td>0.000000</td>\n",
       "      <td>0.000000</td>\n",
       "      <td>0.000000</td>\n",
       "      <td>0.000000</td>\n",
       "      <td>0.000000</td>\n",
       "      <td>0.000000</td>\n",
       "      <td>0.000000</td>\n",
       "      <td>0.332666</td>\n",
       "      <td>0.622850</td>\n",
       "      <td>0.000000</td>\n",
       "    </tr>\n",
       "    <tr>\n",
       "      <th>4</th>\n",
       "      <td>2020-11-28</td>\n",
       "      <td>Danel Omen ➐ he/him.®️</td>\n",
       "      <td>heck_wtf</td>\n",
       "      <td>0</td>\n",
       "      <td>apple silicon</td>\n",
       "      <td>0</td>\n",
       "      <td>en</td>\n",
       "      <td>is not the problem pixel size is the problem a...</td>\n",
       "      <td>negative</td>\n",
       "      <td>[is, not, the, problem, pixel, size, is, the, ...</td>\n",
       "      <td>...</td>\n",
       "      <td>0.203644</td>\n",
       "      <td>0.000000</td>\n",
       "      <td>0.000000</td>\n",
       "      <td>0.000000</td>\n",
       "      <td>0.000000</td>\n",
       "      <td>0.298133</td>\n",
       "      <td>0.000000</td>\n",
       "      <td>0.208055</td>\n",
       "      <td>0.256809</td>\n",
       "      <td>0.000000</td>\n",
       "    </tr>\n",
       "  </tbody>\n",
       "</table>\n",
       "<p>5 rows × 22 columns</p>\n",
       "</div>"
      ],
      "text/plain": [
       "         date                    name      username  retweets_count  \\\n",
       "0  2020-11-28          HyperNavJack27  jack_mangano               0   \n",
       "1  2020-11-28            Erik Engheim   erikengheim               0   \n",
       "2  2020-11-28          Armando Monroy         ratzo               0   \n",
       "3  2020-11-28        Matthew S. Smith  matt_on_tech               1   \n",
       "4  2020-11-28  Danel Omen ➐ he/him.®️      heck_wtf               0   \n",
       "\n",
       "     search_term  likes_count language  \\\n",
       "0  apple silicon           10       en   \n",
       "1  apple silicon            1       en   \n",
       "2  apple silicon            2       en   \n",
       "3  apple silicon            4       en   \n",
       "4  apple silicon            0       en   \n",
       "\n",
       "                                             c_tweet sentiment  \\\n",
       "0  borderlands in on apple silicon yes yes it pla...  positive   \n",
       "1  mac mini vs mac pro interesting review of pros...  positive   \n",
       "2  and can only imagine what the apple silicon fo...  positive   \n",
       "3  to repeat something said at the debut if apple...   neutral   \n",
       "4  is not the problem pixel size is the problem a...  negative   \n",
       "\n",
       "                                           tokenized  ...    topic0    topic1  \\\n",
       "0  [borderland, in, on, apple, silicon, yes, yes,...  ...  0.020017  0.617387   \n",
       "1  [mac, mini, v, mac, pro, interesting, review, ...  ...  0.000000  0.000000   \n",
       "2  [and, can, only, imagine, what, the, apple, si...  ...  0.025008  0.025006   \n",
       "3  [to, repeat, something, said, at, the, debut, ...  ...  0.000000  0.000000   \n",
       "4  [is, not, the, problem, pixel, size, is, the, ...  ...  0.203644  0.000000   \n",
       "\n",
       "     topic2    topic3    topic4    topic5    topic6    topic7    topic8  \\\n",
       "0  0.020017  0.020017  0.020017  0.020017  0.020018  0.222473  0.020020   \n",
       "1  0.000000  0.000000  0.000000  0.178558  0.000000  0.754752  0.000000   \n",
       "2  0.025007  0.025010  0.025008  0.025010  0.025008  0.774911  0.025017   \n",
       "3  0.000000  0.000000  0.000000  0.000000  0.000000  0.332666  0.622850   \n",
       "4  0.000000  0.000000  0.000000  0.298133  0.000000  0.208055  0.256809   \n",
       "\n",
       "     topic9  \n",
       "0  0.020017  \n",
       "1  0.000000  \n",
       "2  0.025015  \n",
       "3  0.000000  \n",
       "4  0.000000  \n",
       "\n",
       "[5 rows x 22 columns]"
      ]
     },
     "execution_count": 150,
     "metadata": {},
     "output_type": "execute_result"
    }
   ],
   "source": [
    "main_df.head()"
   ]
  },
  {
   "cell_type": "code",
   "execution_count": 151,
   "metadata": {},
   "outputs": [],
   "source": [
    "main_df.drop(columns=[\"language\", \"name\", \"username\", \"tokenized\", \"not_filtered\"], inplace=True)"
   ]
  },
  {
   "cell_type": "code",
   "execution_count": 152,
   "metadata": {},
   "outputs": [
    {
     "data": {
      "text/html": [
       "<div>\n",
       "<style scoped>\n",
       "    .dataframe tbody tr th:only-of-type {\n",
       "        vertical-align: middle;\n",
       "    }\n",
       "\n",
       "    .dataframe tbody tr th {\n",
       "        vertical-align: top;\n",
       "    }\n",
       "\n",
       "    .dataframe thead th {\n",
       "        text-align: right;\n",
       "    }\n",
       "</style>\n",
       "<table border=\"1\" class=\"dataframe\">\n",
       "  <thead>\n",
       "    <tr style=\"text-align: right;\">\n",
       "      <th></th>\n",
       "      <th>date</th>\n",
       "      <th>retweets_count</th>\n",
       "      <th>search_term</th>\n",
       "      <th>likes_count</th>\n",
       "      <th>c_tweet</th>\n",
       "      <th>sentiment</th>\n",
       "      <th>filtered</th>\n",
       "      <th>topic0</th>\n",
       "      <th>topic1</th>\n",
       "      <th>topic2</th>\n",
       "      <th>topic3</th>\n",
       "      <th>topic4</th>\n",
       "      <th>topic5</th>\n",
       "      <th>topic6</th>\n",
       "      <th>topic7</th>\n",
       "      <th>topic8</th>\n",
       "      <th>topic9</th>\n",
       "    </tr>\n",
       "  </thead>\n",
       "  <tbody>\n",
       "    <tr>\n",
       "      <th>0</th>\n",
       "      <td>2020-11-28</td>\n",
       "      <td>0</td>\n",
       "      <td>apple silicon</td>\n",
       "      <td>10</td>\n",
       "      <td>borderlands in on apple silicon yes yes it pla...</td>\n",
       "      <td>positive</td>\n",
       "      <td>borderland, silicon, yes, yes, playable</td>\n",
       "      <td>0.020017</td>\n",
       "      <td>0.617387</td>\n",
       "      <td>0.020017</td>\n",
       "      <td>0.020017</td>\n",
       "      <td>0.020017</td>\n",
       "      <td>0.020017</td>\n",
       "      <td>0.020018</td>\n",
       "      <td>0.222473</td>\n",
       "      <td>0.02002</td>\n",
       "      <td>0.020017</td>\n",
       "    </tr>\n",
       "    <tr>\n",
       "      <th>1</th>\n",
       "      <td>2020-11-28</td>\n",
       "      <td>0</td>\n",
       "      <td>apple silicon</td>\n",
       "      <td>1</td>\n",
       "      <td>mac mini vs mac pro interesting review of pros...</td>\n",
       "      <td>positive</td>\n",
       "      <td>mac, mini, mac, interesting, review, con, appl...</td>\n",
       "      <td>0.000000</td>\n",
       "      <td>0.000000</td>\n",
       "      <td>0.000000</td>\n",
       "      <td>0.000000</td>\n",
       "      <td>0.000000</td>\n",
       "      <td>0.178558</td>\n",
       "      <td>0.000000</td>\n",
       "      <td>0.754752</td>\n",
       "      <td>0.00000</td>\n",
       "      <td>0.000000</td>\n",
       "    </tr>\n",
       "  </tbody>\n",
       "</table>\n",
       "</div>"
      ],
      "text/plain": [
       "         date  retweets_count    search_term  likes_count  \\\n",
       "0  2020-11-28               0  apple silicon           10   \n",
       "1  2020-11-28               0  apple silicon            1   \n",
       "\n",
       "                                             c_tweet sentiment  \\\n",
       "0  borderlands in on apple silicon yes yes it pla...  positive   \n",
       "1  mac mini vs mac pro interesting review of pros...  positive   \n",
       "\n",
       "                                            filtered    topic0    topic1  \\\n",
       "0            borderland, silicon, yes, yes, playable  0.020017  0.617387   \n",
       "1  mac, mini, mac, interesting, review, con, appl...  0.000000  0.000000   \n",
       "\n",
       "     topic2    topic3    topic4    topic5    topic6    topic7   topic8  \\\n",
       "0  0.020017  0.020017  0.020017  0.020017  0.020018  0.222473  0.02002   \n",
       "1  0.000000  0.000000  0.000000  0.178558  0.000000  0.754752  0.00000   \n",
       "\n",
       "     topic9  \n",
       "0  0.020017  \n",
       "1  0.000000  "
      ]
     },
     "execution_count": 152,
     "metadata": {},
     "output_type": "execute_result"
    }
   ],
   "source": [
    "main_df.head(2)"
   ]
  },
  {
   "cell_type": "code",
   "execution_count": 153,
   "metadata": {},
   "outputs": [],
   "source": [
    "yes_retweet = []\n",
    "for x in main_df[\"retweets_count\"]:\n",
    "    if x >= 1:\n",
    "        yes_retweet.append(1)\n",
    "    else: \n",
    "        yes_retweet.append(0)\n",
    "        \n",
    "        \n",
    "main_df[\"yes_retweets\"] = yes_retweet\n",
    "#df.drop(columns = \"retweets_count\")\n",
    "main_df.drop(columns = \"retweets_count\", inplace = True)"
   ]
  },
  {
   "cell_type": "code",
   "execution_count": 154,
   "metadata": {},
   "outputs": [
    {
     "data": {
      "text/html": [
       "<div>\n",
       "<style scoped>\n",
       "    .dataframe tbody tr th:only-of-type {\n",
       "        vertical-align: middle;\n",
       "    }\n",
       "\n",
       "    .dataframe tbody tr th {\n",
       "        vertical-align: top;\n",
       "    }\n",
       "\n",
       "    .dataframe thead th {\n",
       "        text-align: right;\n",
       "    }\n",
       "</style>\n",
       "<table border=\"1\" class=\"dataframe\">\n",
       "  <thead>\n",
       "    <tr style=\"text-align: right;\">\n",
       "      <th></th>\n",
       "      <th>date</th>\n",
       "      <th>search_term</th>\n",
       "      <th>likes_count</th>\n",
       "      <th>c_tweet</th>\n",
       "      <th>sentiment</th>\n",
       "      <th>filtered</th>\n",
       "      <th>topic0</th>\n",
       "      <th>topic1</th>\n",
       "      <th>topic2</th>\n",
       "      <th>topic3</th>\n",
       "      <th>topic4</th>\n",
       "      <th>topic5</th>\n",
       "      <th>topic6</th>\n",
       "      <th>topic7</th>\n",
       "      <th>topic8</th>\n",
       "      <th>topic9</th>\n",
       "      <th>yes_retweets</th>\n",
       "      <th>yes_likes</th>\n",
       "    </tr>\n",
       "  </thead>\n",
       "  <tbody>\n",
       "    <tr>\n",
       "      <th>0</th>\n",
       "      <td>2020-11-28</td>\n",
       "      <td>apple silicon</td>\n",
       "      <td>10</td>\n",
       "      <td>borderlands in on apple silicon yes yes it pla...</td>\n",
       "      <td>positive</td>\n",
       "      <td>borderland, silicon, yes, yes, playable</td>\n",
       "      <td>0.020017</td>\n",
       "      <td>0.617387</td>\n",
       "      <td>0.020017</td>\n",
       "      <td>0.020017</td>\n",
       "      <td>0.020017</td>\n",
       "      <td>0.020017</td>\n",
       "      <td>0.020018</td>\n",
       "      <td>0.222473</td>\n",
       "      <td>0.02002</td>\n",
       "      <td>0.020017</td>\n",
       "      <td>0</td>\n",
       "      <td>1</td>\n",
       "    </tr>\n",
       "    <tr>\n",
       "      <th>1</th>\n",
       "      <td>2020-11-28</td>\n",
       "      <td>apple silicon</td>\n",
       "      <td>1</td>\n",
       "      <td>mac mini vs mac pro interesting review of pros...</td>\n",
       "      <td>positive</td>\n",
       "      <td>mac, mini, mac, interesting, review, con, appl...</td>\n",
       "      <td>0.000000</td>\n",
       "      <td>0.000000</td>\n",
       "      <td>0.000000</td>\n",
       "      <td>0.000000</td>\n",
       "      <td>0.000000</td>\n",
       "      <td>0.178558</td>\n",
       "      <td>0.000000</td>\n",
       "      <td>0.754752</td>\n",
       "      <td>0.00000</td>\n",
       "      <td>0.000000</td>\n",
       "      <td>0</td>\n",
       "      <td>1</td>\n",
       "    </tr>\n",
       "  </tbody>\n",
       "</table>\n",
       "</div>"
      ],
      "text/plain": [
       "         date    search_term  likes_count  \\\n",
       "0  2020-11-28  apple silicon           10   \n",
       "1  2020-11-28  apple silicon            1   \n",
       "\n",
       "                                             c_tweet sentiment  \\\n",
       "0  borderlands in on apple silicon yes yes it pla...  positive   \n",
       "1  mac mini vs mac pro interesting review of pros...  positive   \n",
       "\n",
       "                                            filtered    topic0    topic1  \\\n",
       "0            borderland, silicon, yes, yes, playable  0.020017  0.617387   \n",
       "1  mac, mini, mac, interesting, review, con, appl...  0.000000  0.000000   \n",
       "\n",
       "     topic2    topic3    topic4    topic5    topic6    topic7   topic8  \\\n",
       "0  0.020017  0.020017  0.020017  0.020017  0.020018  0.222473  0.02002   \n",
       "1  0.000000  0.000000  0.000000  0.178558  0.000000  0.754752  0.00000   \n",
       "\n",
       "     topic9  yes_retweets  yes_likes  \n",
       "0  0.020017             0          1  \n",
       "1  0.000000             0          1  "
      ]
     },
     "execution_count": 154,
     "metadata": {},
     "output_type": "execute_result"
    }
   ],
   "source": [
    "yes_likes = []\n",
    "for x in main_df[\"likes_count\"]:\n",
    "    if x >= 1:\n",
    "        yes_likes.append(1)\n",
    "    else: \n",
    "        yes_likes.append(0)\n",
    "        \n",
    "        \n",
    "main_df[\"yes_likes\"] = yes_likes\n",
    "#df.drop(columns = \"retweets_count\")\n",
    "#main_df.drop(columns = \"retweets_count\", inplace = True)\n",
    "\n",
    "main_df.head(2)"
   ]
  },
  {
   "cell_type": "code",
   "execution_count": 155,
   "metadata": {
    "scrolled": false
   },
   "outputs": [
    {
     "data": {
      "text/plain": [
       "date             object\n",
       "search_term      object\n",
       "likes_count       int64\n",
       "c_tweet          object\n",
       "sentiment        object\n",
       "filtered         object\n",
       "topic0          float64\n",
       "topic1          float64\n",
       "topic2          float64\n",
       "topic3          float64\n",
       "topic4          float64\n",
       "topic5          float64\n",
       "topic6          float64\n",
       "topic7          float64\n",
       "topic8          float64\n",
       "topic9          float64\n",
       "yes_retweets      int64\n",
       "yes_likes         int64\n",
       "dtype: object"
      ]
     },
     "execution_count": 155,
     "metadata": {},
     "output_type": "execute_result"
    }
   ],
   "source": [
    "main_df.dtypes"
   ]
  },
  {
   "cell_type": "markdown",
   "metadata": {},
   "source": [
    "# Creating subjectivity score using Textblob"
   ]
  },
  {
   "cell_type": "code",
   "execution_count": 156,
   "metadata": {},
   "outputs": [],
   "source": [
    "from textblob import TextBlob"
   ]
  },
  {
   "cell_type": "code",
   "execution_count": 157,
   "metadata": {},
   "outputs": [],
   "source": [
    "main_df['subjectivity_score'] = main_df['filtered'].apply(lambda x: TextBlob(x).sentiment.subjectivity)"
   ]
  },
  {
   "cell_type": "code",
   "execution_count": null,
   "metadata": {},
   "outputs": [],
   "source": []
  },
  {
   "cell_type": "code",
   "execution_count": null,
   "metadata": {},
   "outputs": [],
   "source": []
  },
  {
   "cell_type": "code",
   "execution_count": 222,
   "metadata": {},
   "outputs": [],
   "source": [
    "topic_df = main_df.iloc[:,6:16]\n",
    "tes = topic_df.idxmax(axis=1)\n",
    "main_df[\"test\"]=tes"
   ]
  },
  {
   "cell_type": "code",
   "execution_count": 224,
   "metadata": {},
   "outputs": [],
   "source": [
    "main_df.to_csv(\"main_df.csv\")"
   ]
  },
  {
   "cell_type": "code",
   "execution_count": 163,
   "metadata": {},
   "outputs": [
    {
     "data": {
      "text/plain": [
       "Index(['topic0', 'topic1', 'topic2', 'topic3', 'topic4', 'topic5', 'topic6',\n",
       "       'topic7', 'topic8', 'topic9'],\n",
       "      dtype='object')"
      ]
     },
     "execution_count": 163,
     "metadata": {},
     "output_type": "execute_result"
    }
   ],
   "source": [
    "main_df.columns[6:16]"
   ]
  },
  {
   "cell_type": "markdown",
   "metadata": {},
   "source": [
    "# EDA GO CRAY"
   ]
  },
  {
   "cell_type": "code",
   "execution_count": 1,
   "metadata": {},
   "outputs": [
    {
     "ename": "NameError",
     "evalue": "name 'sns' is not defined",
     "output_type": "error",
     "traceback": [
      "\u001b[0;31m---------------------------------------------------------------------------\u001b[0m",
      "\u001b[0;31mNameError\u001b[0m                                 Traceback (most recent call last)",
      "\u001b[0;32m<ipython-input-1-de5fd70f5a2d>\u001b[0m in \u001b[0;36m<module>\u001b[0;34m()\u001b[0m\n\u001b[0;32m----> 1\u001b[0;31m \u001b[0msns\u001b[0m\u001b[0;34m.\u001b[0m\u001b[0mbarplot\u001b[0m\u001b[0;34m(\u001b[0m\u001b[0mx\u001b[0m \u001b[0;34m=\u001b[0m \u001b[0;34m\"sentiment\"\u001b[0m\u001b[0;34m,\u001b[0m \u001b[0my\u001b[0m\u001b[0;34m=\u001b[0m \u001b[0mmain_df\u001b[0m\u001b[0;34m[\u001b[0m\u001b[0;34m\"yes_likes\"\u001b[0m\u001b[0;34m]\u001b[0m\u001b[0;34m.\u001b[0m\u001b[0msum\u001b[0m\u001b[0;34m(\u001b[0m\u001b[0;34m)\u001b[0m\u001b[0;34m,\u001b[0m \u001b[0mdata\u001b[0m \u001b[0;34m=\u001b[0m \u001b[0mmain_df\u001b[0m\u001b[0;34m,\u001b[0m \u001b[0mhue\u001b[0m \u001b[0;34m=\u001b[0m \u001b[0;34m\"tes\"\u001b[0m\u001b[0;34m)\u001b[0m\u001b[0;34m\u001b[0m\u001b[0;34m\u001b[0m\u001b[0m\n\u001b[0m",
      "\u001b[0;31mNameError\u001b[0m: name 'sns' is not defined"
     ]
    }
   ],
   "source": [
    "sns.barplot(x = \"sentiment\", y= main_df[\"yes_likes\"].sum(), data = main_df, hue = \"tes\")"
   ]
  },
  {
   "cell_type": "code",
   "execution_count": 8,
   "metadata": {},
   "outputs": [],
   "source": [
    "main_df = pd.read_csv(\"main_df.csv\", index_col = 0)"
   ]
  },
  {
   "cell_type": "code",
   "execution_count": 9,
   "metadata": {},
   "outputs": [
    {
     "data": {
      "text/html": [
       "<div>\n",
       "<style scoped>\n",
       "    .dataframe tbody tr th:only-of-type {\n",
       "        vertical-align: middle;\n",
       "    }\n",
       "\n",
       "    .dataframe tbody tr th {\n",
       "        vertical-align: top;\n",
       "    }\n",
       "\n",
       "    .dataframe thead th {\n",
       "        text-align: right;\n",
       "    }\n",
       "</style>\n",
       "<table border=\"1\" class=\"dataframe\">\n",
       "  <thead>\n",
       "    <tr style=\"text-align: right;\">\n",
       "      <th></th>\n",
       "      <th>date</th>\n",
       "      <th>search_term</th>\n",
       "      <th>likes_count</th>\n",
       "      <th>c_tweet</th>\n",
       "      <th>sentiment</th>\n",
       "      <th>filtered</th>\n",
       "      <th>topic0</th>\n",
       "      <th>topic1</th>\n",
       "      <th>topic2</th>\n",
       "      <th>topic3</th>\n",
       "      <th>topic4</th>\n",
       "      <th>topic5</th>\n",
       "      <th>topic6</th>\n",
       "      <th>topic7</th>\n",
       "      <th>topic8</th>\n",
       "      <th>topic9</th>\n",
       "      <th>yes_retweets</th>\n",
       "      <th>yes_likes</th>\n",
       "      <th>subjectivity_score</th>\n",
       "      <th>test</th>\n",
       "    </tr>\n",
       "  </thead>\n",
       "  <tbody>\n",
       "    <tr>\n",
       "      <th>0</th>\n",
       "      <td>2020-11-28</td>\n",
       "      <td>apple silicon</td>\n",
       "      <td>10</td>\n",
       "      <td>borderlands in on apple silicon yes yes it pla...</td>\n",
       "      <td>positive</td>\n",
       "      <td>borderland, silicon, yes, yes, playable</td>\n",
       "      <td>0.020017</td>\n",
       "      <td>0.617387</td>\n",
       "      <td>0.020017</td>\n",
       "      <td>0.020017</td>\n",
       "      <td>0.020017</td>\n",
       "      <td>0.020017</td>\n",
       "      <td>0.020018</td>\n",
       "      <td>0.222473</td>\n",
       "      <td>0.020020</td>\n",
       "      <td>0.020017</td>\n",
       "      <td>0</td>\n",
       "      <td>1</td>\n",
       "      <td>0.0000</td>\n",
       "      <td>topic1</td>\n",
       "    </tr>\n",
       "    <tr>\n",
       "      <th>1</th>\n",
       "      <td>2020-11-28</td>\n",
       "      <td>apple silicon</td>\n",
       "      <td>1</td>\n",
       "      <td>mac mini vs mac pro interesting review of pros...</td>\n",
       "      <td>positive</td>\n",
       "      <td>mac, mini, mac, interesting, review, con, appl...</td>\n",
       "      <td>0.000000</td>\n",
       "      <td>0.000000</td>\n",
       "      <td>0.000000</td>\n",
       "      <td>0.000000</td>\n",
       "      <td>0.000000</td>\n",
       "      <td>0.178558</td>\n",
       "      <td>0.000000</td>\n",
       "      <td>0.754752</td>\n",
       "      <td>0.000000</td>\n",
       "      <td>0.000000</td>\n",
       "      <td>0</td>\n",
       "      <td>1</td>\n",
       "      <td>0.5000</td>\n",
       "      <td>topic7</td>\n",
       "    </tr>\n",
       "    <tr>\n",
       "      <th>2</th>\n",
       "      <td>2020-11-28</td>\n",
       "      <td>apple silicon</td>\n",
       "      <td>2</td>\n",
       "      <td>and can only imagine what the apple silicon fo...</td>\n",
       "      <td>positive</td>\n",
       "      <td>imagine, silicon, capable</td>\n",
       "      <td>0.025008</td>\n",
       "      <td>0.025006</td>\n",
       "      <td>0.025007</td>\n",
       "      <td>0.025010</td>\n",
       "      <td>0.025008</td>\n",
       "      <td>0.025010</td>\n",
       "      <td>0.025008</td>\n",
       "      <td>0.774911</td>\n",
       "      <td>0.025017</td>\n",
       "      <td>0.025015</td>\n",
       "      <td>0</td>\n",
       "      <td>1</td>\n",
       "      <td>0.4000</td>\n",
       "      <td>topic7</td>\n",
       "    </tr>\n",
       "    <tr>\n",
       "      <th>3</th>\n",
       "      <td>2020-11-28</td>\n",
       "      <td>apple silicon</td>\n",
       "      <td>4</td>\n",
       "      <td>to repeat something said at the debut if apple...</td>\n",
       "      <td>neutral</td>\n",
       "      <td>repeat, something, said, debut, silicon, conti...</td>\n",
       "      <td>0.000000</td>\n",
       "      <td>0.000000</td>\n",
       "      <td>0.000000</td>\n",
       "      <td>0.000000</td>\n",
       "      <td>0.000000</td>\n",
       "      <td>0.000000</td>\n",
       "      <td>0.000000</td>\n",
       "      <td>0.332666</td>\n",
       "      <td>0.622850</td>\n",
       "      <td>0.000000</td>\n",
       "      <td>1</td>\n",
       "      <td>1</td>\n",
       "      <td>0.4375</td>\n",
       "      <td>topic8</td>\n",
       "    </tr>\n",
       "    <tr>\n",
       "      <th>4</th>\n",
       "      <td>2020-11-28</td>\n",
       "      <td>apple silicon</td>\n",
       "      <td>0</td>\n",
       "      <td>is not the problem pixel size is the problem a...</td>\n",
       "      <td>negative</td>\n",
       "      <td>problem, pixel, size, problem, intel, problem,...</td>\n",
       "      <td>0.203644</td>\n",
       "      <td>0.000000</td>\n",
       "      <td>0.000000</td>\n",
       "      <td>0.000000</td>\n",
       "      <td>0.000000</td>\n",
       "      <td>0.298133</td>\n",
       "      <td>0.000000</td>\n",
       "      <td>0.208055</td>\n",
       "      <td>0.256809</td>\n",
       "      <td>0.000000</td>\n",
       "      <td>0</td>\n",
       "      <td>0</td>\n",
       "      <td>0.3500</td>\n",
       "      <td>topic5</td>\n",
       "    </tr>\n",
       "  </tbody>\n",
       "</table>\n",
       "</div>"
      ],
      "text/plain": [
       "         date    search_term  likes_count  \\\n",
       "0  2020-11-28  apple silicon           10   \n",
       "1  2020-11-28  apple silicon            1   \n",
       "2  2020-11-28  apple silicon            2   \n",
       "3  2020-11-28  apple silicon            4   \n",
       "4  2020-11-28  apple silicon            0   \n",
       "\n",
       "                                             c_tweet sentiment  \\\n",
       "0  borderlands in on apple silicon yes yes it pla...  positive   \n",
       "1  mac mini vs mac pro interesting review of pros...  positive   \n",
       "2  and can only imagine what the apple silicon fo...  positive   \n",
       "3  to repeat something said at the debut if apple...   neutral   \n",
       "4  is not the problem pixel size is the problem a...  negative   \n",
       "\n",
       "                                            filtered    topic0    topic1  \\\n",
       "0            borderland, silicon, yes, yes, playable  0.020017  0.617387   \n",
       "1  mac, mini, mac, interesting, review, con, appl...  0.000000  0.000000   \n",
       "2                          imagine, silicon, capable  0.025008  0.025006   \n",
       "3  repeat, something, said, debut, silicon, conti...  0.000000  0.000000   \n",
       "4  problem, pixel, size, problem, intel, problem,...  0.203644  0.000000   \n",
       "\n",
       "     topic2    topic3    topic4    topic5    topic6    topic7    topic8  \\\n",
       "0  0.020017  0.020017  0.020017  0.020017  0.020018  0.222473  0.020020   \n",
       "1  0.000000  0.000000  0.000000  0.178558  0.000000  0.754752  0.000000   \n",
       "2  0.025007  0.025010  0.025008  0.025010  0.025008  0.774911  0.025017   \n",
       "3  0.000000  0.000000  0.000000  0.000000  0.000000  0.332666  0.622850   \n",
       "4  0.000000  0.000000  0.000000  0.298133  0.000000  0.208055  0.256809   \n",
       "\n",
       "     topic9  yes_retweets  yes_likes  subjectivity_score    test  \n",
       "0  0.020017             0          1              0.0000  topic1  \n",
       "1  0.000000             0          1              0.5000  topic7  \n",
       "2  0.025015             0          1              0.4000  topic7  \n",
       "3  0.000000             1          1              0.4375  topic8  \n",
       "4  0.000000             0          0              0.3500  topic5  "
      ]
     },
     "execution_count": 9,
     "metadata": {},
     "output_type": "execute_result"
    }
   ],
   "source": [
    "main_df.head()"
   ]
  },
  {
   "cell_type": "code",
   "execution_count": 11,
   "metadata": {},
   "outputs": [
    {
     "data": {
      "text/html": [
       "<div>\n",
       "<style scoped>\n",
       "    .dataframe tbody tr th:only-of-type {\n",
       "        vertical-align: middle;\n",
       "    }\n",
       "\n",
       "    .dataframe tbody tr th {\n",
       "        vertical-align: top;\n",
       "    }\n",
       "\n",
       "    .dataframe thead th {\n",
       "        text-align: right;\n",
       "    }\n",
       "</style>\n",
       "<table border=\"1\" class=\"dataframe\">\n",
       "  <thead>\n",
       "    <tr style=\"text-align: right;\">\n",
       "      <th></th>\n",
       "      <th>likes_count</th>\n",
       "      <th>topic0</th>\n",
       "      <th>topic1</th>\n",
       "      <th>topic2</th>\n",
       "      <th>topic3</th>\n",
       "      <th>topic4</th>\n",
       "      <th>topic5</th>\n",
       "      <th>topic6</th>\n",
       "      <th>topic7</th>\n",
       "      <th>topic8</th>\n",
       "      <th>topic9</th>\n",
       "      <th>yes_retweets</th>\n",
       "      <th>yes_likes</th>\n",
       "      <th>subjectivity_score</th>\n",
       "    </tr>\n",
       "  </thead>\n",
       "  <tbody>\n",
       "    <tr>\n",
       "      <th>count</th>\n",
       "      <td>407115.000000</td>\n",
       "      <td>407115.000000</td>\n",
       "      <td>407115.000000</td>\n",
       "      <td>407115.000000</td>\n",
       "      <td>407115.000000</td>\n",
       "      <td>407115.000000</td>\n",
       "      <td>407115.000000</td>\n",
       "      <td>407115.000000</td>\n",
       "      <td>407115.000000</td>\n",
       "      <td>407115.000000</td>\n",
       "      <td>407115.000000</td>\n",
       "      <td>407115.000000</td>\n",
       "      <td>407115.000000</td>\n",
       "      <td>407115.000000</td>\n",
       "    </tr>\n",
       "    <tr>\n",
       "      <th>mean</th>\n",
       "      <td>10.241585</td>\n",
       "      <td>0.062298</td>\n",
       "      <td>0.088067</td>\n",
       "      <td>0.096541</td>\n",
       "      <td>0.100403</td>\n",
       "      <td>0.096084</td>\n",
       "      <td>0.076696</td>\n",
       "      <td>0.177824</td>\n",
       "      <td>0.077711</td>\n",
       "      <td>0.102797</td>\n",
       "      <td>0.104923</td>\n",
       "      <td>0.137566</td>\n",
       "      <td>0.458721</td>\n",
       "      <td>0.342225</td>\n",
       "    </tr>\n",
       "    <tr>\n",
       "      <th>std</th>\n",
       "      <td>215.642076</td>\n",
       "      <td>0.134867</td>\n",
       "      <td>0.177348</td>\n",
       "      <td>0.191377</td>\n",
       "      <td>0.199937</td>\n",
       "      <td>0.192076</td>\n",
       "      <td>0.161092</td>\n",
       "      <td>0.263391</td>\n",
       "      <td>0.163204</td>\n",
       "      <td>0.198920</td>\n",
       "      <td>0.197369</td>\n",
       "      <td>0.344444</td>\n",
       "      <td>0.498294</td>\n",
       "      <td>0.295419</td>\n",
       "    </tr>\n",
       "    <tr>\n",
       "      <th>min</th>\n",
       "      <td>0.000000</td>\n",
       "      <td>0.000000</td>\n",
       "      <td>0.000000</td>\n",
       "      <td>0.000000</td>\n",
       "      <td>0.000000</td>\n",
       "      <td>0.000000</td>\n",
       "      <td>0.000000</td>\n",
       "      <td>0.000000</td>\n",
       "      <td>0.000000</td>\n",
       "      <td>0.000000</td>\n",
       "      <td>0.000000</td>\n",
       "      <td>0.000000</td>\n",
       "      <td>0.000000</td>\n",
       "      <td>0.000000</td>\n",
       "    </tr>\n",
       "    <tr>\n",
       "      <th>25%</th>\n",
       "      <td>0.000000</td>\n",
       "      <td>0.000000</td>\n",
       "      <td>0.000000</td>\n",
       "      <td>0.000000</td>\n",
       "      <td>0.000000</td>\n",
       "      <td>0.000000</td>\n",
       "      <td>0.000000</td>\n",
       "      <td>0.010006</td>\n",
       "      <td>0.000000</td>\n",
       "      <td>0.010005</td>\n",
       "      <td>0.010003</td>\n",
       "      <td>0.000000</td>\n",
       "      <td>0.000000</td>\n",
       "      <td>0.000000</td>\n",
       "    </tr>\n",
       "    <tr>\n",
       "      <th>50%</th>\n",
       "      <td>0.000000</td>\n",
       "      <td>0.014298</td>\n",
       "      <td>0.016668</td>\n",
       "      <td>0.016670</td>\n",
       "      <td>0.016670</td>\n",
       "      <td>0.016669</td>\n",
       "      <td>0.016668</td>\n",
       "      <td>0.020006</td>\n",
       "      <td>0.016668</td>\n",
       "      <td>0.016672</td>\n",
       "      <td>0.016672</td>\n",
       "      <td>0.000000</td>\n",
       "      <td>0.000000</td>\n",
       "      <td>0.383333</td>\n",
       "    </tr>\n",
       "    <tr>\n",
       "      <th>75%</th>\n",
       "      <td>2.000000</td>\n",
       "      <td>0.033335</td>\n",
       "      <td>0.033360</td>\n",
       "      <td>0.050003</td>\n",
       "      <td>0.050002</td>\n",
       "      <td>0.050001</td>\n",
       "      <td>0.033339</td>\n",
       "      <td>0.313776</td>\n",
       "      <td>0.033342</td>\n",
       "      <td>0.050003</td>\n",
       "      <td>0.050009</td>\n",
       "      <td>0.000000</td>\n",
       "      <td>1.000000</td>\n",
       "      <td>0.546970</td>\n",
       "    </tr>\n",
       "    <tr>\n",
       "      <th>max</th>\n",
       "      <td>56102.000000</td>\n",
       "      <td>0.985243</td>\n",
       "      <td>0.965372</td>\n",
       "      <td>0.962486</td>\n",
       "      <td>0.995928</td>\n",
       "      <td>0.974998</td>\n",
       "      <td>0.970961</td>\n",
       "      <td>0.976919</td>\n",
       "      <td>0.971855</td>\n",
       "      <td>0.970958</td>\n",
       "      <td>0.979067</td>\n",
       "      <td>1.000000</td>\n",
       "      <td>1.000000</td>\n",
       "      <td>1.000000</td>\n",
       "    </tr>\n",
       "  </tbody>\n",
       "</table>\n",
       "</div>"
      ],
      "text/plain": [
       "         likes_count         topic0         topic1         topic2  \\\n",
       "count  407115.000000  407115.000000  407115.000000  407115.000000   \n",
       "mean       10.241585       0.062298       0.088067       0.096541   \n",
       "std       215.642076       0.134867       0.177348       0.191377   \n",
       "min         0.000000       0.000000       0.000000       0.000000   \n",
       "25%         0.000000       0.000000       0.000000       0.000000   \n",
       "50%         0.000000       0.014298       0.016668       0.016670   \n",
       "75%         2.000000       0.033335       0.033360       0.050003   \n",
       "max     56102.000000       0.985243       0.965372       0.962486   \n",
       "\n",
       "              topic3         topic4         topic5         topic6  \\\n",
       "count  407115.000000  407115.000000  407115.000000  407115.000000   \n",
       "mean        0.100403       0.096084       0.076696       0.177824   \n",
       "std         0.199937       0.192076       0.161092       0.263391   \n",
       "min         0.000000       0.000000       0.000000       0.000000   \n",
       "25%         0.000000       0.000000       0.000000       0.010006   \n",
       "50%         0.016670       0.016669       0.016668       0.020006   \n",
       "75%         0.050002       0.050001       0.033339       0.313776   \n",
       "max         0.995928       0.974998       0.970961       0.976919   \n",
       "\n",
       "              topic7         topic8         topic9   yes_retweets  \\\n",
       "count  407115.000000  407115.000000  407115.000000  407115.000000   \n",
       "mean        0.077711       0.102797       0.104923       0.137566   \n",
       "std         0.163204       0.198920       0.197369       0.344444   \n",
       "min         0.000000       0.000000       0.000000       0.000000   \n",
       "25%         0.000000       0.010005       0.010003       0.000000   \n",
       "50%         0.016668       0.016672       0.016672       0.000000   \n",
       "75%         0.033342       0.050003       0.050009       0.000000   \n",
       "max         0.971855       0.970958       0.979067       1.000000   \n",
       "\n",
       "           yes_likes  subjectivity_score  \n",
       "count  407115.000000       407115.000000  \n",
       "mean        0.458721            0.342225  \n",
       "std         0.498294            0.295419  \n",
       "min         0.000000            0.000000  \n",
       "25%         0.000000            0.000000  \n",
       "50%         0.000000            0.383333  \n",
       "75%         1.000000            0.546970  \n",
       "max         1.000000            1.000000  "
      ]
     },
     "execution_count": 11,
     "metadata": {},
     "output_type": "execute_result"
    }
   ],
   "source": [
    "main_df.describe()"
   ]
  },
  {
   "cell_type": "code",
   "execution_count": 13,
   "metadata": {},
   "outputs": [],
   "source": [
    "corr = main_df.corr()"
   ]
  },
  {
   "cell_type": "code",
   "execution_count": 18,
   "metadata": {},
   "outputs": [
    {
     "data": {
      "text/plain": [
       "<matplotlib.axes._subplots.AxesSubplot at 0x7fe886197b70>"
      ]
     },
     "execution_count": 18,
     "metadata": {},
     "output_type": "execute_result"
    },
    {
     "data": {
      "image/png": "[encoded data removed]",
      "text/plain": [
       "<Figure size 432x288 with 2 Axes>"
      ]
     },
     "metadata": {
      "needs_background": "light"
     },
     "output_type": "display_data"
    }
   ],
   "source": [
    "sns.heatmap(corr, vmin=-1, vmax=1, cmap=\"RdBu_r\")"
   ]
  },
  {
   "cell_type": "code",
   "execution_count": 25,
   "metadata": {},
   "outputs": [
    {
     "data": {
      "text/plain": [
       "<matplotlib.axes._subplots.AxesSubplot at 0x7fe87c311b00>"
      ]
     },
     "execution_count": 25,
     "metadata": {},
     "output_type": "execute_result"
    },
    {
     "data": {
      "image/png": "[encoded data removed]",
      "text/plain": [
       "<Figure size 864x576 with 1 Axes>"
      ]
     },
     "metadata": {
      "needs_background": "light"
     },
     "output_type": "display_data"
    }
   ],
   "source": [
    "fig,ax = plt.subplots(figsize=(12,8))\n",
    "sns.barplot(x = \"test\", y= main_df[\"yes_likes\"], data = main_df, hue = \"sentiment\")"
   ]
  },
  {
   "cell_type": "code",
   "execution_count": 57,
   "metadata": {},
   "outputs": [],
   "source": [
    "x = main_df.groupby(\"test\")[\"sentiment\"].value_counts(normalize=True).unstack()"
   ]
  },
  {
   "cell_type": "code",
   "execution_count": 58,
   "metadata": {},
   "outputs": [
    {
     "data": {
      "text/plain": [
       "<matplotlib.axes._subplots.AxesSubplot at 0x7fe877205ac8>"
      ]
     },
     "execution_count": 58,
     "metadata": {},
     "output_type": "execute_result"
    },
    {
     "data": {
      "image/png": "[encoded data removed]",
      "text/plain": [
       "<Figure size 864x576 with 1 Axes>"
      ]
     },
     "metadata": {
      "needs_background": "light"
     },
     "output_type": "display_data"
    }
   ],
   "source": [
    "\n",
    "x.plot(kind = 'bar', figsize=(12,8), color =[\"red\", \"grey\", \"green\"])"
   ]
  },
  {
   "cell_type": "code",
   "execution_count": 53,
   "metadata": {},
   "outputs": [],
   "source": [
    "y = main_df.groupby(\"search_term\")[\"sentiment\"].value_counts(normalize=True).unstack()"
   ]
  },
  {
   "cell_type": "code",
   "execution_count": 54,
   "metadata": {},
   "outputs": [
    {
     "data": {
      "text/plain": [
       "<matplotlib.axes._subplots.AxesSubplot at 0x7fe8762e0ba8>"
      ]
     },
     "execution_count": 54,
     "metadata": {},
     "output_type": "execute_result"
    },
    {
     "data": {
      "image/png": "[encoded data removed]",
      "text/plain": [
       "<Figure size 864x576 with 1 Axes>"
      ]
     },
     "metadata": {
      "needs_background": "light"
     },
     "output_type": "display_data"
    }
   ],
   "source": [
    "y.plot(kind = 'bar', figsize=(12,8), color =[\"red\", \"grey\", \"green\"])"
   ]
  },
  {
   "cell_type": "code",
   "execution_count": 66,
   "metadata": {},
   "outputs": [],
   "source": [
    "# loc search_term, make workcould\n",
    "\n",
    "neg_macbook = main_df[(main_df[\"search_term\"]==\"new macbook\") & (main_df[\"sentiment\"]==\"negative\")]"
   ]
  },
  {
   "cell_type": "code",
   "execution_count": 76,
   "metadata": {},
   "outputs": [],
   "source": [
    "text = neg_macbook.filtered.to_list()"
   ]
  },
  {
   "cell_type": "code",
   "execution_count": 79,
   "metadata": {},
   "outputs": [],
   "source": [
    "text = \" \".join(tweet for tweet in text)"
   ]
  },
  {
   "cell_type": "code",
   "execution_count": 80,
   "metadata": {},
   "outputs": [],
   "source": [
    "from wordcloud import WordCloud"
   ]
  },
  {
   "cell_type": "code",
   "execution_count": 86,
   "metadata": {},
   "outputs": [
    {
     "data": {
      "image/png": "[encoded data removed]",
      "text/plain": [
       "<Figure size 1008x720 with 1 Axes>"
      ]
     },
     "metadata": {
      "needs_background": "light"
     },
     "output_type": "display_data"
    }
   ],
   "source": [
    "fig, ax = plt.subplots(figsize=(14,10))\n",
    "wc = WordCloud(width = 1000, height = 800, max_words = 200, background_color = \"white\").generate(text)\n",
    "plt.imshow(wc, interpolation='bilinear')\n",
    "plt.axis(\"off\")\n",
    "plt.show()"
   ]
  },
  {
   "cell_type": "markdown",
   "metadata": {},
   "source": [
    "# Models"
   ]
  },
  {
   "cell_type": "code",
   "execution_count": null,
   "metadata": {},
   "outputs": [],
   "source": []
  },
  {
   "cell_type": "code",
   "execution_count": null,
   "metadata": {},
   "outputs": [],
   "source": [
    "feats = apple_df.c_tweet.values\n",
    "targets = apple_df.sentiment.values\n",
    "\n",
    "tfidfconverter = TfidfVectorizer(max_features=2000, min_df=5, max_df=0.7, stop_words=stop_words)  \n",
    "X = tfidfconverter.fit_transform(rf_feats).toarray()\n",
    "X_train, X_test, y_train, y_test = train_test_split(X, rf_targets, test_size=0.2, random_state=0)"
   ]
  }
 ],
 "metadata": {
  "kernelspec": {
   "display_name": "Learn-env",
   "language": "python",
   "name": "learn-env"
  },
  "language_info": {
   "codemirror_mode": {
    "name": "ipython",
    "version": 3
   },
   "file_extension": ".py",
   "mimetype": "text/x-python",
   "name": "python",
   "nbconvert_exporter": "python",
   "pygments_lexer": "ipython3",
   "version": "3.6.9"
  }
 },
 "nbformat": 4,
 "nbformat_minor": 4
}
