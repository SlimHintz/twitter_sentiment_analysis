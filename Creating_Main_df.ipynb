{
 "cells": [
  {
   "cell_type": "code",
   "execution_count": 1,
   "metadata": {},
   "outputs": [],
   "source": [
    "import pandas as pd\n",
    "import numpy as np\n",
    "import seaborn as sns\n",
    "import matplotlib.pyplot as plt\n",
    "%matplotlib inline\n",
    "\n",
    "import warnings\n",
    "warnings.filterwarnings(\"ignore\") \n",
    "\n",
    "pd.set_option('display.max_columns', 300)\n",
    "pd.set_option('display.max_rows', 200)"
   ]
  },
  {
   "cell_type": "code",
   "execution_count": 2,
   "metadata": {},
   "outputs": [],
   "source": [
    "main = pd.read_csv(\"/Users/DataSci/Desktop/Flatiron/Assignments/Twitter/mainfordj.csv\", index_col = 0)\n",
    "tfidf_df = pd.read_csv(\"/Users/DataSci/Desktop/Flatiron/Assignments/Twitter/lda_tfidf_df.csv\", index_col = 0)"
   ]
  },
  {
   "cell_type": "code",
   "execution_count": 3,
   "metadata": {},
   "outputs": [
    {
     "data": {
      "text/plain": [
       "((983566, 14), (983566, 10))"
      ]
     },
     "execution_count": 3,
     "metadata": {},
     "output_type": "execute_result"
    }
   ],
   "source": [
    "main.shape, tfidf_df.shape"
   ]
  },
  {
   "cell_type": "code",
   "execution_count": 4,
   "metadata": {},
   "outputs": [
    {
     "data": {
      "text/plain": [
       "date                0\n",
       "username            0\n",
       "tweet               0\n",
       "replies_count       0\n",
       "retweets_count      0\n",
       "likes_count         0\n",
       "search_term         0\n",
       "c_tweet             0\n",
       "tokenized           0\n",
       "filtered          320\n",
       "delisted            0\n",
       "sentiment           0\n",
       "cleaned             0\n",
       "not_filtered        0\n",
       "dtype: int64"
      ]
     },
     "execution_count": 4,
     "metadata": {},
     "output_type": "execute_result"
    }
   ],
   "source": [
    "main.isna().sum()"
   ]
  },
  {
   "cell_type": "code",
   "execution_count": 5,
   "metadata": {},
   "outputs": [],
   "source": [
    "main.dropna(subset=[\"filtered\"], inplace=True)"
   ]
  },
  {
   "cell_type": "code",
   "execution_count": 6,
   "metadata": {},
   "outputs": [],
   "source": [
    "main.drop(columns=[\"cleaned\", \"not_filtered\"], inplace=True)"
   ]
  },
  {
   "cell_type": "code",
   "execution_count": 7,
   "metadata": {},
   "outputs": [
    {
     "data": {
      "text/plain": [
       "date              0\n",
       "username          0\n",
       "tweet             0\n",
       "replies_count     0\n",
       "retweets_count    0\n",
       "likes_count       0\n",
       "search_term       0\n",
       "c_tweet           0\n",
       "tokenized         0\n",
       "filtered          0\n",
       "delisted          0\n",
       "sentiment         0\n",
       "dtype: int64"
      ]
     },
     "execution_count": 7,
     "metadata": {},
     "output_type": "execute_result"
    }
   ],
   "source": [
    "main.isna().sum()"
   ]
  },
  {
   "cell_type": "code",
   "execution_count": 8,
   "metadata": {},
   "outputs": [
    {
     "data": {
      "text/plain": [
       "topic0    0\n",
       "topic1    0\n",
       "topic2    0\n",
       "topic3    0\n",
       "topic4    0\n",
       "topic5    0\n",
       "topic6    0\n",
       "topic7    0\n",
       "topic8    0\n",
       "topic9    0\n",
       "dtype: int64"
      ]
     },
     "execution_count": 8,
     "metadata": {},
     "output_type": "execute_result"
    }
   ],
   "source": [
    "tfidf_df.isna().sum()"
   ]
  },
  {
   "cell_type": "code",
   "execution_count": 9,
   "metadata": {},
   "outputs": [
    {
     "data": {
      "text/plain": [
       "((983246, 12), (983566, 10))"
      ]
     },
     "execution_count": 9,
     "metadata": {},
     "output_type": "execute_result"
    }
   ],
   "source": [
    "main.shape, tfidf_df.shape"
   ]
  },
  {
   "cell_type": "code",
   "execution_count": 10,
   "metadata": {},
   "outputs": [],
   "source": [
    "main.reset_index(drop=True, inplace = True)"
   ]
  },
  {
   "cell_type": "code",
   "execution_count": 11,
   "metadata": {},
   "outputs": [],
   "source": [
    "tfidf_df.reset_index(drop=True, inplace = True)"
   ]
  },
  {
   "cell_type": "code",
   "execution_count": 13,
   "metadata": {},
   "outputs": [],
   "source": [
    "main_df = pd.concat([main, tfidf_df], axis=1)"
   ]
  },
  {
   "cell_type": "code",
   "execution_count": 14,
   "metadata": {},
   "outputs": [
    {
     "data": {
      "text/plain": [
       "date              320\n",
       "username          320\n",
       "tweet             320\n",
       "replies_count     320\n",
       "retweets_count    320\n",
       "likes_count       320\n",
       "search_term       320\n",
       "c_tweet           320\n",
       "tokenized         320\n",
       "filtered          320\n",
       "delisted          320\n",
       "sentiment         320\n",
       "topic0              0\n",
       "topic1              0\n",
       "topic2              0\n",
       "topic3              0\n",
       "topic4              0\n",
       "topic5              0\n",
       "topic6              0\n",
       "topic7              0\n",
       "topic8              0\n",
       "topic9              0\n",
       "dtype: int64"
      ]
     },
     "execution_count": 14,
     "metadata": {},
     "output_type": "execute_result"
    }
   ],
   "source": [
    "main_df.isna().sum()"
   ]
  },
  {
   "cell_type": "code",
   "execution_count": 15,
   "metadata": {},
   "outputs": [],
   "source": [
    "main_df.dropna(inplace=True)"
   ]
  },
  {
   "cell_type": "code",
   "execution_count": 16,
   "metadata": {
    "scrolled": true
   },
   "outputs": [
    {
     "data": {
      "text/plain": [
       "(983246, 22)"
      ]
     },
     "execution_count": 16,
     "metadata": {},
     "output_type": "execute_result"
    }
   ],
   "source": [
    "main_df.shape"
   ]
  },
  {
   "cell_type": "code",
   "execution_count": 18,
   "metadata": {},
   "outputs": [
    {
     "data": {
      "text/plain": [
       "8"
      ]
     },
     "execution_count": 18,
     "metadata": {},
     "output_type": "execute_result"
    }
   ],
   "source": [
    "main.search_term.nunique()"
   ]
  },
  {
   "cell_type": "markdown",
   "metadata": {},
   "source": [
    "### Importing Textblob to meaure subjectivity score on the "
   ]
  },
  {
   "cell_type": "code",
   "execution_count": 19,
   "metadata": {},
   "outputs": [],
   "source": [
    "from textblob import TextBlob"
   ]
  },
  {
   "cell_type": "code",
   "execution_count": 21,
   "metadata": {},
   "outputs": [],
   "source": [
    "main_df['subjectivity_score'] = main_df['c_tweet'].apply(lambda x: TextBlob(x).sentiment.subjectivity)"
   ]
  },
  {
   "cell_type": "code",
   "execution_count": 22,
   "metadata": {
    "scrolled": true
   },
   "outputs": [
    {
     "data": {
      "text/plain": [
       "['date',\n",
       " 'username',\n",
       " 'tweet',\n",
       " 'replies_count',\n",
       " 'retweets_count',\n",
       " 'likes_count',\n",
       " 'search_term',\n",
       " 'c_tweet',\n",
       " 'tokenized',\n",
       " 'filtered',\n",
       " 'delisted',\n",
       " 'sentiment',\n",
       " 'topic0',\n",
       " 'topic1',\n",
       " 'topic2',\n",
       " 'topic3',\n",
       " 'topic4',\n",
       " 'topic5',\n",
       " 'topic6',\n",
       " 'topic7',\n",
       " 'topic8',\n",
       " 'topic9',\n",
       " 'subjectivity_score']"
      ]
     },
     "execution_count": 22,
     "metadata": {},
     "output_type": "execute_result"
    }
   ],
   "source": [
    "main_df.columns.to_list()"
   ]
  },
  {
   "cell_type": "code",
   "execution_count": 23,
   "metadata": {},
   "outputs": [],
   "source": [
    "topic_df = main_df.iloc[:,12:21]\n",
    "high_score = topic_df.idxmax(axis=1)\n",
    "main_df[\"max_topic\"]=high_score"
   ]
  },
  {
   "cell_type": "code",
   "execution_count": 24,
   "metadata": {
    "scrolled": false
   },
   "outputs": [
    {
     "data": {
      "image/png": "[encoded data removed]",
      "text/plain": [
       "<Figure size 864x576 with 1 Axes>"
      ]
     },
     "metadata": {
      "needs_background": "light"
     },
     "output_type": "display_data"
    }
   ],
   "source": [
    "# plotting the spead of the subjectivity score\n",
    "fig, ax = plt.subplots(figsize = (12,8))\n",
    "plt.hist(main_df[\"subjectivity_score\"])\n",
    "plt.title(\"Observations of Subjectivity score\", fontsize=35)\n",
    "plt.ylabel(\"Number of observations\", fontsize=25)\n",
    "plt.xlabel(\"Subjectivity score\", fontsize=25);"
   ]
  },
  {
   "cell_type": "markdown",
   "metadata": {},
   "source": [
    "#### Categorizing retweet_counts, likes_counts, and replies_counts"
   ]
  },
  {
   "cell_type": "code",
   "execution_count": 25,
   "metadata": {},
   "outputs": [
    {
     "data": {
      "text/html": [
       "<div>\n",
       "<style scoped>\n",
       "    .dataframe tbody tr th:only-of-type {\n",
       "        vertical-align: middle;\n",
       "    }\n",
       "\n",
       "    .dataframe tbody tr th {\n",
       "        vertical-align: top;\n",
       "    }\n",
       "\n",
       "    .dataframe thead th {\n",
       "        text-align: right;\n",
       "    }\n",
       "</style>\n",
       "<table border=\"1\" class=\"dataframe\">\n",
       "  <thead>\n",
       "    <tr style=\"text-align: right;\">\n",
       "      <th></th>\n",
       "      <th>date</th>\n",
       "      <th>username</th>\n",
       "      <th>tweet</th>\n",
       "      <th>replies_count</th>\n",
       "      <th>retweets_count</th>\n",
       "      <th>likes_count</th>\n",
       "      <th>search_term</th>\n",
       "      <th>c_tweet</th>\n",
       "      <th>tokenized</th>\n",
       "      <th>filtered</th>\n",
       "      <th>delisted</th>\n",
       "      <th>sentiment</th>\n",
       "      <th>topic0</th>\n",
       "      <th>topic1</th>\n",
       "      <th>topic2</th>\n",
       "      <th>topic3</th>\n",
       "      <th>topic4</th>\n",
       "      <th>topic5</th>\n",
       "      <th>topic6</th>\n",
       "      <th>topic7</th>\n",
       "      <th>topic8</th>\n",
       "      <th>topic9</th>\n",
       "      <th>subjectivity_score</th>\n",
       "      <th>max_topic</th>\n",
       "    </tr>\n",
       "  </thead>\n",
       "  <tbody>\n",
       "    <tr>\n",
       "      <th>0</th>\n",
       "      <td>2020-12-01</td>\n",
       "      <td>coolmuster</td>\n",
       "      <td>#iPhone12 #Android iPhone 12 vs Android’s best...</td>\n",
       "      <td>0.0</td>\n",
       "      <td>0.0</td>\n",
       "      <td>0.0</td>\n",
       "      <td>iphone 12</td>\n",
       "      <td>iphone android iphone vs android best it time ...</td>\n",
       "      <td>['iphone', 'android', 'iphone', 'v', 'android'...</td>\n",
       "      <td>android, android, best, time, consider, switch...</td>\n",
       "      <td>android, android, best, time, consider, switch...</td>\n",
       "      <td>positive</td>\n",
       "      <td>0.887465</td>\n",
       "      <td>0.012504</td>\n",
       "      <td>0.012503</td>\n",
       "      <td>0.012504</td>\n",
       "      <td>0.012504</td>\n",
       "      <td>0.012504</td>\n",
       "      <td>0.012506</td>\n",
       "      <td>0.012503</td>\n",
       "      <td>0.012504</td>\n",
       "      <td>0.012503</td>\n",
       "      <td>0.300000</td>\n",
       "      <td>topic0</td>\n",
       "    </tr>\n",
       "    <tr>\n",
       "      <th>1</th>\n",
       "      <td>2020-12-01</td>\n",
       "      <td>nanaakuamensah4</td>\n",
       "      <td>@cuppymusic I'm asking DJ cuppy Please I want ...</td>\n",
       "      <td>0.0</td>\n",
       "      <td>0.0</td>\n",
       "      <td>0.0</td>\n",
       "      <td>iphone 12</td>\n",
       "      <td>asking dj cuppy please want an iphone</td>\n",
       "      <td>['asking', 'dj', 'cuppy', 'please', 'want', 'a...</td>\n",
       "      <td>asking, dj, cuppy, please, want</td>\n",
       "      <td>asking, cuppy, please, want</td>\n",
       "      <td>positive</td>\n",
       "      <td>0.016679</td>\n",
       "      <td>0.016674</td>\n",
       "      <td>0.016674</td>\n",
       "      <td>0.849927</td>\n",
       "      <td>0.016674</td>\n",
       "      <td>0.016674</td>\n",
       "      <td>0.016674</td>\n",
       "      <td>0.016674</td>\n",
       "      <td>0.016674</td>\n",
       "      <td>0.016674</td>\n",
       "      <td>0.000000</td>\n",
       "      <td>topic3</td>\n",
       "    </tr>\n",
       "    <tr>\n",
       "      <th>2</th>\n",
       "      <td>2020-12-01</td>\n",
       "      <td>naija_pr</td>\n",
       "      <td>The moment Mercy Eke sprays her friend $3000 c...</td>\n",
       "      <td>0.0</td>\n",
       "      <td>1.0</td>\n",
       "      <td>3.0</td>\n",
       "      <td>iphone 12</td>\n",
       "      <td>the moment mercy eke sprays her friend cash an...</td>\n",
       "      <td>['the', 'moment', 'mercy', 'eke', 'spray', 'he...</td>\n",
       "      <td>moment, mercy, eke, spray, friend, cash, gave,...</td>\n",
       "      <td>moment, mercy, eke, spray, friend, cash, gave,...</td>\n",
       "      <td>positive</td>\n",
       "      <td>0.011123</td>\n",
       "      <td>0.011122</td>\n",
       "      <td>0.011122</td>\n",
       "      <td>0.899898</td>\n",
       "      <td>0.011122</td>\n",
       "      <td>0.011122</td>\n",
       "      <td>0.011122</td>\n",
       "      <td>0.011126</td>\n",
       "      <td>0.011122</td>\n",
       "      <td>0.011122</td>\n",
       "      <td>0.000000</td>\n",
       "      <td>topic3</td>\n",
       "    </tr>\n",
       "    <tr>\n",
       "      <th>3</th>\n",
       "      <td>2020-12-01</td>\n",
       "      <td>holliebear80</td>\n",
       "      <td>@CraigStrife Aww back at you Mr S 😘 &amp;amp; Appl...</td>\n",
       "      <td>0.0</td>\n",
       "      <td>0.0</td>\n",
       "      <td>0.0</td>\n",
       "      <td>iphone 12</td>\n",
       "      <td>aww back at you mr amp apple still the iphone ...</td>\n",
       "      <td>['aww', 'back', 'at', 'you', 'mr', 'amp', 'app...</td>\n",
       "      <td>aww, back, mr, amp, apple, still, still, arriv...</td>\n",
       "      <td>aww, back, amp, still, still, arrived, guessin...</td>\n",
       "      <td>positive</td>\n",
       "      <td>0.302723</td>\n",
       "      <td>0.474885</td>\n",
       "      <td>0.000000</td>\n",
       "      <td>0.110264</td>\n",
       "      <td>0.086025</td>\n",
       "      <td>0.000000</td>\n",
       "      <td>0.000000</td>\n",
       "      <td>0.000000</td>\n",
       "      <td>0.000000</td>\n",
       "      <td>0.000000</td>\n",
       "      <td>0.505556</td>\n",
       "      <td>topic1</td>\n",
       "    </tr>\n",
       "    <tr>\n",
       "      <th>4</th>\n",
       "      <td>2020-12-01</td>\n",
       "      <td>justabussy</td>\n",
       "      <td>@PicsArtStudio umm I can’t press on the search...</td>\n",
       "      <td>1.0</td>\n",
       "      <td>0.0</td>\n",
       "      <td>1.0</td>\n",
       "      <td>iphone 12</td>\n",
       "      <td>umm can press on the search bar on the iphone ...</td>\n",
       "      <td>['umm', 'can', 'press', 'on', 'the', 'search',...</td>\n",
       "      <td>umm, press, search, bar, hurry, fix</td>\n",
       "      <td>umm, press, search, bar, hurry, fix</td>\n",
       "      <td>neutral</td>\n",
       "      <td>0.611028</td>\n",
       "      <td>0.014312</td>\n",
       "      <td>0.014303</td>\n",
       "      <td>0.014312</td>\n",
       "      <td>0.274515</td>\n",
       "      <td>0.014303</td>\n",
       "      <td>0.014307</td>\n",
       "      <td>0.014301</td>\n",
       "      <td>0.014309</td>\n",
       "      <td>0.014309</td>\n",
       "      <td>0.000000</td>\n",
       "      <td>topic0</td>\n",
       "    </tr>\n",
       "    <tr>\n",
       "      <th>...</th>\n",
       "      <td>...</td>\n",
       "      <td>...</td>\n",
       "      <td>...</td>\n",
       "      <td>...</td>\n",
       "      <td>...</td>\n",
       "      <td>...</td>\n",
       "      <td>...</td>\n",
       "      <td>...</td>\n",
       "      <td>...</td>\n",
       "      <td>...</td>\n",
       "      <td>...</td>\n",
       "      <td>...</td>\n",
       "      <td>...</td>\n",
       "      <td>...</td>\n",
       "      <td>...</td>\n",
       "      <td>...</td>\n",
       "      <td>...</td>\n",
       "      <td>...</td>\n",
       "      <td>...</td>\n",
       "      <td>...</td>\n",
       "      <td>...</td>\n",
       "      <td>...</td>\n",
       "      <td>...</td>\n",
       "      <td>...</td>\n",
       "    </tr>\n",
       "    <tr>\n",
       "      <th>983241</th>\n",
       "      <td>2020-09-01</td>\n",
       "      <td>gettinready4god</td>\n",
       "      <td>@Rockprincess818 Our media is nothing but yet ...</td>\n",
       "      <td>0.0</td>\n",
       "      <td>0.0</td>\n",
       "      <td>0.0</td>\n",
       "      <td>silicon</td>\n",
       "      <td>our media is nothing but yet another megaphone...</td>\n",
       "      <td>['our', 'medium', 'is', 'nothing', 'but', 'yet...</td>\n",
       "      <td>medium, nothing, yet, another, megaphone, like...</td>\n",
       "      <td>medium, nothing, yet, another, megaphone, like...</td>\n",
       "      <td>positive</td>\n",
       "      <td>0.000000</td>\n",
       "      <td>0.000000</td>\n",
       "      <td>0.000000</td>\n",
       "      <td>0.086257</td>\n",
       "      <td>0.092568</td>\n",
       "      <td>0.000000</td>\n",
       "      <td>0.092759</td>\n",
       "      <td>0.000000</td>\n",
       "      <td>0.688397</td>\n",
       "      <td>0.000000</td>\n",
       "      <td>0.000000</td>\n",
       "      <td>topic8</td>\n",
       "    </tr>\n",
       "    <tr>\n",
       "      <th>983242</th>\n",
       "      <td>2020-09-01</td>\n",
       "      <td>henrynoeljr</td>\n",
       "      <td>Silicon Valley Has Deep Pockets for African St...</td>\n",
       "      <td>0.0</td>\n",
       "      <td>0.0</td>\n",
       "      <td>1.0</td>\n",
       "      <td>silicon</td>\n",
       "      <td>silicon valley has deep pockets for african st...</td>\n",
       "      <td>['silicon', 'valley', 'ha', 'deep', 'pocket', ...</td>\n",
       "      <td>silicon, valley, ha, deep, pocket, african, st...</td>\n",
       "      <td>silicon, valley, deep, pocket, african, startu...</td>\n",
       "      <td>neutral</td>\n",
       "      <td>0.000000</td>\n",
       "      <td>0.059652</td>\n",
       "      <td>0.136491</td>\n",
       "      <td>0.000000</td>\n",
       "      <td>0.000000</td>\n",
       "      <td>0.000000</td>\n",
       "      <td>0.298953</td>\n",
       "      <td>0.000000</td>\n",
       "      <td>0.000000</td>\n",
       "      <td>0.480879</td>\n",
       "      <td>0.133333</td>\n",
       "      <td>topic6</td>\n",
       "    </tr>\n",
       "    <tr>\n",
       "      <th>983243</th>\n",
       "      <td>2020-09-01</td>\n",
       "      <td>1mtiyazalam</td>\n",
       "      <td>@BernieSanders Not going to work, these incite...</td>\n",
       "      <td>0.0</td>\n",
       "      <td>0.0</td>\n",
       "      <td>0.0</td>\n",
       "      <td>silicon</td>\n",
       "      <td>not going to work these incitements are well p...</td>\n",
       "      <td>['not', 'going', 'to', 'work', 'these', 'incit...</td>\n",
       "      <td>going, work, incitement, well, planned, well, ...</td>\n",
       "      <td>going, work, incitement, well, planned, well, ...</td>\n",
       "      <td>positive</td>\n",
       "      <td>0.020014</td>\n",
       "      <td>0.020015</td>\n",
       "      <td>0.020014</td>\n",
       "      <td>0.020014</td>\n",
       "      <td>0.020014</td>\n",
       "      <td>0.020014</td>\n",
       "      <td>0.253458</td>\n",
       "      <td>0.246685</td>\n",
       "      <td>0.020017</td>\n",
       "      <td>0.359756</td>\n",
       "      <td>0.500000</td>\n",
       "      <td>topic6</td>\n",
       "    </tr>\n",
       "    <tr>\n",
       "      <th>983244</th>\n",
       "      <td>2020-09-01</td>\n",
       "      <td>jacobwohlreport</td>\n",
       "      <td>Wohl addresses his ban from Instagram/Facebook...</td>\n",
       "      <td>10.0</td>\n",
       "      <td>2.0</td>\n",
       "      <td>24.0</td>\n",
       "      <td>silicon</td>\n",
       "      <td>wohl addresses his ban from instagram facebook...</td>\n",
       "      <td>['wohl', 'address', 'his', 'ban', 'from', 'ins...</td>\n",
       "      <td>wohl, address, ban, instagram, facebook, claim...</td>\n",
       "      <td>wohl, address, ban, instagram, facebook, claim...</td>\n",
       "      <td>negative</td>\n",
       "      <td>0.000000</td>\n",
       "      <td>0.000000</td>\n",
       "      <td>0.000000</td>\n",
       "      <td>0.151971</td>\n",
       "      <td>0.000000</td>\n",
       "      <td>0.000000</td>\n",
       "      <td>0.391555</td>\n",
       "      <td>0.000000</td>\n",
       "      <td>0.327698</td>\n",
       "      <td>0.102675</td>\n",
       "      <td>0.833333</td>\n",
       "      <td>topic6</td>\n",
       "    </tr>\n",
       "    <tr>\n",
       "      <th>983245</th>\n",
       "      <td>2020-09-01</td>\n",
       "      <td>leiachristina</td>\n",
       "      <td>Kinda angry at all of Silicon Valley for not s...</td>\n",
       "      <td>1.0</td>\n",
       "      <td>0.0</td>\n",
       "      <td>1.0</td>\n",
       "      <td>silicon</td>\n",
       "      <td>kinda angry at all of silicon valley for not s...</td>\n",
       "      <td>['kinda', 'angry', 'at', 'all', 'of', 'silicon...</td>\n",
       "      <td>kinda, angry, silicon, valley, spending, summe...</td>\n",
       "      <td>kinda, angry, silicon, valley, spending, summe...</td>\n",
       "      <td>negative</td>\n",
       "      <td>0.000000</td>\n",
       "      <td>0.000000</td>\n",
       "      <td>0.000000</td>\n",
       "      <td>0.000000</td>\n",
       "      <td>0.000000</td>\n",
       "      <td>0.062352</td>\n",
       "      <td>0.000000</td>\n",
       "      <td>0.000000</td>\n",
       "      <td>0.360606</td>\n",
       "      <td>0.542023</td>\n",
       "      <td>0.450000</td>\n",
       "      <td>topic8</td>\n",
       "    </tr>\n",
       "  </tbody>\n",
       "</table>\n",
       "<p>983246 rows × 24 columns</p>\n",
       "</div>"
      ],
      "text/plain": [
       "              date         username  \\\n",
       "0       2020-12-01       coolmuster   \n",
       "1       2020-12-01  nanaakuamensah4   \n",
       "2       2020-12-01         naija_pr   \n",
       "3       2020-12-01     holliebear80   \n",
       "4       2020-12-01       justabussy   \n",
       "...            ...              ...   \n",
       "983241  2020-09-01  gettinready4god   \n",
       "983242  2020-09-01      henrynoeljr   \n",
       "983243  2020-09-01      1mtiyazalam   \n",
       "983244  2020-09-01  jacobwohlreport   \n",
       "983245  2020-09-01    leiachristina   \n",
       "\n",
       "                                                    tweet  replies_count  \\\n",
       "0       #iPhone12 #Android iPhone 12 vs Android’s best...            0.0   \n",
       "1       @cuppymusic I'm asking DJ cuppy Please I want ...            0.0   \n",
       "2       The moment Mercy Eke sprays her friend $3000 c...            0.0   \n",
       "3       @CraigStrife Aww back at you Mr S 😘 &amp; Appl...            0.0   \n",
       "4       @PicsArtStudio umm I can’t press on the search...            1.0   \n",
       "...                                                   ...            ...   \n",
       "983241  @Rockprincess818 Our media is nothing but yet ...            0.0   \n",
       "983242  Silicon Valley Has Deep Pockets for African St...            0.0   \n",
       "983243  @BernieSanders Not going to work, these incite...            0.0   \n",
       "983244  Wohl addresses his ban from Instagram/Facebook...           10.0   \n",
       "983245  Kinda angry at all of Silicon Valley for not s...            1.0   \n",
       "\n",
       "        retweets_count  likes_count search_term  \\\n",
       "0                  0.0          0.0   iphone 12   \n",
       "1                  0.0          0.0   iphone 12   \n",
       "2                  1.0          3.0   iphone 12   \n",
       "3                  0.0          0.0   iphone 12   \n",
       "4                  0.0          1.0   iphone 12   \n",
       "...                ...          ...         ...   \n",
       "983241             0.0          0.0     silicon   \n",
       "983242             0.0          1.0     silicon   \n",
       "983243             0.0          0.0     silicon   \n",
       "983244             2.0         24.0     silicon   \n",
       "983245             0.0          1.0     silicon   \n",
       "\n",
       "                                                  c_tweet  \\\n",
       "0       iphone android iphone vs android best it time ...   \n",
       "1                   asking dj cuppy please want an iphone   \n",
       "2       the moment mercy eke sprays her friend cash an...   \n",
       "3       aww back at you mr amp apple still the iphone ...   \n",
       "4       umm can press on the search bar on the iphone ...   \n",
       "...                                                   ...   \n",
       "983241  our media is nothing but yet another megaphone...   \n",
       "983242  silicon valley has deep pockets for african st...   \n",
       "983243  not going to work these incitements are well p...   \n",
       "983244  wohl addresses his ban from instagram facebook...   \n",
       "983245  kinda angry at all of silicon valley for not s...   \n",
       "\n",
       "                                                tokenized  \\\n",
       "0       ['iphone', 'android', 'iphone', 'v', 'android'...   \n",
       "1       ['asking', 'dj', 'cuppy', 'please', 'want', 'a...   \n",
       "2       ['the', 'moment', 'mercy', 'eke', 'spray', 'he...   \n",
       "3       ['aww', 'back', 'at', 'you', 'mr', 'amp', 'app...   \n",
       "4       ['umm', 'can', 'press', 'on', 'the', 'search',...   \n",
       "...                                                   ...   \n",
       "983241  ['our', 'medium', 'is', 'nothing', 'but', 'yet...   \n",
       "983242  ['silicon', 'valley', 'ha', 'deep', 'pocket', ...   \n",
       "983243  ['not', 'going', 'to', 'work', 'these', 'incit...   \n",
       "983244  ['wohl', 'address', 'his', 'ban', 'from', 'ins...   \n",
       "983245  ['kinda', 'angry', 'at', 'all', 'of', 'silicon...   \n",
       "\n",
       "                                                 filtered  \\\n",
       "0       android, android, best, time, consider, switch...   \n",
       "1                         asking, dj, cuppy, please, want   \n",
       "2       moment, mercy, eke, spray, friend, cash, gave,...   \n",
       "3       aww, back, mr, amp, apple, still, still, arriv...   \n",
       "4                     umm, press, search, bar, hurry, fix   \n",
       "...                                                   ...   \n",
       "983241  medium, nothing, yet, another, megaphone, like...   \n",
       "983242  silicon, valley, ha, deep, pocket, african, st...   \n",
       "983243  going, work, incitement, well, planned, well, ...   \n",
       "983244  wohl, address, ban, instagram, facebook, claim...   \n",
       "983245  kinda, angry, silicon, valley, spending, summe...   \n",
       "\n",
       "                                                 delisted sentiment    topic0  \\\n",
       "0       android, android, best, time, consider, switch...  positive  0.887465   \n",
       "1                             asking, cuppy, please, want  positive  0.016679   \n",
       "2       moment, mercy, eke, spray, friend, cash, gave,...  positive  0.011123   \n",
       "3       aww, back, amp, still, still, arrived, guessin...  positive  0.302723   \n",
       "4                     umm, press, search, bar, hurry, fix   neutral  0.611028   \n",
       "...                                                   ...       ...       ...   \n",
       "983241  medium, nothing, yet, another, megaphone, like...  positive  0.000000   \n",
       "983242  silicon, valley, deep, pocket, african, startu...   neutral  0.000000   \n",
       "983243  going, work, incitement, well, planned, well, ...  positive  0.020014   \n",
       "983244  wohl, address, ban, instagram, facebook, claim...  negative  0.000000   \n",
       "983245  kinda, angry, silicon, valley, spending, summe...  negative  0.000000   \n",
       "\n",
       "          topic1    topic2    topic3    topic4    topic5    topic6    topic7  \\\n",
       "0       0.012504  0.012503  0.012504  0.012504  0.012504  0.012506  0.012503   \n",
       "1       0.016674  0.016674  0.849927  0.016674  0.016674  0.016674  0.016674   \n",
       "2       0.011122  0.011122  0.899898  0.011122  0.011122  0.011122  0.011126   \n",
       "3       0.474885  0.000000  0.110264  0.086025  0.000000  0.000000  0.000000   \n",
       "4       0.014312  0.014303  0.014312  0.274515  0.014303  0.014307  0.014301   \n",
       "...          ...       ...       ...       ...       ...       ...       ...   \n",
       "983241  0.000000  0.000000  0.086257  0.092568  0.000000  0.092759  0.000000   \n",
       "983242  0.059652  0.136491  0.000000  0.000000  0.000000  0.298953  0.000000   \n",
       "983243  0.020015  0.020014  0.020014  0.020014  0.020014  0.253458  0.246685   \n",
       "983244  0.000000  0.000000  0.151971  0.000000  0.000000  0.391555  0.000000   \n",
       "983245  0.000000  0.000000  0.000000  0.000000  0.062352  0.000000  0.000000   \n",
       "\n",
       "          topic8    topic9  subjectivity_score max_topic  \n",
       "0       0.012504  0.012503            0.300000    topic0  \n",
       "1       0.016674  0.016674            0.000000    topic3  \n",
       "2       0.011122  0.011122            0.000000    topic3  \n",
       "3       0.000000  0.000000            0.505556    topic1  \n",
       "4       0.014309  0.014309            0.000000    topic0  \n",
       "...          ...       ...                 ...       ...  \n",
       "983241  0.688397  0.000000            0.000000    topic8  \n",
       "983242  0.000000  0.480879            0.133333    topic6  \n",
       "983243  0.020017  0.359756            0.500000    topic6  \n",
       "983244  0.327698  0.102675            0.833333    topic6  \n",
       "983245  0.360606  0.542023            0.450000    topic8  \n",
       "\n",
       "[983246 rows x 24 columns]"
      ]
     },
     "execution_count": 25,
     "metadata": {},
     "output_type": "execute_result"
    }
   ],
   "source": [
    "main_df"
   ]
  },
  {
   "cell_type": "code",
   "execution_count": 26,
   "metadata": {},
   "outputs": [],
   "source": [
    "yes_retweet = []\n",
    "for x in main_df[\"retweets_count\"]:\n",
    "    if x >= 1:\n",
    "        yes_retweet.append(1)\n",
    "    else: \n",
    "        yes_retweet.append(0)\n",
    "        \n",
    "        \n",
    "main_df[\"yes_retweets\"] = yes_retweet\n",
    "#df.drop(columns = \"retweets_count\")\n",
    "#main_df.drop(columns = \"retweets_count\", inplace = True)"
   ]
  },
  {
   "cell_type": "code",
   "execution_count": 27,
   "metadata": {},
   "outputs": [],
   "source": [
    "yes_likes = []\n",
    "for x in main_df[\"likes_count\"]:\n",
    "    if x >= 1:\n",
    "        yes_likes.append(1)\n",
    "    else: \n",
    "        yes_likes.append(0)\n",
    "        \n",
    "        \n",
    "main_df[\"yes_likes\"] = yes_likes\n",
    "\n",
    "main_df.drop(columns = \"likes_count\", inplace = True)"
   ]
  },
  {
   "cell_type": "code",
   "execution_count": 28,
   "metadata": {},
   "outputs": [],
   "source": [
    "yes_replies = []\n",
    "for x in main_df[\"replies_count\"]:\n",
    "    if x >= 1:\n",
    "        yes_replies.append(1)\n",
    "    else: \n",
    "        yes_replies.append(0)\n",
    "        \n",
    "        \n",
    "main_df[\"yes_replies\"] = yes_replies\n",
    "\n",
    "main_df.drop(columns = \"replies_count\", inplace = True)"
   ]
  },
  {
   "cell_type": "code",
   "execution_count": 29,
   "metadata": {},
   "outputs": [],
   "source": [
    "main_df.to_csv(\"main_df.csv\")"
   ]
  },
  {
   "cell_type": "markdown",
   "metadata": {},
   "source": [
    "### Exploring the overall sentiment for each topic"
   ]
  },
  {
   "cell_type": "code",
   "execution_count": 30,
   "metadata": {},
   "outputs": [
    {
     "data": {
      "image/png": "[encoded data removed]",
      "text/plain": [
       "<Figure size 864x576 with 1 Axes>"
      ]
     },
     "metadata": {
      "needs_background": "light"
     },
     "output_type": "display_data"
    }
   ],
   "source": [
    "x = main_df.groupby(\"max_topic\")[\"sentiment\"].value_counts(normalize=True).unstack()\n",
    "\n",
    "\n",
    "x.plot(kind = 'bar', figsize=(12,8), color =[\"red\", \"grey\", \"green\"])\n",
    "plt.title(\"Percentage of each Sentiment per topic \")\n",
    "plt.ylabel(\"Number of Sentiment (%)\")\n",
    "plt.xlabel(\"Topics\")\n",
    "plt.xticks(rotation=25)\n",
    "plt.savefig('images/sentiment_per_topic', bbox_inches = \"tight\");\n"
   ]
  },
  {
   "cell_type": "markdown",
   "metadata": {},
   "source": [
    "### Exploring the overall sentiment for each search term"
   ]
  },
  {
   "cell_type": "code",
   "execution_count": 31,
   "metadata": {},
   "outputs": [
    {
     "data": {
      "image/png": "[encoded data removed]",
      "text/plain": [
       "<Figure size 864x576 with 1 Axes>"
      ]
     },
     "metadata": {
      "needs_background": "light"
     },
     "output_type": "display_data"
    }
   ],
   "source": [
    "y = main_df.groupby(\"search_term\")[\"sentiment\"].value_counts(normalize=True).unstack()\n",
    "\n",
    "y.plot(kind = 'bar', figsize=(12,8), color =[\"red\", \"grey\", \"green\"])\n",
    "plt.title(\"Percentage of each Sentiment per Search Term \")\n",
    "plt.ylabel(\"Proportion of Sentiment (%)\", fontsize=26)\n",
    "plt.xlabel(\"Search Term\")\n",
    "plt.xticks(rotation=25)\n",
    "plt.savefig('images/sentiment_per_search_term', bbox_inches = \"tight\");"
   ]
  },
  {
   "cell_type": "code",
   "execution_count": 32,
   "metadata": {},
   "outputs": [
    {
     "data": {
      "text/plain": [
       "(983246, 25)"
      ]
     },
     "execution_count": 32,
     "metadata": {},
     "output_type": "execute_result"
    }
   ],
   "source": [
    "main_df.shape"
   ]
  },
  {
   "cell_type": "code",
   "execution_count": null,
   "metadata": {},
   "outputs": [],
   "source": []
  }
 ],
 "metadata": {
  "kernelspec": {
   "display_name": "Learn-env",
   "language": "python",
   "name": "learn-env"
  },
  "language_info": {
   "codemirror_mode": {
    "name": "ipython",
    "version": 3
   },
   "file_extension": ".py",
   "mimetype": "text/x-python",
   "name": "python",
   "nbconvert_exporter": "python",
   "pygments_lexer": "ipython3",
   "version": "3.6.9"
  }
 },
 "nbformat": 4,
 "nbformat_minor": 4
}
