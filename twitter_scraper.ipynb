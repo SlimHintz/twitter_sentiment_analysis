{
 "cells": [
  {
   "cell_type": "code",
   "execution_count": 2,
   "metadata": {},
   "outputs": [],
   "source": [
    "import pandas as pd\n",
    "import numpy as np\n",
    "from datetime import date\n",
    "import time\n",
    "import subprocess"
   ]
  },
  {
   "cell_type": "markdown",
   "metadata": {},
   "source": [
    "# Twitter Scraper"
   ]
  },
  {
   "cell_type": "code",
   "execution_count": 25,
   "metadata": {},
   "outputs": [],
   "source": [
    "terms = ['iphone 12',\n",
    "         'apple silicon',\n",
    "         'M1 macbook',\n",
    "         'new macbook',\n",
    "         'iphone 12 pro',\n",
    "         'new apple',\n",
    "         'new iphone',\n",
    "         'silicon']"
   ]
  },
  {
   "cell_type": "code",
   "execution_count": 26,
   "metadata": {},
   "outputs": [
    {
     "name": "stdout",
     "output_type": "stream",
     "text": [
      "done with Iphone 12\n",
      "--- 371.60202503204346 seconds ---\n"
     ]
    }
   ],
   "source": [
    "# Twint also has a python module, however, we opted to run it as\n",
    "# a subprocess because the module was not returning desired date ranges.\n",
    "\n",
    "for term in terms:\n",
    "    start_t = time.time()\n",
    "    subprocess.run(['twint', '-s', term, '--since', '2020-9-01', '-o', '{}.json'.format(term.replace(' ', '_')) ,'--json'])\n",
    "    time.sleep(15)\n",
    "    print('done with {}'.format(term))\n",
    "    print(\"--- %s seconds ---\" % (time.time() - start_t))"
   ]
  }
 ],
 "metadata": {
  "kernelspec": {
   "display_name": "learn-env",
   "language": "python",
   "name": "learn-env"
  },
  "language_info": {
   "codemirror_mode": {
    "name": "ipython",
    "version": 3
   },
   "file_extension": ".py",
   "mimetype": "text/x-python",
   "name": "python",
   "nbconvert_exporter": "python",
   "pygments_lexer": "ipython3",
   "version": "3.6.10"
  }
 },
 "nbformat": 4,
 "nbformat_minor": 4
}
