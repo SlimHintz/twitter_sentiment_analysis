{
 "cells": [
  {
   "cell_type": "code",
   "execution_count": 1,
   "metadata": {},
   "outputs": [],
   "source": [
    "import pandas as pd\n",
    "import numpy as np\n",
    "import seaborn as sns\n",
    "import matplotlib.pyplot as plt\n",
    "%matplotlib inline\n"
   ]
  },
  {
   "cell_type": "code",
   "execution_count": 2,
   "metadata": {},
   "outputs": [],
   "source": [
    "main_df = pd.read_csv(\"main_df.csv\", index_col = 0)"
   ]
  },
  {
   "cell_type": "code",
   "execution_count": 3,
   "metadata": {},
   "outputs": [
    {
     "data": {
      "text/html": [
       "<div>\n",
       "<style scoped>\n",
       "    .dataframe tbody tr th:only-of-type {\n",
       "        vertical-align: middle;\n",
       "    }\n",
       "\n",
       "    .dataframe tbody tr th {\n",
       "        vertical-align: top;\n",
       "    }\n",
       "\n",
       "    .dataframe thead th {\n",
       "        text-align: right;\n",
       "    }\n",
       "</style>\n",
       "<table border=\"1\" class=\"dataframe\">\n",
       "  <thead>\n",
       "    <tr style=\"text-align: right;\">\n",
       "      <th></th>\n",
       "      <th>date</th>\n",
       "      <th>search_term</th>\n",
       "      <th>likes_count</th>\n",
       "      <th>c_tweet</th>\n",
       "      <th>filtered</th>\n",
       "      <th>sentiment</th>\n",
       "      <th>topic0</th>\n",
       "      <th>topic1</th>\n",
       "      <th>topic2</th>\n",
       "      <th>topic3</th>\n",
       "      <th>topic4</th>\n",
       "      <th>topic5</th>\n",
       "      <th>topic6</th>\n",
       "      <th>topic7</th>\n",
       "      <th>topic8</th>\n",
       "      <th>topic9</th>\n",
       "      <th>yes_retweets</th>\n",
       "      <th>yes_likes</th>\n",
       "      <th>subjectivity_score</th>\n",
       "      <th>test</th>\n",
       "    </tr>\n",
       "  </thead>\n",
       "  <tbody>\n",
       "    <tr>\n",
       "      <th>0</th>\n",
       "      <td>2020-11-28</td>\n",
       "      <td>apple silicon</td>\n",
       "      <td>10</td>\n",
       "      <td>borderlands in on apple silicon yes yes it pla...</td>\n",
       "      <td>borderland, silicon, yes, yes, playable</td>\n",
       "      <td>positive</td>\n",
       "      <td>0.018708</td>\n",
       "      <td>0.626656</td>\n",
       "      <td>0.018718</td>\n",
       "      <td>0.223669</td>\n",
       "      <td>0.018708</td>\n",
       "      <td>0.018708</td>\n",
       "      <td>0.018709</td>\n",
       "      <td>0.018708</td>\n",
       "      <td>0.018708</td>\n",
       "      <td>0.018708</td>\n",
       "      <td>0</td>\n",
       "      <td>1</td>\n",
       "      <td>0.0000</td>\n",
       "      <td>topic1</td>\n",
       "    </tr>\n",
       "    <tr>\n",
       "      <th>1</th>\n",
       "      <td>2020-11-28</td>\n",
       "      <td>apple silicon</td>\n",
       "      <td>1</td>\n",
       "      <td>mac mini vs mac pro interesting review of pros...</td>\n",
       "      <td>mac, mini, mac, interesting, review, con, appl...</td>\n",
       "      <td>positive</td>\n",
       "      <td>0.105421</td>\n",
       "      <td>0.000000</td>\n",
       "      <td>0.000000</td>\n",
       "      <td>0.827884</td>\n",
       "      <td>0.000000</td>\n",
       "      <td>0.000000</td>\n",
       "      <td>0.000000</td>\n",
       "      <td>0.000000</td>\n",
       "      <td>0.000000</td>\n",
       "      <td>0.000000</td>\n",
       "      <td>0</td>\n",
       "      <td>1</td>\n",
       "      <td>0.5000</td>\n",
       "      <td>topic3</td>\n",
       "    </tr>\n",
       "    <tr>\n",
       "      <th>2</th>\n",
       "      <td>2020-11-28</td>\n",
       "      <td>apple silicon</td>\n",
       "      <td>2</td>\n",
       "      <td>and can only imagine what the apple silicon fo...</td>\n",
       "      <td>imagine, silicon, capable</td>\n",
       "      <td>positive</td>\n",
       "      <td>0.025006</td>\n",
       "      <td>0.025006</td>\n",
       "      <td>0.025014</td>\n",
       "      <td>0.774932</td>\n",
       "      <td>0.025007</td>\n",
       "      <td>0.025006</td>\n",
       "      <td>0.025006</td>\n",
       "      <td>0.025008</td>\n",
       "      <td>0.025009</td>\n",
       "      <td>0.025006</td>\n",
       "      <td>0</td>\n",
       "      <td>1</td>\n",
       "      <td>0.4000</td>\n",
       "      <td>topic3</td>\n",
       "    </tr>\n",
       "    <tr>\n",
       "      <th>3</th>\n",
       "      <td>2020-11-28</td>\n",
       "      <td>apple silicon</td>\n",
       "      <td>4</td>\n",
       "      <td>to repeat something said at the debut if apple...</td>\n",
       "      <td>repeat, something, said, debut, silicon, conti...</td>\n",
       "      <td>neutral</td>\n",
       "      <td>0.000000</td>\n",
       "      <td>0.000000</td>\n",
       "      <td>0.000000</td>\n",
       "      <td>0.797123</td>\n",
       "      <td>0.158403</td>\n",
       "      <td>0.000000</td>\n",
       "      <td>0.000000</td>\n",
       "      <td>0.000000</td>\n",
       "      <td>0.000000</td>\n",
       "      <td>0.000000</td>\n",
       "      <td>1</td>\n",
       "      <td>1</td>\n",
       "      <td>0.4375</td>\n",
       "      <td>topic3</td>\n",
       "    </tr>\n",
       "    <tr>\n",
       "      <th>4</th>\n",
       "      <td>2020-11-28</td>\n",
       "      <td>apple silicon</td>\n",
       "      <td>0</td>\n",
       "      <td>is not the problem pixel size is the problem a...</td>\n",
       "      <td>problem, pixel, size, problem, intel, problem,...</td>\n",
       "      <td>negative</td>\n",
       "      <td>0.000000</td>\n",
       "      <td>0.000000</td>\n",
       "      <td>0.000000</td>\n",
       "      <td>0.287325</td>\n",
       "      <td>0.000000</td>\n",
       "      <td>0.000000</td>\n",
       "      <td>0.000000</td>\n",
       "      <td>0.000000</td>\n",
       "      <td>0.452186</td>\n",
       "      <td>0.221580</td>\n",
       "      <td>0</td>\n",
       "      <td>0</td>\n",
       "      <td>0.3500</td>\n",
       "      <td>topic8</td>\n",
       "    </tr>\n",
       "  </tbody>\n",
       "</table>\n",
       "</div>"
      ],
      "text/plain": [
       "         date    search_term  likes_count  \\\n",
       "0  2020-11-28  apple silicon           10   \n",
       "1  2020-11-28  apple silicon            1   \n",
       "2  2020-11-28  apple silicon            2   \n",
       "3  2020-11-28  apple silicon            4   \n",
       "4  2020-11-28  apple silicon            0   \n",
       "\n",
       "                                             c_tweet  \\\n",
       "0  borderlands in on apple silicon yes yes it pla...   \n",
       "1  mac mini vs mac pro interesting review of pros...   \n",
       "2  and can only imagine what the apple silicon fo...   \n",
       "3  to repeat something said at the debut if apple...   \n",
       "4  is not the problem pixel size is the problem a...   \n",
       "\n",
       "                                            filtered sentiment    topic0  \\\n",
       "0            borderland, silicon, yes, yes, playable  positive  0.018708   \n",
       "1  mac, mini, mac, interesting, review, con, appl...  positive  0.105421   \n",
       "2                          imagine, silicon, capable  positive  0.025006   \n",
       "3  repeat, something, said, debut, silicon, conti...   neutral  0.000000   \n",
       "4  problem, pixel, size, problem, intel, problem,...  negative  0.000000   \n",
       "\n",
       "     topic1    topic2    topic3    topic4    topic5    topic6    topic7  \\\n",
       "0  0.626656  0.018718  0.223669  0.018708  0.018708  0.018709  0.018708   \n",
       "1  0.000000  0.000000  0.827884  0.000000  0.000000  0.000000  0.000000   \n",
       "2  0.025006  0.025014  0.774932  0.025007  0.025006  0.025006  0.025008   \n",
       "3  0.000000  0.000000  0.797123  0.158403  0.000000  0.000000  0.000000   \n",
       "4  0.000000  0.000000  0.287325  0.000000  0.000000  0.000000  0.000000   \n",
       "\n",
       "     topic8    topic9  yes_retweets  yes_likes  subjectivity_score    test  \n",
       "0  0.018708  0.018708             0          1              0.0000  topic1  \n",
       "1  0.000000  0.000000             0          1              0.5000  topic3  \n",
       "2  0.025009  0.025006             0          1              0.4000  topic3  \n",
       "3  0.000000  0.000000             1          1              0.4375  topic3  \n",
       "4  0.452186  0.221580             0          0              0.3500  topic8  "
      ]
     },
     "execution_count": 3,
     "metadata": {},
     "output_type": "execute_result"
    }
   ],
   "source": [
    "main_df.head()"
   ]
  },
  {
   "cell_type": "code",
   "execution_count": 4,
   "metadata": {},
   "outputs": [],
   "source": [
    "from sklearn.feature_extraction.text import TfidfVectorizer \n",
    "\n",
    "rf_feats = main_df.c_tweet.values\n",
    "tfidfconverter = TfidfVectorizer(max_features=2000, min_df=5, max_df=0.7)  \n",
    "X = tfidfconverter.fit_transform(rf_feats).toarray()\n",
    "\n",
    "tfidf_df = pd.DataFrame(X)\n",
    "tfidf_df.to_csv(\"tfidf_df.csv\")"
   ]
  },
  {
   "cell_type": "code",
   "execution_count": 5,
   "metadata": {},
   "outputs": [
    {
     "data": {
      "text/html": [
       "<div>\n",
       "<style scoped>\n",
       "    .dataframe tbody tr th:only-of-type {\n",
       "        vertical-align: middle;\n",
       "    }\n",
       "\n",
       "    .dataframe tbody tr th {\n",
       "        vertical-align: top;\n",
       "    }\n",
       "\n",
       "    .dataframe thead th {\n",
       "        text-align: right;\n",
       "    }\n",
       "</style>\n",
       "<table border=\"1\" class=\"dataframe\">\n",
       "  <thead>\n",
       "    <tr style=\"text-align: right;\">\n",
       "      <th></th>\n",
       "      <th>0</th>\n",
       "      <th>1</th>\n",
       "      <th>2</th>\n",
       "      <th>3</th>\n",
       "      <th>4</th>\n",
       "      <th>5</th>\n",
       "      <th>6</th>\n",
       "      <th>7</th>\n",
       "      <th>8</th>\n",
       "      <th>9</th>\n",
       "      <th>...</th>\n",
       "      <th>1990</th>\n",
       "      <th>1991</th>\n",
       "      <th>1992</th>\n",
       "      <th>1993</th>\n",
       "      <th>1994</th>\n",
       "      <th>1995</th>\n",
       "      <th>1996</th>\n",
       "      <th>1997</th>\n",
       "      <th>1998</th>\n",
       "      <th>1999</th>\n",
       "    </tr>\n",
       "  </thead>\n",
       "  <tbody>\n",
       "    <tr>\n",
       "      <th>0</th>\n",
       "      <td>0.0</td>\n",
       "      <td>0.0</td>\n",
       "      <td>0.0</td>\n",
       "      <td>0.0</td>\n",
       "      <td>0.0</td>\n",
       "      <td>0.0</td>\n",
       "      <td>0.0</td>\n",
       "      <td>0.0</td>\n",
       "      <td>0.0</td>\n",
       "      <td>0.0</td>\n",
       "      <td>...</td>\n",
       "      <td>0.0</td>\n",
       "      <td>0.0</td>\n",
       "      <td>0.0</td>\n",
       "      <td>0.0</td>\n",
       "      <td>0.0</td>\n",
       "      <td>0.0</td>\n",
       "      <td>0.0</td>\n",
       "      <td>0.0</td>\n",
       "      <td>0.0</td>\n",
       "      <td>0.0</td>\n",
       "    </tr>\n",
       "    <tr>\n",
       "      <th>1</th>\n",
       "      <td>0.0</td>\n",
       "      <td>0.0</td>\n",
       "      <td>0.0</td>\n",
       "      <td>0.0</td>\n",
       "      <td>0.0</td>\n",
       "      <td>0.0</td>\n",
       "      <td>0.0</td>\n",
       "      <td>0.0</td>\n",
       "      <td>0.0</td>\n",
       "      <td>0.0</td>\n",
       "      <td>...</td>\n",
       "      <td>0.0</td>\n",
       "      <td>0.0</td>\n",
       "      <td>0.0</td>\n",
       "      <td>0.0</td>\n",
       "      <td>0.0</td>\n",
       "      <td>0.0</td>\n",
       "      <td>0.0</td>\n",
       "      <td>0.0</td>\n",
       "      <td>0.0</td>\n",
       "      <td>0.0</td>\n",
       "    </tr>\n",
       "    <tr>\n",
       "      <th>2</th>\n",
       "      <td>0.0</td>\n",
       "      <td>0.0</td>\n",
       "      <td>0.0</td>\n",
       "      <td>0.0</td>\n",
       "      <td>0.0</td>\n",
       "      <td>0.0</td>\n",
       "      <td>0.0</td>\n",
       "      <td>0.0</td>\n",
       "      <td>0.0</td>\n",
       "      <td>0.0</td>\n",
       "      <td>...</td>\n",
       "      <td>0.0</td>\n",
       "      <td>0.0</td>\n",
       "      <td>0.0</td>\n",
       "      <td>0.0</td>\n",
       "      <td>0.0</td>\n",
       "      <td>0.0</td>\n",
       "      <td>0.0</td>\n",
       "      <td>0.0</td>\n",
       "      <td>0.0</td>\n",
       "      <td>0.0</td>\n",
       "    </tr>\n",
       "    <tr>\n",
       "      <th>3</th>\n",
       "      <td>0.0</td>\n",
       "      <td>0.0</td>\n",
       "      <td>0.0</td>\n",
       "      <td>0.0</td>\n",
       "      <td>0.0</td>\n",
       "      <td>0.0</td>\n",
       "      <td>0.0</td>\n",
       "      <td>0.0</td>\n",
       "      <td>0.0</td>\n",
       "      <td>0.0</td>\n",
       "      <td>...</td>\n",
       "      <td>0.0</td>\n",
       "      <td>0.0</td>\n",
       "      <td>0.0</td>\n",
       "      <td>0.0</td>\n",
       "      <td>0.0</td>\n",
       "      <td>0.0</td>\n",
       "      <td>0.0</td>\n",
       "      <td>0.0</td>\n",
       "      <td>0.0</td>\n",
       "      <td>0.0</td>\n",
       "    </tr>\n",
       "    <tr>\n",
       "      <th>4</th>\n",
       "      <td>0.0</td>\n",
       "      <td>0.0</td>\n",
       "      <td>0.0</td>\n",
       "      <td>0.0</td>\n",
       "      <td>0.0</td>\n",
       "      <td>0.0</td>\n",
       "      <td>0.0</td>\n",
       "      <td>0.0</td>\n",
       "      <td>0.0</td>\n",
       "      <td>0.0</td>\n",
       "      <td>...</td>\n",
       "      <td>0.0</td>\n",
       "      <td>0.0</td>\n",
       "      <td>0.0</td>\n",
       "      <td>0.0</td>\n",
       "      <td>0.0</td>\n",
       "      <td>0.0</td>\n",
       "      <td>0.0</td>\n",
       "      <td>0.0</td>\n",
       "      <td>0.0</td>\n",
       "      <td>0.0</td>\n",
       "    </tr>\n",
       "  </tbody>\n",
       "</table>\n",
       "<p>5 rows × 2000 columns</p>\n",
       "</div>"
      ],
      "text/plain": [
       "   0     1     2     3     4     5     6     7     8     9     ...  1990  \\\n",
       "0   0.0   0.0   0.0   0.0   0.0   0.0   0.0   0.0   0.0   0.0  ...   0.0   \n",
       "1   0.0   0.0   0.0   0.0   0.0   0.0   0.0   0.0   0.0   0.0  ...   0.0   \n",
       "2   0.0   0.0   0.0   0.0   0.0   0.0   0.0   0.0   0.0   0.0  ...   0.0   \n",
       "3   0.0   0.0   0.0   0.0   0.0   0.0   0.0   0.0   0.0   0.0  ...   0.0   \n",
       "4   0.0   0.0   0.0   0.0   0.0   0.0   0.0   0.0   0.0   0.0  ...   0.0   \n",
       "\n",
       "   1991  1992  1993  1994  1995  1996  1997  1998  1999  \n",
       "0   0.0   0.0   0.0   0.0   0.0   0.0   0.0   0.0   0.0  \n",
       "1   0.0   0.0   0.0   0.0   0.0   0.0   0.0   0.0   0.0  \n",
       "2   0.0   0.0   0.0   0.0   0.0   0.0   0.0   0.0   0.0  \n",
       "3   0.0   0.0   0.0   0.0   0.0   0.0   0.0   0.0   0.0  \n",
       "4   0.0   0.0   0.0   0.0   0.0   0.0   0.0   0.0   0.0  \n",
       "\n",
       "[5 rows x 2000 columns]"
      ]
     },
     "execution_count": 5,
     "metadata": {},
     "output_type": "execute_result"
    }
   ],
   "source": [
    "tfidf_df.head()"
   ]
  },
  {
   "cell_type": "code",
   "execution_count": 6,
   "metadata": {},
   "outputs": [],
   "source": [
    "features = [\"topic0\", \"topic1\", \"topic2\", \"topic3\", \"topic4\", \"topic5\", \"topic6\", \n",
    "            \"topic7\", \"topic8\", \"topic9\", \"yes_likes\", \"yes_retweets\",\n",
    "            \"subjectivity_score\", \"sentiment\"]"
   ]
  },
  {
   "cell_type": "code",
   "execution_count": 7,
   "metadata": {},
   "outputs": [],
   "source": [
    "featured_df = main_df[features]"
   ]
  },
  {
   "cell_type": "code",
   "execution_count": 8,
   "metadata": {},
   "outputs": [],
   "source": [
    "#df WITHOUT tfidf vector\n",
    "featured_df.to_csv(\"features.csv\") "
   ]
  },
  {
   "cell_type": "code",
   "execution_count": 9,
   "metadata": {},
   "outputs": [
    {
     "name": "stderr",
     "output_type": "stream",
     "text": [
      "/Users/DataSci/opt/anaconda3/envs/learn-env/lib/python3.6/site-packages/pandas/core/frame.py:4174: SettingWithCopyWarning: \n",
      "A value is trying to be set on a copy of a slice from a DataFrame\n",
      "\n",
      "See the caveats in the documentation: https://pandas.pydata.org/pandas-docs/stable/user_guide/indexing.html#returning-a-view-versus-a-copy\n",
      "  errors=errors,\n"
     ]
    }
   ],
   "source": [
    "targets = featured_df.sentiment.values\n",
    "featured_df.drop(columns = \"sentiment\", inplace = True)"
   ]
  },
  {
   "cell_type": "code",
   "execution_count": 10,
   "metadata": {},
   "outputs": [],
   "source": [
    "feats_tfidf = pd.concat([featured_df, tfidf_df], axis = 1)"
   ]
  },
  {
   "cell_type": "code",
   "execution_count": 11,
   "metadata": {},
   "outputs": [],
   "source": [
    "#df WITH tfidf vector\n",
    "feats_tfidf.to_csv(\"feats_tfidf.csv\")"
   ]
  },
  {
   "cell_type": "code",
   "execution_count": 12,
   "metadata": {},
   "outputs": [
    {
     "data": {
      "text/html": [
       "<div>\n",
       "<style scoped>\n",
       "    .dataframe tbody tr th:only-of-type {\n",
       "        vertical-align: middle;\n",
       "    }\n",
       "\n",
       "    .dataframe tbody tr th {\n",
       "        vertical-align: top;\n",
       "    }\n",
       "\n",
       "    .dataframe thead th {\n",
       "        text-align: right;\n",
       "    }\n",
       "</style>\n",
       "<table border=\"1\" class=\"dataframe\">\n",
       "  <thead>\n",
       "    <tr style=\"text-align: right;\">\n",
       "      <th></th>\n",
       "      <th>topic0</th>\n",
       "      <th>topic1</th>\n",
       "      <th>topic2</th>\n",
       "      <th>topic3</th>\n",
       "      <th>topic4</th>\n",
       "      <th>topic5</th>\n",
       "      <th>topic6</th>\n",
       "      <th>topic7</th>\n",
       "      <th>topic8</th>\n",
       "      <th>topic9</th>\n",
       "      <th>yes_likes</th>\n",
       "      <th>yes_retweets</th>\n",
       "      <th>subjectivity_score</th>\n",
       "    </tr>\n",
       "  </thead>\n",
       "  <tbody>\n",
       "    <tr>\n",
       "      <th>0</th>\n",
       "      <td>0.018708</td>\n",
       "      <td>0.626656</td>\n",
       "      <td>0.018718</td>\n",
       "      <td>0.223669</td>\n",
       "      <td>0.018708</td>\n",
       "      <td>0.018708</td>\n",
       "      <td>0.018709</td>\n",
       "      <td>0.018708</td>\n",
       "      <td>0.018708</td>\n",
       "      <td>0.018708</td>\n",
       "      <td>1</td>\n",
       "      <td>0</td>\n",
       "      <td>0.0000</td>\n",
       "    </tr>\n",
       "    <tr>\n",
       "      <th>1</th>\n",
       "      <td>0.105421</td>\n",
       "      <td>0.000000</td>\n",
       "      <td>0.000000</td>\n",
       "      <td>0.827884</td>\n",
       "      <td>0.000000</td>\n",
       "      <td>0.000000</td>\n",
       "      <td>0.000000</td>\n",
       "      <td>0.000000</td>\n",
       "      <td>0.000000</td>\n",
       "      <td>0.000000</td>\n",
       "      <td>1</td>\n",
       "      <td>0</td>\n",
       "      <td>0.5000</td>\n",
       "    </tr>\n",
       "    <tr>\n",
       "      <th>2</th>\n",
       "      <td>0.025006</td>\n",
       "      <td>0.025006</td>\n",
       "      <td>0.025014</td>\n",
       "      <td>0.774932</td>\n",
       "      <td>0.025007</td>\n",
       "      <td>0.025006</td>\n",
       "      <td>0.025006</td>\n",
       "      <td>0.025008</td>\n",
       "      <td>0.025009</td>\n",
       "      <td>0.025006</td>\n",
       "      <td>1</td>\n",
       "      <td>0</td>\n",
       "      <td>0.4000</td>\n",
       "    </tr>\n",
       "    <tr>\n",
       "      <th>3</th>\n",
       "      <td>0.000000</td>\n",
       "      <td>0.000000</td>\n",
       "      <td>0.000000</td>\n",
       "      <td>0.797123</td>\n",
       "      <td>0.158403</td>\n",
       "      <td>0.000000</td>\n",
       "      <td>0.000000</td>\n",
       "      <td>0.000000</td>\n",
       "      <td>0.000000</td>\n",
       "      <td>0.000000</td>\n",
       "      <td>1</td>\n",
       "      <td>1</td>\n",
       "      <td>0.4375</td>\n",
       "    </tr>\n",
       "    <tr>\n",
       "      <th>4</th>\n",
       "      <td>0.000000</td>\n",
       "      <td>0.000000</td>\n",
       "      <td>0.000000</td>\n",
       "      <td>0.287325</td>\n",
       "      <td>0.000000</td>\n",
       "      <td>0.000000</td>\n",
       "      <td>0.000000</td>\n",
       "      <td>0.000000</td>\n",
       "      <td>0.452186</td>\n",
       "      <td>0.221580</td>\n",
       "      <td>0</td>\n",
       "      <td>0</td>\n",
       "      <td>0.3500</td>\n",
       "    </tr>\n",
       "  </tbody>\n",
       "</table>\n",
       "</div>"
      ],
      "text/plain": [
       "     topic0    topic1    topic2    topic3    topic4    topic5    topic6  \\\n",
       "0  0.018708  0.626656  0.018718  0.223669  0.018708  0.018708  0.018709   \n",
       "1  0.105421  0.000000  0.000000  0.827884  0.000000  0.000000  0.000000   \n",
       "2  0.025006  0.025006  0.025014  0.774932  0.025007  0.025006  0.025006   \n",
       "3  0.000000  0.000000  0.000000  0.797123  0.158403  0.000000  0.000000   \n",
       "4  0.000000  0.000000  0.000000  0.287325  0.000000  0.000000  0.000000   \n",
       "\n",
       "     topic7    topic8    topic9  yes_likes  yes_retweets  subjectivity_score  \n",
       "0  0.018708  0.018708  0.018708          1             0              0.0000  \n",
       "1  0.000000  0.000000  0.000000          1             0              0.5000  \n",
       "2  0.025008  0.025009  0.025006          1             0              0.4000  \n",
       "3  0.000000  0.000000  0.000000          1             1              0.4375  \n",
       "4  0.000000  0.452186  0.221580          0             0              0.3500  "
      ]
     },
     "execution_count": 12,
     "metadata": {},
     "output_type": "execute_result"
    }
   ],
   "source": [
    "featured_df.head()"
   ]
  },
  {
   "cell_type": "markdown",
   "metadata": {},
   "source": [
    "## Test-Train split"
   ]
  },
  {
   "cell_type": "markdown",
   "metadata": {},
   "source": [
    "### Train-test split only on Topic scores "
   ]
  },
  {
   "cell_type": "code",
   "execution_count": 13,
   "metadata": {},
   "outputs": [],
   "source": [
    "from sklearn.model_selection import train_test_split\n",
    "from sklearn import metrics\n",
    "from sklearn.metrics import confusion_matrix, accuracy_score, classification_report"
   ]
  },
  {
   "cell_type": "code",
   "execution_count": 14,
   "metadata": {},
   "outputs": [],
   "source": [
    "X_train, X_test, y_train, y_test = train_test_split(featured_df, targets, test_size=0.2, random_state=0)"
   ]
  },
  {
   "cell_type": "code",
   "execution_count": 15,
   "metadata": {},
   "outputs": [
    {
     "name": "stdout",
     "output_type": "stream",
     "text": [
      "(325692, 13) (325692,)\n"
     ]
    }
   ],
   "source": [
    "print(X_train.shape, y_train.shape)"
   ]
  },
  {
   "cell_type": "markdown",
   "metadata": {},
   "source": [
    "## Baseline Models"
   ]
  },
  {
   "cell_type": "markdown",
   "metadata": {},
   "source": [
    "#### Multinomial NB"
   ]
  },
  {
   "cell_type": "code",
   "execution_count": 16,
   "metadata": {},
   "outputs": [
    {
     "data": {
      "text/plain": [
       "MultinomialNB()"
      ]
     },
     "execution_count": 16,
     "metadata": {},
     "output_type": "execute_result"
    }
   ],
   "source": [
    "from sklearn.naive_bayes import MultinomialNB \n",
    "Multi_nb = MultinomialNB()\n",
    "Multi_nb.fit(X_train, y_train)"
   ]
  },
  {
   "cell_type": "code",
   "execution_count": 17,
   "metadata": {},
   "outputs": [
    {
     "name": "stdout",
     "output_type": "stream",
     "text": [
      "Accuracy is: 0.5321223732851897\n",
      "------------------------------------------------------------\n"
     ]
    },
    {
     "name": "stderr",
     "output_type": "stream",
     "text": [
      "/Users/DataSci/opt/anaconda3/envs/learn-env/lib/python3.6/site-packages/sklearn/metrics/_classification.py:1221: UndefinedMetricWarning: Precision and F-score are ill-defined and being set to 0.0 in labels with no predicted samples. Use `zero_division` parameter to control this behavior.\n",
      "  _warn_prf(average, modifier, msg_start, len(result))\n"
     ]
    },
    {
     "name": "stdout",
     "output_type": "stream",
     "text": [
      "              precision    recall  f1-score   support\n",
      "\n",
      "    negative       0.00      0.00      0.00     14910\n",
      "     neutral       0.65      0.33      0.43     29454\n",
      "    positive       0.51      0.91      0.65     37059\n",
      "\n",
      "    accuracy                           0.53     81423\n",
      "   macro avg       0.38      0.41      0.36     81423\n",
      "weighted avg       0.46      0.53      0.45     81423\n",
      "\n"
     ]
    }
   ],
   "source": [
    "y_pred_NB = Multi_nb.predict(X_test)\n",
    "multi_NB_cm = confusion_matrix(y_test, y_pred_NB)\n",
    "print(\"Accuracy is:\", metrics.accuracy_score(y_test, y_pred_NB))\n",
    "print(\"-\"*60)                         \n",
    "print(classification_report(y_test, y_pred_NB))"
   ]
  },
  {
   "cell_type": "markdown",
   "metadata": {},
   "source": [
    "#### Random Forest Classifier"
   ]
  },
  {
   "cell_type": "code",
   "execution_count": 18,
   "metadata": {},
   "outputs": [],
   "source": [
    "from sklearn.ensemble import RandomForestClassifier"
   ]
  },
  {
   "cell_type": "code",
   "execution_count": 19,
   "metadata": {},
   "outputs": [],
   "source": [
    "rfc_classifier = RandomForestClassifier(n_estimators = 300, criterion = \"entropy\", random_state = 0)"
   ]
  },
  {
   "cell_type": "code",
   "execution_count": 20,
   "metadata": {},
   "outputs": [
    {
     "name": "stdout",
     "output_type": "stream",
     "text": [
      "Accuracy is: 0.6385050906991881\n",
      "------------------------------------------------------------\n",
      "              precision    recall  f1-score   support\n",
      "\n",
      "    negative       0.45      0.14      0.22     14910\n",
      "     neutral       0.68      0.71      0.69     29454\n",
      "    positive       0.63      0.78      0.70     37059\n",
      "\n",
      "    accuracy                           0.64     81423\n",
      "   macro avg       0.59      0.54      0.54     81423\n",
      "weighted avg       0.61      0.64      0.61     81423\n",
      "\n"
     ]
    }
   ],
   "source": [
    "rfc_classifier.fit(X_train, y_train)\n",
    "y_pred_RF = rfc_classifier.predict(X_test)\n",
    "print(\"Accuracy is:\", metrics.accuracy_score(y_test, y_pred_RF))\n",
    "print(\"-\"*60)                         \n",
    "print(classification_report(y_test, y_pred_RF))"
   ]
  },
  {
   "cell_type": "markdown",
   "metadata": {},
   "source": [
    "#### Decision Tree Classifier"
   ]
  },
  {
   "cell_type": "code",
   "execution_count": 21,
   "metadata": {},
   "outputs": [],
   "source": [
    "from sklearn.tree import DecisionTreeClassifier"
   ]
  },
  {
   "cell_type": "code",
   "execution_count": 22,
   "metadata": {},
   "outputs": [
    {
     "data": {
      "text/plain": [
       "DecisionTreeClassifier(random_state=0)"
      ]
     },
     "execution_count": 22,
     "metadata": {},
     "output_type": "execute_result"
    }
   ],
   "source": [
    "dtc_classifier = DecisionTreeClassifier(random_state = 0)\n",
    "dtc_classifier.fit(X_train, y_train)"
   ]
  },
  {
   "cell_type": "code",
   "execution_count": 23,
   "metadata": {},
   "outputs": [
    {
     "name": "stdout",
     "output_type": "stream",
     "text": [
      "Accuracy is: 0.5443793522714712\n",
      "------------------------------------------------------------\n",
      "              precision    recall  f1-score   support\n",
      "\n",
      "    negative       0.28      0.29      0.29     14910\n",
      "     neutral       0.60      0.60      0.60     29454\n",
      "    positive       0.60      0.60      0.60     37059\n",
      "\n",
      "    accuracy                           0.54     81423\n",
      "   macro avg       0.50      0.50      0.50     81423\n",
      "weighted avg       0.55      0.54      0.54     81423\n",
      "\n"
     ]
    }
   ],
   "source": [
    "y_pred_DT = dtc_classifier.predict(X_test)\n",
    "print(\"Accuracy is:\", metrics.accuracy_score(y_test, y_pred_DT))\n",
    "print(\"-\"*60)                         \n",
    "print(classification_report(y_test, y_pred_DT))"
   ]
  },
  {
   "cell_type": "markdown",
   "metadata": {},
   "source": [
    "# Baseline Models with the vectors included"
   ]
  },
  {
   "cell_type": "code",
   "execution_count": 24,
   "metadata": {},
   "outputs": [],
   "source": [
    "X_train_tfidf, X_test_tfidf, y_train_tfidf, y_test_tfidf = train_test_split(feats_tfidf, targets, test_size=0.2, random_state=0)"
   ]
  },
  {
   "cell_type": "code",
   "execution_count": 25,
   "metadata": {},
   "outputs": [
    {
     "name": "stdout",
     "output_type": "stream",
     "text": [
      "(325692, 2013) (325692,)\n"
     ]
    }
   ],
   "source": [
    "print(X_train_tfidf.shape, y_train_tfidf.shape)"
   ]
  },
  {
   "cell_type": "markdown",
   "metadata": {},
   "source": [
    "### MultinomialNB with tfidf vector"
   ]
  },
  {
   "cell_type": "code",
   "execution_count": 26,
   "metadata": {},
   "outputs": [
    {
     "data": {
      "text/plain": [
       "MultinomialNB()"
      ]
     },
     "execution_count": 26,
     "metadata": {},
     "output_type": "execute_result"
    }
   ],
   "source": [
    "Multi_nb = MultinomialNB()\n",
    "Multi_nb.fit(X_train_tfidf, y_train_tfidf)"
   ]
  },
  {
   "cell_type": "code",
   "execution_count": 27,
   "metadata": {},
   "outputs": [
    {
     "name": "stdout",
     "output_type": "stream",
     "text": [
      "Accuracy is: 0.7569974085946232\n",
      "------------------------------------------------------------\n",
      "              precision    recall  f1-score   support\n",
      "\n",
      "    negative       0.85      0.41      0.56     14910\n",
      "     neutral       0.82      0.74      0.77     29454\n",
      "    positive       0.71      0.91      0.80     37059\n",
      "\n",
      "    accuracy                           0.76     81423\n",
      "   macro avg       0.79      0.69      0.71     81423\n",
      "weighted avg       0.77      0.76      0.75     81423\n",
      "\n"
     ]
    }
   ],
   "source": [
    "y_pred_NB_tfidf = Multi_nb.predict(X_test_tfidf)\n",
    "multi_NB_tfidf_cm = confusion_matrix(y_test_tfidf, y_pred_NB_tfidf)\n",
    "print(\"Accuracy is:\", metrics.accuracy_score(y_test_tfidf, y_pred_NB_tfidf))\n",
    "print(\"-\"*60)                         \n",
    "print(classification_report(y_test_tfidf, y_pred_NB_tfidf))"
   ]
  },
  {
   "cell_type": "markdown",
   "metadata": {},
   "source": [
    "### Random Forest Classifer with TFIDF vector"
   ]
  },
  {
   "cell_type": "code",
   "execution_count": 28,
   "metadata": {},
   "outputs": [
    {
     "data": {
      "text/plain": [
       "RandomForestClassifier(random_state=0)"
      ]
     },
     "execution_count": 28,
     "metadata": {},
     "output_type": "execute_result"
    }
   ],
   "source": [
    "rfc_tfidf_classifier = RandomForestClassifier(random_state = 0)\n"
   ]
  },
  {
   "cell_type": "code",
   "execution_count": null,
   "metadata": {},
   "outputs": [],
   "source": [
    "rfc_tfidf_classifier.fit(X_train_tfidf, y_train_tfidf)"
   ]
  },
  {
   "cell_type": "code",
   "execution_count": 31,
   "metadata": {},
   "outputs": [
    {
     "name": "stdout",
     "output_type": "stream",
     "text": [
      "Accuracy is: 0.8116134261817913\n",
      "------------------------------------------------------------\n",
      "              precision    recall  f1-score   support\n",
      "\n",
      "    negative       0.88      0.48      0.63     14910\n",
      "     neutral       0.85      0.85      0.85     29454\n",
      "    positive       0.78      0.91      0.84     37059\n",
      "\n",
      "    accuracy                           0.81     81423\n",
      "   macro avg       0.83      0.75      0.77     81423\n",
      "weighted avg       0.82      0.81      0.80     81423\n",
      "\n"
     ]
    }
   ],
   "source": [
    "y_pred_RF_tfidf = rfc_tfidf_classifier.predict(X_test_tfidf)\n",
    "print(\"Accuracy is:\", metrics.accuracy_score(y_test_tfidf, y_pred_RF_tfidf))\n",
    "print(\"-\"*60)                         \n",
    "print(classification_report(y_test_tfidf, y_pred_RF_tfidf))"
   ]
  },
  {
   "cell_type": "markdown",
   "metadata": {},
   "source": [
    "### Decision Tree Classifier with TFIDF vector"
   ]
  },
  {
   "cell_type": "code",
   "execution_count": 32,
   "metadata": {},
   "outputs": [
    {
     "data": {
      "text/plain": [
       "DecisionTreeClassifier(random_state=0)"
      ]
     },
     "execution_count": 32,
     "metadata": {},
     "output_type": "execute_result"
    }
   ],
   "source": [
    "dtc_classifier_tfidf = DecisionTreeClassifier(random_state = 0)\n",
    "dtc_classifier_tfidf.fit(X_train_tfidf, y_train_tfidf)"
   ]
  },
  {
   "cell_type": "code",
   "execution_count": 33,
   "metadata": {},
   "outputs": [
    {
     "name": "stdout",
     "output_type": "stream",
     "text": [
      "Accuracy is: 0.7826044238114538\n",
      "------------------------------------------------------------\n",
      "              precision    recall  f1-score   support\n",
      "\n",
      "    negative       0.63      0.60      0.62     14910\n",
      "     neutral       0.81      0.83      0.82     29454\n",
      "    positive       0.82      0.82      0.82     37059\n",
      "\n",
      "    accuracy                           0.78     81423\n",
      "   macro avg       0.75      0.75      0.75     81423\n",
      "weighted avg       0.78      0.78      0.78     81423\n",
      "\n"
     ]
    }
   ],
   "source": [
    "y_pred_DT_tfidf = dtc_classifier_tfidf.predict(X_test_tfidf)\n",
    "print(\"Accuracy is:\", metrics.accuracy_score(y_test_tfidf, y_pred_DT_tfidf))\n",
    "print(\"-\"*60)                         \n",
    "print(classification_report(y_test_tfidf, y_pred_DT_tfidf))"
   ]
  },
  {
   "cell_type": "code",
   "execution_count": 37,
   "metadata": {},
   "outputs": [
    {
     "name": "stdout",
     "output_type": "stream",
     "text": [
      "All accuracy scores:\n",
      "Accuracy without TFIDFVectors\n",
      "Accuracy for Multinomial NB: 0.5321223732851897\n",
      "Accuracy for RandomForest: 0.6385050906991881\n",
      "Accuracy for DecisionTree: 0.5443793522714712\n",
      "----------------------------------------------------------------------\n",
      "Accuracy with TFIDFVectors\n",
      "Accuracy for Multinomial NB: 0.7569974085946232\n",
      "Accuracy for RandomForest: 0.8116134261817913\n",
      "Accuracy for DecisionTree: 0.7826044238114538\n"
     ]
    }
   ],
   "source": [
    "print(\"All accuracy scores:\") \n",
    "print(\"Accuracy without TFIDFVectors\")\n",
    "print(\"Accuracy for Multinomial NB:\", metrics.accuracy_score(y_test, y_pred_NB))\n",
    "print(\"Accuracy for RandomForest:\", metrics.accuracy_score(y_test, y_pred_RF))\n",
    "print(\"Accuracy for DecisionTree:\", metrics.accuracy_score(y_test, y_pred_DT))\n",
    "print(\"-\"*70)\n",
    "print(\"Accuracy with TFIDFVectors\")\n",
    "print(\"Accuracy for Multinomial NB:\", metrics.accuracy_score(y_test_tfidf, y_pred_NB_tfidf))\n",
    "print(\"Accuracy for RandomForest:\", metrics.accuracy_score(y_test_tfidf, y_pred_RF_tfidf))\n",
    "print(\"Accuracy for DecisionTree:\", metrics.accuracy_score(y_test_tfidf, y_pred_DT_tfidf))"
   ]
  },
  {
   "cell_type": "code",
   "execution_count": null,
   "metadata": {},
   "outputs": [],
   "source": []
  }
 ],
 "metadata": {
  "kernelspec": {
   "display_name": "learn-env",
   "language": "python",
   "name": "learn-env"
  },
  "language_info": {
   "codemirror_mode": {
    "name": "ipython",
    "version": 3
   },
   "file_extension": ".py",
   "mimetype": "text/x-python",
   "name": "python",
   "nbconvert_exporter": "python",
   "pygments_lexer": "ipython3",
   "version": "3.6.10"
  }
 },
 "nbformat": 4,
 "nbformat_minor": 4
}
